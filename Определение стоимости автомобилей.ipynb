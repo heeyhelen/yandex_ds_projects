{
 "cells": [
  {
   "cell_type": "markdown",
   "metadata": {},
   "source": [
    "# Определение стоимости автомобилей"
   ]
  },
  {
   "cell_type": "markdown",
   "metadata": {},
   "source": [
    "Сервис по продаже автомобилей с пробегом «Не бит, не крашен» разрабатывает приложение для привлечения новых клиентов. В нём можно быстро узнать рыночную стоимость своего автомобиля. \n",
    "\n",
    "**Задача:** построить модель для определения стоимости. \n",
    "\n",
    "*Условия*:\n",
    "1. Оценка качества моделей метрикой RMSE;\n",
    "2. Значение метрики RMSE должно быть меньше 2500.\n",
    "\n",
    "Заказчику важны:\n",
    "- качество предсказания;\n",
    "- скорость предсказания;\n",
    "- время обучения.\n",
    "\n"
   ]
  },
  {
   "cell_type": "markdown",
   "metadata": {},
   "source": [
    "# План работы\n",
    "\n",
    "1. Первичная обработка данных;\n",
    "2. Подготовка выборок;\n",
    "3. Обучение моделей;\n",
    "4. Анализ времени обучения, времени предсказания и качества моделей;\n",
    "5. Проверка лучшей модели на качество.\n"
   ]
  },
  {
   "cell_type": "markdown",
   "metadata": {},
   "source": [
    "# Описание данных\n",
    "\n",
    "В нашем распоряжении исторические данные: технические характеристики, комплектации и цены автомобилей.\n",
    "Скачать датасет: https://code.s3.yandex.net/datasets/autos.csv\n",
    "\n",
    "\n",
    "*Признаки:*\n",
    "\n",
    "DateCrawled — дата скачивания анкеты из базы\n",
    "\n",
    "VehicleType — тип автомобильного кузова\n",
    "\n",
    "RegistrationYear — год регистрации автомобиля\n",
    "\n",
    "Gearbox — тип коробки передач\n",
    "\n",
    "Power — мощность (л. с.)\n",
    "\n",
    "Model — модель автомобиля\n",
    "\n",
    "Kilometer — пробег (км)\n",
    "\n",
    "RegistrationMonth — месяц регистрации автомобиля\n",
    "\n",
    "FuelType — тип топлива\n",
    "\n",
    "Brand — марка автомобиля\n",
    "\n",
    "Repaired — была машина в ремонте или нет\n",
    "\n",
    "DateCreated — дата создания анкеты\n",
    "\n",
    "NumberOfPictures — количество фотографий автомобиля\n",
    "\n",
    "PostalCode — почтовый индекс владельца анкеты (пользователя)\n",
    "\n",
    "LastSeen — дата последней активности пользователя\n",
    "\n",
    "*Целевой признак:*\n",
    "\n",
    "Price — цена (евро)"
   ]
  },
  {
   "cell_type": "markdown",
   "metadata": {},
   "source": [
    "## Подключение необходимых библиотек"
   ]
  },
  {
   "cell_type": "code",
   "execution_count": 82,
   "metadata": {
    "scrolled": true
   },
   "outputs": [
    {
     "name": "stdout",
     "output_type": "stream",
     "text": [
      "Requirement already satisfied: pandas_profiling in c:\\anaconda\\lib\\site-packages (3.5.0)\n",
      "Requirement already satisfied: sweetviz in c:\\anaconda\\lib\\site-packages (2.1.4)\n",
      "Requirement already satisfied: pydantic<1.11,>=1.8.1 in c:\\anaconda\\lib\\site-packages (from pandas_profiling) (1.10.2)\n",
      "Requirement already satisfied: visions[type_image_path]==0.7.5 in c:\\anaconda\\lib\\site-packages (from pandas_profiling) (0.7.5)\n",
      "Requirement already satisfied: numpy<1.24,>=1.16.0 in c:\\anaconda\\lib\\site-packages (from pandas_profiling) (1.23.5)\n",
      "Requirement already satisfied: seaborn<0.13,>=0.10.1 in c:\\anaconda\\lib\\site-packages (from pandas_profiling) (0.12.2)\n",
      "Requirement already satisfied: matplotlib<3.7,>=3.2 in c:\\anaconda\\lib\\site-packages (from pandas_profiling) (3.6.2)\n",
      "Requirement already satisfied: multimethod<1.10,>=1.4 in c:\\anaconda\\lib\\site-packages (from pandas_profiling) (1.9)\n",
      "Requirement already satisfied: PyYAML<6.1,>=5.0.0 in c:\\anaconda\\lib\\site-packages (from pandas_profiling) (6.0)\n",
      "Requirement already satisfied: pandas!=1.4.0,<1.6,>1.1 in c:\\anaconda\\lib\\site-packages (from pandas_profiling) (1.5.3)\n",
      "Requirement already satisfied: htmlmin==0.1.12 in c:\\anaconda\\lib\\site-packages (from pandas_profiling) (0.1.12)\n",
      "Requirement already satisfied: statsmodels<0.14,>=0.13.2 in c:\\anaconda\\lib\\site-packages (from pandas_profiling) (0.13.5)\n",
      "Requirement already satisfied: scipy<1.10,>=1.4.1 in c:\\anaconda\\lib\\site-packages (from pandas_profiling) (1.9.3)\n",
      "Requirement already satisfied: phik<0.13,>=0.11.1 in c:\\anaconda\\lib\\site-packages (from pandas_profiling) (0.12.3)\n",
      "Requirement already satisfied: typeguard<2.14,>=2.13.2 in c:\\anaconda\\lib\\site-packages (from pandas_profiling) (2.13.3)\n",
      "Requirement already satisfied: jinja2<3.2,>=2.11.1 in c:\\anaconda\\lib\\site-packages (from pandas_profiling) (2.11.3)\n",
      "Requirement already satisfied: tqdm<4.65,>=4.48.2 in c:\\anaconda\\lib\\site-packages (from pandas_profiling) (4.64.1)\n",
      "Requirement already satisfied: requests<2.29,>=2.24.0 in c:\\anaconda\\lib\\site-packages (from pandas_profiling) (2.28.1)\n",
      "Requirement already satisfied: attrs>=19.3.0 in c:\\anaconda\\lib\\site-packages (from visions[type_image_path]==0.7.5->pandas_profiling) (22.1.0)\n",
      "Requirement already satisfied: tangled-up-in-unicode>=0.0.4 in c:\\anaconda\\lib\\site-packages (from visions[type_image_path]==0.7.5->pandas_profiling) (0.2.0)\n",
      "Requirement already satisfied: networkx>=2.4 in c:\\anaconda\\lib\\site-packages (from visions[type_image_path]==0.7.5->pandas_profiling) (2.8.4)\n",
      "Requirement already satisfied: Pillow in c:\\anaconda\\lib\\site-packages (from visions[type_image_path]==0.7.5->pandas_profiling) (9.3.0)\n",
      "Requirement already satisfied: imagehash in c:\\anaconda\\lib\\site-packages (from visions[type_image_path]==0.7.5->pandas_profiling) (4.3.1)\n",
      "Requirement already satisfied: importlib-resources>=1.2.0 in c:\\anaconda\\lib\\site-packages (from sweetviz) (5.10.2)\n",
      "Requirement already satisfied: zipp>=3.1.0 in c:\\anaconda\\lib\\site-packages (from importlib-resources>=1.2.0->sweetviz) (3.11.0)\n",
      "Requirement already satisfied: MarkupSafe>=0.23 in c:\\anaconda\\lib\\site-packages (from jinja2<3.2,>=2.11.1->pandas_profiling) (2.0.1)\n",
      "Requirement already satisfied: contourpy>=1.0.1 in c:\\anaconda\\lib\\site-packages (from matplotlib<3.7,>=3.2->pandas_profiling) (1.0.7)\n",
      "Requirement already satisfied: cycler>=0.10 in c:\\anaconda\\lib\\site-packages (from matplotlib<3.7,>=3.2->pandas_profiling) (0.11.0)\n",
      "Requirement already satisfied: pyparsing>=2.2.1 in c:\\anaconda\\lib\\site-packages (from matplotlib<3.7,>=3.2->pandas_profiling) (3.0.9)\n",
      "Requirement already satisfied: kiwisolver>=1.0.1 in c:\\anaconda\\lib\\site-packages (from matplotlib<3.7,>=3.2->pandas_profiling) (1.4.4)\n",
      "Requirement already satisfied: python-dateutil>=2.7 in c:\\anaconda\\lib\\site-packages (from matplotlib<3.7,>=3.2->pandas_profiling) (2.8.2)\n",
      "Requirement already satisfied: fonttools>=4.22.0 in c:\\anaconda\\lib\\site-packages (from matplotlib<3.7,>=3.2->pandas_profiling) (4.25.0)\n",
      "Requirement already satisfied: packaging>=20.0 in c:\\anaconda\\lib\\site-packages (from matplotlib<3.7,>=3.2->pandas_profiling) (22.0)\n",
      "Requirement already satisfied: pytz>=2020.1 in c:\\anaconda\\lib\\site-packages (from pandas!=1.4.0,<1.6,>1.1->pandas_profiling) (2022.7)\n",
      "Requirement already satisfied: joblib>=0.14.1 in c:\\anaconda\\lib\\site-packages (from phik<0.13,>=0.11.1->pandas_profiling) (1.1.1)\n",
      "Requirement already satisfied: typing-extensions>=4.1.0 in c:\\anaconda\\lib\\site-packages (from pydantic<1.11,>=1.8.1->pandas_profiling) (4.4.0)\n",
      "Requirement already satisfied: urllib3<1.27,>=1.21.1 in c:\\anaconda\\lib\\site-packages (from requests<2.29,>=2.24.0->pandas_profiling) (1.26.14)\n",
      "Requirement already satisfied: charset-normalizer<3,>=2 in c:\\anaconda\\lib\\site-packages (from requests<2.29,>=2.24.0->pandas_profiling) (2.0.4)\n",
      "Requirement already satisfied: idna<4,>=2.5 in c:\\anaconda\\lib\\site-packages (from requests<2.29,>=2.24.0->pandas_profiling) (3.4)\n",
      "Requirement already satisfied: certifi>=2017.4.17 in c:\\anaconda\\lib\\site-packages (from requests<2.29,>=2.24.0->pandas_profiling) (2022.12.7)\n",
      "Requirement already satisfied: patsy>=0.5.2 in c:\\anaconda\\lib\\site-packages (from statsmodels<0.14,>=0.13.2->pandas_profiling) (0.5.3)\n",
      "Requirement already satisfied: colorama in c:\\anaconda\\lib\\site-packages (from tqdm<4.65,>=4.48.2->pandas_profiling) (0.4.6)\n",
      "Requirement already satisfied: six in c:\\anaconda\\lib\\site-packages (from patsy>=0.5.2->statsmodels<0.14,>=0.13.2->pandas_profiling) (1.16.0)\n",
      "Requirement already satisfied: PyWavelets in c:\\anaconda\\lib\\site-packages (from imagehash->visions[type_image_path]==0.7.5->pandas_profiling) (1.4.1)\n"
     ]
    },
    {
     "name": "stderr",
     "output_type": "stream",
     "text": [
      "WARNING: Ignoring invalid distribution -atplotlib (c:\\anaconda\\lib\\site-packages)\n",
      "WARNING: Ignoring invalid distribution -atplotlib (c:\\anaconda\\lib\\site-packages)\n",
      "WARNING: Ignoring invalid distribution -atplotlib (c:\\anaconda\\lib\\site-packages)\n",
      "WARNING: Ignoring invalid distribution -atplotlib (c:\\anaconda\\lib\\site-packages)\n",
      "WARNING: Ignoring invalid distribution -atplotlib (c:\\anaconda\\lib\\site-packages)\n",
      "WARNING: Ignoring invalid distribution -atplotlib (c:\\anaconda\\lib\\site-packages)\n"
     ]
    }
   ],
   "source": [
    "!pip install pandas_profiling sweetviz"
   ]
  },
  {
   "cell_type": "code",
   "execution_count": 83,
   "metadata": {},
   "outputs": [],
   "source": [
    "import os\n",
    "import pandas as pd\n",
    "import numpy as np\n",
    "import warnings\n",
    "import lightgbm as lgb\n",
    "import random\n",
    "import math\n",
    "import matplotlib.pyplot as plt\n",
    "%matplotlib inline\n",
    "from matplotlib import pyplot\n",
    "\n",
    "from sklearn.metrics import make_scorer, mean_squared_error\n",
    "from sklearn.model_selection import train_test_split, cross_val_score, RandomizedSearchCV\n",
    "from sklearn.preprocessing import StandardScaler, OrdinalEncoder, OneHotEncoder\n",
    "from sklearn.dummy import DummyRegressor\n",
    "from sklearn.linear_model import LinearRegression\n",
    "from sklearn.ensemble import RandomForestRegressor, GradientBoostingRegressor\n",
    "\n",
    "from catboost import CatBoostRegressor\n",
    "from scipy.stats import uniform as sp_randFloat \n",
    "from lightgbm import LGBMRegressor\n",
    "from xgboost import XGBRegressor\n",
    "\n",
    "from pandas_profiling import ProfileReport\n",
    "import random\n",
    "import sweetviz as sv\n",
    "from IPython.display import IFrame"
   ]
  },
  {
   "cell_type": "markdown",
   "metadata": {},
   "source": [
    "### Игнорируем предупреждения"
   ]
  },
  {
   "cell_type": "code",
   "execution_count": 84,
   "metadata": {},
   "outputs": [],
   "source": [
    "warnings.filterwarnings(\"ignore\")\n",
    "pd.options.mode.chained_assignment = None"
   ]
  },
  {
   "cell_type": "markdown",
   "metadata": {},
   "source": [
    "### Объявление констант"
   ]
  },
  {
   "cell_type": "code",
   "execution_count": 85,
   "metadata": {},
   "outputs": [],
   "source": [
    "RS = 12345\n",
    "CV = 3"
   ]
  },
  {
   "cell_type": "markdown",
   "metadata": {},
   "source": [
    "## Подготовка данных"
   ]
  },
  {
   "cell_type": "markdown",
   "metadata": {},
   "source": [
    "### Знакомство с данными"
   ]
  },
  {
   "cell_type": "code",
   "execution_count": 86,
   "metadata": {},
   "outputs": [],
   "source": [
    "pth_1 = r'C:\\Users\\Елена Тюлькина\\Downloads\\autos.csv'\n",
    "pth_2 = 'autos.csv'\n",
    "\n",
    "if os.path.exists(pth_1):\n",
    "    df_autos = pd.read_csv(pth_1)\n",
    "elif os.path.exists(pth_2):\n",
    "    df_autos = pd.read_csv(pth_2)\n",
    "else:\n",
    "    df_autos = pd.read_csv('https://code.s3.yandex.net/datasets/autos.csv')"
   ]
  },
  {
   "cell_type": "code",
   "execution_count": 87,
   "metadata": {},
   "outputs": [],
   "source": [
    "def hello_data(data):\n",
    "    \n",
    "    display(data.head(5))\n",
    "    \n",
    "    print(data.info())\n",
    "    \n",
    "    print(data.describe())\n",
    "    \n",
    "    print('Дубликатов в таблице:', data.duplicated().sum())\n",
    "    \n",
    "    print('Форма таблицы:{}'.format(data.shape))\n",
    "    \n",
    "    data.hist(figsize=(15, 20));\n",
    "    \n",
    "    return (data.isna().mean()*100).sort_values(ascending=False).to_frame().rename(\n",
    "    columns = {0:'Процент_пропусков'}).style.background_gradient('coolwarm').format(\"{:.1f}\")"
   ]
  },
  {
   "cell_type": "code",
   "execution_count": 88,
   "metadata": {
    "scrolled": true
   },
   "outputs": [
    {
     "data": {
      "text/html": [
       "<div>\n",
       "<style scoped>\n",
       "    .dataframe tbody tr th:only-of-type {\n",
       "        vertical-align: middle;\n",
       "    }\n",
       "\n",
       "    .dataframe tbody tr th {\n",
       "        vertical-align: top;\n",
       "    }\n",
       "\n",
       "    .dataframe thead th {\n",
       "        text-align: right;\n",
       "    }\n",
       "</style>\n",
       "<table border=\"1\" class=\"dataframe\">\n",
       "  <thead>\n",
       "    <tr style=\"text-align: right;\">\n",
       "      <th></th>\n",
       "      <th>DateCrawled</th>\n",
       "      <th>Price</th>\n",
       "      <th>VehicleType</th>\n",
       "      <th>RegistrationYear</th>\n",
       "      <th>Gearbox</th>\n",
       "      <th>Power</th>\n",
       "      <th>Model</th>\n",
       "      <th>Kilometer</th>\n",
       "      <th>RegistrationMonth</th>\n",
       "      <th>FuelType</th>\n",
       "      <th>Brand</th>\n",
       "      <th>Repaired</th>\n",
       "      <th>DateCreated</th>\n",
       "      <th>NumberOfPictures</th>\n",
       "      <th>PostalCode</th>\n",
       "      <th>LastSeen</th>\n",
       "    </tr>\n",
       "  </thead>\n",
       "  <tbody>\n",
       "    <tr>\n",
       "      <th>0</th>\n",
       "      <td>2016-03-24 11:52:17</td>\n",
       "      <td>480</td>\n",
       "      <td>NaN</td>\n",
       "      <td>1993</td>\n",
       "      <td>manual</td>\n",
       "      <td>0</td>\n",
       "      <td>golf</td>\n",
       "      <td>150000</td>\n",
       "      <td>0</td>\n",
       "      <td>petrol</td>\n",
       "      <td>volkswagen</td>\n",
       "      <td>NaN</td>\n",
       "      <td>2016-03-24 00:00:00</td>\n",
       "      <td>0</td>\n",
       "      <td>70435</td>\n",
       "      <td>2016-04-07 03:16:57</td>\n",
       "    </tr>\n",
       "    <tr>\n",
       "      <th>1</th>\n",
       "      <td>2016-03-24 10:58:45</td>\n",
       "      <td>18300</td>\n",
       "      <td>coupe</td>\n",
       "      <td>2011</td>\n",
       "      <td>manual</td>\n",
       "      <td>190</td>\n",
       "      <td>NaN</td>\n",
       "      <td>125000</td>\n",
       "      <td>5</td>\n",
       "      <td>gasoline</td>\n",
       "      <td>audi</td>\n",
       "      <td>yes</td>\n",
       "      <td>2016-03-24 00:00:00</td>\n",
       "      <td>0</td>\n",
       "      <td>66954</td>\n",
       "      <td>2016-04-07 01:46:50</td>\n",
       "    </tr>\n",
       "    <tr>\n",
       "      <th>2</th>\n",
       "      <td>2016-03-14 12:52:21</td>\n",
       "      <td>9800</td>\n",
       "      <td>suv</td>\n",
       "      <td>2004</td>\n",
       "      <td>auto</td>\n",
       "      <td>163</td>\n",
       "      <td>grand</td>\n",
       "      <td>125000</td>\n",
       "      <td>8</td>\n",
       "      <td>gasoline</td>\n",
       "      <td>jeep</td>\n",
       "      <td>NaN</td>\n",
       "      <td>2016-03-14 00:00:00</td>\n",
       "      <td>0</td>\n",
       "      <td>90480</td>\n",
       "      <td>2016-04-05 12:47:46</td>\n",
       "    </tr>\n",
       "    <tr>\n",
       "      <th>3</th>\n",
       "      <td>2016-03-17 16:54:04</td>\n",
       "      <td>1500</td>\n",
       "      <td>small</td>\n",
       "      <td>2001</td>\n",
       "      <td>manual</td>\n",
       "      <td>75</td>\n",
       "      <td>golf</td>\n",
       "      <td>150000</td>\n",
       "      <td>6</td>\n",
       "      <td>petrol</td>\n",
       "      <td>volkswagen</td>\n",
       "      <td>no</td>\n",
       "      <td>2016-03-17 00:00:00</td>\n",
       "      <td>0</td>\n",
       "      <td>91074</td>\n",
       "      <td>2016-03-17 17:40:17</td>\n",
       "    </tr>\n",
       "    <tr>\n",
       "      <th>4</th>\n",
       "      <td>2016-03-31 17:25:20</td>\n",
       "      <td>3600</td>\n",
       "      <td>small</td>\n",
       "      <td>2008</td>\n",
       "      <td>manual</td>\n",
       "      <td>69</td>\n",
       "      <td>fabia</td>\n",
       "      <td>90000</td>\n",
       "      <td>7</td>\n",
       "      <td>gasoline</td>\n",
       "      <td>skoda</td>\n",
       "      <td>no</td>\n",
       "      <td>2016-03-31 00:00:00</td>\n",
       "      <td>0</td>\n",
       "      <td>60437</td>\n",
       "      <td>2016-04-06 10:17:21</td>\n",
       "    </tr>\n",
       "  </tbody>\n",
       "</table>\n",
       "</div>"
      ],
      "text/plain": [
       "           DateCrawled  Price VehicleType  RegistrationYear Gearbox  Power  \\\n",
       "0  2016-03-24 11:52:17    480         NaN              1993  manual      0   \n",
       "1  2016-03-24 10:58:45  18300       coupe              2011  manual    190   \n",
       "2  2016-03-14 12:52:21   9800         suv              2004    auto    163   \n",
       "3  2016-03-17 16:54:04   1500       small              2001  manual     75   \n",
       "4  2016-03-31 17:25:20   3600       small              2008  manual     69   \n",
       "\n",
       "   Model  Kilometer  RegistrationMonth  FuelType       Brand Repaired  \\\n",
       "0   golf     150000                  0    petrol  volkswagen      NaN   \n",
       "1    NaN     125000                  5  gasoline        audi      yes   \n",
       "2  grand     125000                  8  gasoline        jeep      NaN   \n",
       "3   golf     150000                  6    petrol  volkswagen       no   \n",
       "4  fabia      90000                  7  gasoline       skoda       no   \n",
       "\n",
       "           DateCreated  NumberOfPictures  PostalCode             LastSeen  \n",
       "0  2016-03-24 00:00:00                 0       70435  2016-04-07 03:16:57  \n",
       "1  2016-03-24 00:00:00                 0       66954  2016-04-07 01:46:50  \n",
       "2  2016-03-14 00:00:00                 0       90480  2016-04-05 12:47:46  \n",
       "3  2016-03-17 00:00:00                 0       91074  2016-03-17 17:40:17  \n",
       "4  2016-03-31 00:00:00                 0       60437  2016-04-06 10:17:21  "
      ]
     },
     "metadata": {},
     "output_type": "display_data"
    },
    {
     "name": "stdout",
     "output_type": "stream",
     "text": [
      "<class 'pandas.core.frame.DataFrame'>\n",
      "RangeIndex: 354369 entries, 0 to 354368\n",
      "Data columns (total 16 columns):\n",
      " #   Column             Non-Null Count   Dtype \n",
      "---  ------             --------------   ----- \n",
      " 0   DateCrawled        354369 non-null  object\n",
      " 1   Price              354369 non-null  int64 \n",
      " 2   VehicleType        316879 non-null  object\n",
      " 3   RegistrationYear   354369 non-null  int64 \n",
      " 4   Gearbox            334536 non-null  object\n",
      " 5   Power              354369 non-null  int64 \n",
      " 6   Model              334664 non-null  object\n",
      " 7   Kilometer          354369 non-null  int64 \n",
      " 8   RegistrationMonth  354369 non-null  int64 \n",
      " 9   FuelType           321474 non-null  object\n",
      " 10  Brand              354369 non-null  object\n",
      " 11  Repaired           283215 non-null  object\n",
      " 12  DateCreated        354369 non-null  object\n",
      " 13  NumberOfPictures   354369 non-null  int64 \n",
      " 14  PostalCode         354369 non-null  int64 \n",
      " 15  LastSeen           354369 non-null  object\n",
      "dtypes: int64(7), object(9)\n",
      "memory usage: 43.3+ MB\n",
      "None\n",
      "               Price  RegistrationYear          Power      Kilometer  \\\n",
      "count  354369.000000     354369.000000  354369.000000  354369.000000   \n",
      "mean     4416.656776       2004.234448     110.094337  128211.172535   \n",
      "std      4514.158514         90.227958     189.850405   37905.341530   \n",
      "min         0.000000       1000.000000       0.000000    5000.000000   \n",
      "25%      1050.000000       1999.000000      69.000000  125000.000000   \n",
      "50%      2700.000000       2003.000000     105.000000  150000.000000   \n",
      "75%      6400.000000       2008.000000     143.000000  150000.000000   \n",
      "max     20000.000000       9999.000000   20000.000000  150000.000000   \n",
      "\n",
      "       RegistrationMonth  NumberOfPictures     PostalCode  \n",
      "count      354369.000000          354369.0  354369.000000  \n",
      "mean            5.714645               0.0   50508.689087  \n",
      "std             3.726421               0.0   25783.096248  \n",
      "min             0.000000               0.0    1067.000000  \n",
      "25%             3.000000               0.0   30165.000000  \n",
      "50%             6.000000               0.0   49413.000000  \n",
      "75%             9.000000               0.0   71083.000000  \n",
      "max            12.000000               0.0   99998.000000  \n",
      "Дубликатов в таблице: 4\n",
      "Форма таблицы:(354369, 16)\n"
     ]
    },
    {
     "data": {
      "text/html": [
       "<style type=\"text/css\">\n",
       "#T_97765_row0_col0 {\n",
       "  background-color: #b40426;\n",
       "  color: #f1f1f1;\n",
       "}\n",
       "#T_97765_row1_col0 {\n",
       "  background-color: #e3d9d3;\n",
       "  color: #000000;\n",
       "}\n",
       "#T_97765_row2_col0 {\n",
       "  background-color: #d3dbe7;\n",
       "  color: #000000;\n",
       "}\n",
       "#T_97765_row3_col0 {\n",
       "  background-color: #97b8ff;\n",
       "  color: #000000;\n",
       "}\n",
       "#T_97765_row4_col0 {\n",
       "  background-color: #96b7ff;\n",
       "  color: #000000;\n",
       "}\n",
       "#T_97765_row5_col0, #T_97765_row6_col0, #T_97765_row7_col0, #T_97765_row8_col0, #T_97765_row9_col0, #T_97765_row10_col0, #T_97765_row11_col0, #T_97765_row12_col0, #T_97765_row13_col0, #T_97765_row14_col0, #T_97765_row15_col0 {\n",
       "  background-color: #3b4cc0;\n",
       "  color: #f1f1f1;\n",
       "}\n",
       "</style>\n",
       "<table id=\"T_97765\">\n",
       "  <thead>\n",
       "    <tr>\n",
       "      <th class=\"blank level0\" >&nbsp;</th>\n",
       "      <th id=\"T_97765_level0_col0\" class=\"col_heading level0 col0\" >Процент_пропусков</th>\n",
       "    </tr>\n",
       "  </thead>\n",
       "  <tbody>\n",
       "    <tr>\n",
       "      <th id=\"T_97765_level0_row0\" class=\"row_heading level0 row0\" >Repaired</th>\n",
       "      <td id=\"T_97765_row0_col0\" class=\"data row0 col0\" >20.1</td>\n",
       "    </tr>\n",
       "    <tr>\n",
       "      <th id=\"T_97765_level0_row1\" class=\"row_heading level0 row1\" >VehicleType</th>\n",
       "      <td id=\"T_97765_row1_col0\" class=\"data row1 col0\" >10.6</td>\n",
       "    </tr>\n",
       "    <tr>\n",
       "      <th id=\"T_97765_level0_row2\" class=\"row_heading level0 row2\" >FuelType</th>\n",
       "      <td id=\"T_97765_row2_col0\" class=\"data row2 col0\" >9.3</td>\n",
       "    </tr>\n",
       "    <tr>\n",
       "      <th id=\"T_97765_level0_row3\" class=\"row_heading level0 row3\" >Gearbox</th>\n",
       "      <td id=\"T_97765_row3_col0\" class=\"data row3 col0\" >5.6</td>\n",
       "    </tr>\n",
       "    <tr>\n",
       "      <th id=\"T_97765_level0_row4\" class=\"row_heading level0 row4\" >Model</th>\n",
       "      <td id=\"T_97765_row4_col0\" class=\"data row4 col0\" >5.6</td>\n",
       "    </tr>\n",
       "    <tr>\n",
       "      <th id=\"T_97765_level0_row5\" class=\"row_heading level0 row5\" >DateCrawled</th>\n",
       "      <td id=\"T_97765_row5_col0\" class=\"data row5 col0\" >0.0</td>\n",
       "    </tr>\n",
       "    <tr>\n",
       "      <th id=\"T_97765_level0_row6\" class=\"row_heading level0 row6\" >Price</th>\n",
       "      <td id=\"T_97765_row6_col0\" class=\"data row6 col0\" >0.0</td>\n",
       "    </tr>\n",
       "    <tr>\n",
       "      <th id=\"T_97765_level0_row7\" class=\"row_heading level0 row7\" >RegistrationYear</th>\n",
       "      <td id=\"T_97765_row7_col0\" class=\"data row7 col0\" >0.0</td>\n",
       "    </tr>\n",
       "    <tr>\n",
       "      <th id=\"T_97765_level0_row8\" class=\"row_heading level0 row8\" >Power</th>\n",
       "      <td id=\"T_97765_row8_col0\" class=\"data row8 col0\" >0.0</td>\n",
       "    </tr>\n",
       "    <tr>\n",
       "      <th id=\"T_97765_level0_row9\" class=\"row_heading level0 row9\" >Kilometer</th>\n",
       "      <td id=\"T_97765_row9_col0\" class=\"data row9 col0\" >0.0</td>\n",
       "    </tr>\n",
       "    <tr>\n",
       "      <th id=\"T_97765_level0_row10\" class=\"row_heading level0 row10\" >RegistrationMonth</th>\n",
       "      <td id=\"T_97765_row10_col0\" class=\"data row10 col0\" >0.0</td>\n",
       "    </tr>\n",
       "    <tr>\n",
       "      <th id=\"T_97765_level0_row11\" class=\"row_heading level0 row11\" >Brand</th>\n",
       "      <td id=\"T_97765_row11_col0\" class=\"data row11 col0\" >0.0</td>\n",
       "    </tr>\n",
       "    <tr>\n",
       "      <th id=\"T_97765_level0_row12\" class=\"row_heading level0 row12\" >DateCreated</th>\n",
       "      <td id=\"T_97765_row12_col0\" class=\"data row12 col0\" >0.0</td>\n",
       "    </tr>\n",
       "    <tr>\n",
       "      <th id=\"T_97765_level0_row13\" class=\"row_heading level0 row13\" >NumberOfPictures</th>\n",
       "      <td id=\"T_97765_row13_col0\" class=\"data row13 col0\" >0.0</td>\n",
       "    </tr>\n",
       "    <tr>\n",
       "      <th id=\"T_97765_level0_row14\" class=\"row_heading level0 row14\" >PostalCode</th>\n",
       "      <td id=\"T_97765_row14_col0\" class=\"data row14 col0\" >0.0</td>\n",
       "    </tr>\n",
       "    <tr>\n",
       "      <th id=\"T_97765_level0_row15\" class=\"row_heading level0 row15\" >LastSeen</th>\n",
       "      <td id=\"T_97765_row15_col0\" class=\"data row15 col0\" >0.0</td>\n",
       "    </tr>\n",
       "  </tbody>\n",
       "</table>\n"
      ],
      "text/plain": [
       "<pandas.io.formats.style.Styler at 0x216ad012be0>"
      ]
     },
     "execution_count": 88,
     "metadata": {},
     "output_type": "execute_result"
    },
    {
     "data": {
      "image/png": "[encoded data removed]",
      "text/plain": [
       "<Figure size 1500x2000 with 9 Axes>"
      ]
     },
     "metadata": {},
     "output_type": "display_data"
    }
   ],
   "source": [
    "hello_data(df_autos)"
   ]
  },
  {
   "cell_type": "code",
   "execution_count": 89,
   "metadata": {},
   "outputs": [
    {
     "data": {
      "text/plain": [
       "<AxesSubplot: >"
      ]
     },
     "execution_count": 89,
     "metadata": {},
     "output_type": "execute_result"
    },
    {
     "data": {
      "image/png": "[encoded data removed]",
      "text/plain": [
       "<Figure size 640x480 with 1 Axes>"
      ]
     },
     "metadata": {},
     "output_type": "display_data"
    }
   ],
   "source": [
    "df_autos.boxplot(column='Price', grid=True, fontsize=15)"
   ]
  },
  {
   "cell_type": "code",
   "execution_count": 90,
   "metadata": {},
   "outputs": [
    {
     "data": {
      "text/plain": [
       "<AxesSubplot: >"
      ]
     },
     "execution_count": 90,
     "metadata": {},
     "output_type": "execute_result"
    },
    {
     "data": {
      "image/png": "[encoded data removed]",
      "text/plain": [
       "<Figure size 640x480 with 1 Axes>"
      ]
     },
     "metadata": {},
     "output_type": "display_data"
    }
   ],
   "source": [
    "df_autos.boxplot(column='Power', grid=True, fontsize=15)"
   ]
  },
  {
   "cell_type": "markdown",
   "metadata": {},
   "source": [
    "Максимум лошадиных сил на сегодняшний день - 2028 (Dagger GT компании TranStar Racing LLC). На графике видны явные аномалии в виде неземных высоких мощностей."
   ]
  },
  {
   "cell_type": "code",
   "execution_count": 91,
   "metadata": {},
   "outputs": [
    {
     "data": {
      "text/plain": [
       "<AxesSubplot: >"
      ]
     },
     "execution_count": 91,
     "metadata": {},
     "output_type": "execute_result"
    },
    {
     "data": {
      "image/png": "[encoded data removed]",
      "text/plain": [
       "<Figure size 640x480 with 1 Axes>"
      ]
     },
     "metadata": {},
     "output_type": "display_data"
    }
   ],
   "source": [
    "df_autos.boxplot(column='Kilometer', grid=True, fontsize=15)"
   ]
  },
  {
   "cell_type": "code",
   "execution_count": 92,
   "metadata": {},
   "outputs": [
    {
     "data": {
      "text/plain": [
       "<AxesSubplot: >"
      ]
     },
     "execution_count": 92,
     "metadata": {},
     "output_type": "execute_result"
    },
    {
     "data": {
      "image/png": "[encoded data removed]",
      "text/plain": [
       "<Figure size 640x480 with 1 Axes>"
      ]
     },
     "metadata": {},
     "output_type": "display_data"
    }
   ],
   "source": [
    "df_autos.boxplot(column='RegistrationYear', grid=True, fontsize=15)"
   ]
  },
  {
   "cell_type": "markdown",
   "metadata": {},
   "source": [
    "Путешествуем в будущее: в 2023г у нас есть данные из 10000г :)"
   ]
  },
  {
   "cell_type": "markdown",
   "metadata": {},
   "source": [
    "**По первичному взгляду на данные увидели следующие проблемы:**\n",
    "1. Пропуски в 5 столбцах;\n",
    "2. Типы данных не соответствующие: DateCrawled, DateCreated, LastSeen - тип object. Более того, в обучении модели данные признаки будут не информативными;\n",
    "3. 4 дубликата;\n",
    "4. Все нулевые значения в стоблце с кол-вом картинок;\n",
    "5. Аномальные значения в столбцах RegistrationYear и Power;\n",
    "6. В столбце RegistrationMonth месяца 0-12, а должно быть 1-12.\n",
    "\n",
    "Точек данных = 354369, признаков = 16."
   ]
  },
  {
   "cell_type": "markdown",
   "metadata": {},
   "source": [
    "### Предобработка данных\n",
    "\n",
    "#### Редактируем названия столбцов"
   ]
  },
  {
   "cell_type": "code",
   "execution_count": 93,
   "metadata": {},
   "outputs": [],
   "source": [
    "df_autos.columns = df_autos.columns.str.lower()"
   ]
  },
  {
   "cell_type": "code",
   "execution_count": 94,
   "metadata": {},
   "outputs": [],
   "source": [
    "df_autos.rename(columns={'datecrawled':'date_crawled', 'vehicletype':'vehicle_type', \n",
    "                        'registrationyear':'reg_year', 'registrationmonth':'reg_month',\n",
    "                        'fueltype':'fuel_type', 'datecreated':'date_created',\n",
    "                        'numberofpictures':'n_of_pictures', 'lastseen':'last_seen'}, inplace=True)"
   ]
  },
  {
   "cell_type": "code",
   "execution_count": 95,
   "metadata": {
    "scrolled": false
   },
   "outputs": [
    {
     "data": {
      "text/html": [
       "<div>\n",
       "<style scoped>\n",
       "    .dataframe tbody tr th:only-of-type {\n",
       "        vertical-align: middle;\n",
       "    }\n",
       "\n",
       "    .dataframe tbody tr th {\n",
       "        vertical-align: top;\n",
       "    }\n",
       "\n",
       "    .dataframe thead th {\n",
       "        text-align: right;\n",
       "    }\n",
       "</style>\n",
       "<table border=\"1\" class=\"dataframe\">\n",
       "  <thead>\n",
       "    <tr style=\"text-align: right;\">\n",
       "      <th></th>\n",
       "      <th>date_crawled</th>\n",
       "      <th>price</th>\n",
       "      <th>vehicle_type</th>\n",
       "      <th>reg_year</th>\n",
       "      <th>gearbox</th>\n",
       "      <th>power</th>\n",
       "      <th>model</th>\n",
       "      <th>kilometer</th>\n",
       "      <th>reg_month</th>\n",
       "      <th>fuel_type</th>\n",
       "      <th>brand</th>\n",
       "      <th>repaired</th>\n",
       "      <th>date_created</th>\n",
       "      <th>n_of_pictures</th>\n",
       "      <th>postalcode</th>\n",
       "      <th>last_seen</th>\n",
       "    </tr>\n",
       "  </thead>\n",
       "  <tbody>\n",
       "    <tr>\n",
       "      <th>354364</th>\n",
       "      <td>2016-03-21 09:50:58</td>\n",
       "      <td>0</td>\n",
       "      <td>NaN</td>\n",
       "      <td>2005</td>\n",
       "      <td>manual</td>\n",
       "      <td>0</td>\n",
       "      <td>colt</td>\n",
       "      <td>150000</td>\n",
       "      <td>7</td>\n",
       "      <td>petrol</td>\n",
       "      <td>mitsubishi</td>\n",
       "      <td>yes</td>\n",
       "      <td>2016-03-21 00:00:00</td>\n",
       "      <td>0</td>\n",
       "      <td>2694</td>\n",
       "      <td>2016-03-21 10:42:49</td>\n",
       "    </tr>\n",
       "    <tr>\n",
       "      <th>354365</th>\n",
       "      <td>2016-03-14 17:48:27</td>\n",
       "      <td>2200</td>\n",
       "      <td>NaN</td>\n",
       "      <td>2005</td>\n",
       "      <td>NaN</td>\n",
       "      <td>0</td>\n",
       "      <td>NaN</td>\n",
       "      <td>20000</td>\n",
       "      <td>1</td>\n",
       "      <td>NaN</td>\n",
       "      <td>sonstige_autos</td>\n",
       "      <td>NaN</td>\n",
       "      <td>2016-03-14 00:00:00</td>\n",
       "      <td>0</td>\n",
       "      <td>39576</td>\n",
       "      <td>2016-04-06 00:46:52</td>\n",
       "    </tr>\n",
       "    <tr>\n",
       "      <th>354366</th>\n",
       "      <td>2016-03-05 19:56:21</td>\n",
       "      <td>1199</td>\n",
       "      <td>convertible</td>\n",
       "      <td>2000</td>\n",
       "      <td>auto</td>\n",
       "      <td>101</td>\n",
       "      <td>fortwo</td>\n",
       "      <td>125000</td>\n",
       "      <td>3</td>\n",
       "      <td>petrol</td>\n",
       "      <td>smart</td>\n",
       "      <td>no</td>\n",
       "      <td>2016-03-05 00:00:00</td>\n",
       "      <td>0</td>\n",
       "      <td>26135</td>\n",
       "      <td>2016-03-11 18:17:12</td>\n",
       "    </tr>\n",
       "    <tr>\n",
       "      <th>354367</th>\n",
       "      <td>2016-03-19 18:57:12</td>\n",
       "      <td>9200</td>\n",
       "      <td>bus</td>\n",
       "      <td>1996</td>\n",
       "      <td>manual</td>\n",
       "      <td>102</td>\n",
       "      <td>transporter</td>\n",
       "      <td>150000</td>\n",
       "      <td>3</td>\n",
       "      <td>gasoline</td>\n",
       "      <td>volkswagen</td>\n",
       "      <td>no</td>\n",
       "      <td>2016-03-19 00:00:00</td>\n",
       "      <td>0</td>\n",
       "      <td>87439</td>\n",
       "      <td>2016-04-07 07:15:26</td>\n",
       "    </tr>\n",
       "    <tr>\n",
       "      <th>354368</th>\n",
       "      <td>2016-03-20 19:41:08</td>\n",
       "      <td>3400</td>\n",
       "      <td>wagon</td>\n",
       "      <td>2002</td>\n",
       "      <td>manual</td>\n",
       "      <td>100</td>\n",
       "      <td>golf</td>\n",
       "      <td>150000</td>\n",
       "      <td>6</td>\n",
       "      <td>gasoline</td>\n",
       "      <td>volkswagen</td>\n",
       "      <td>NaN</td>\n",
       "      <td>2016-03-20 00:00:00</td>\n",
       "      <td>0</td>\n",
       "      <td>40764</td>\n",
       "      <td>2016-03-24 12:45:21</td>\n",
       "    </tr>\n",
       "  </tbody>\n",
       "</table>\n",
       "</div>"
      ],
      "text/plain": [
       "               date_crawled  price vehicle_type  reg_year gearbox  power  \\\n",
       "354364  2016-03-21 09:50:58      0          NaN      2005  manual      0   \n",
       "354365  2016-03-14 17:48:27   2200          NaN      2005     NaN      0   \n",
       "354366  2016-03-05 19:56:21   1199  convertible      2000    auto    101   \n",
       "354367  2016-03-19 18:57:12   9200          bus      1996  manual    102   \n",
       "354368  2016-03-20 19:41:08   3400        wagon      2002  manual    100   \n",
       "\n",
       "              model  kilometer  reg_month fuel_type           brand repaired  \\\n",
       "354364         colt     150000          7    petrol      mitsubishi      yes   \n",
       "354365          NaN      20000          1       NaN  sonstige_autos      NaN   \n",
       "354366       fortwo     125000          3    petrol           smart       no   \n",
       "354367  transporter     150000          3  gasoline      volkswagen       no   \n",
       "354368         golf     150000          6  gasoline      volkswagen      NaN   \n",
       "\n",
       "               date_created  n_of_pictures  postalcode            last_seen  \n",
       "354364  2016-03-21 00:00:00              0        2694  2016-03-21 10:42:49  \n",
       "354365  2016-03-14 00:00:00              0       39576  2016-04-06 00:46:52  \n",
       "354366  2016-03-05 00:00:00              0       26135  2016-03-11 18:17:12  \n",
       "354367  2016-03-19 00:00:00              0       87439  2016-04-07 07:15:26  \n",
       "354368  2016-03-20 00:00:00              0       40764  2016-03-24 12:45:21  "
      ]
     },
     "execution_count": 95,
     "metadata": {},
     "output_type": "execute_result"
    }
   ],
   "source": [
    "df_autos.tail()"
   ]
  },
  {
   "cell_type": "markdown",
   "metadata": {},
   "source": [
    "#### Обработка выбросов и аномалий"
   ]
  },
  {
   "cell_type": "markdown",
   "metadata": {},
   "source": [
    "**Столбец price**"
   ]
  },
  {
   "cell_type": "code",
   "execution_count": 96,
   "metadata": {},
   "outputs": [
    {
     "data": {
      "text/plain": [
       "<AxesSubplot: >"
      ]
     },
     "execution_count": 96,
     "metadata": {},
     "output_type": "execute_result"
    },
    {
     "data": {
      "image/png": "[encoded data removed]",
      "text/plain": [
       "<Figure size 640x480 with 1 Axes>"
      ]
     },
     "metadata": {},
     "output_type": "display_data"
    }
   ],
   "source": [
    "df_autos['price'].hist()"
   ]
  },
  {
   "cell_type": "code",
   "execution_count": 97,
   "metadata": {},
   "outputs": [
    {
     "data": {
      "text/plain": [
       "count    354369.000000\n",
       "mean       4416.656776\n",
       "std        4514.158514\n",
       "min           0.000000\n",
       "4.5%        150.000000\n",
       "10%         499.000000\n",
       "50%        2700.000000\n",
       "75%        6400.000000\n",
       "96%       15499.000000\n",
       "max       20000.000000\n",
       "Name: price, dtype: float64"
      ]
     },
     "execution_count": 97,
     "metadata": {},
     "output_type": "execute_result"
    }
   ],
   "source": [
    "df_autos['price'].describe(percentiles=[.045, .1, .75, .96])"
   ]
  },
  {
   "cell_type": "markdown",
   "metadata": {},
   "source": [
    "Слишком высокие и низкие значения могут быть выбросами: на нескольких сайтах по продажам подержанных автомобилей в Германии (страну можно определить по почтовым индексам, большинство из них из Германии) показало, что цены начинаются действительно с 0 и 1 евро, но это единичные объявления и не понятно, то ли это ошибка при заполнении формы, то ли машины на металлолом.\n",
    "Поставим ограничения в 0.045 и в 0.96 квантили."
   ]
  },
  {
   "cell_type": "code",
   "execution_count": 98,
   "metadata": {},
   "outputs": [
    {
     "data": {
      "text/plain": [
       "(29025, 16)"
      ]
     },
     "execution_count": 98,
     "metadata": {},
     "output_type": "execute_result"
    }
   ],
   "source": [
    "drop_price = df_autos[\n",
    "    (df_autos['price'] < df_autos['price'].quantile(.045)) | (df_autos['price'] > df_autos['price'].quantile(.96))\n",
    "]\n",
    "drop_price.shape"
   ]
  },
  {
   "cell_type": "code",
   "execution_count": 99,
   "metadata": {},
   "outputs": [],
   "source": [
    "df_autos.drop(drop_price.index, inplace=True)"
   ]
  },
  {
   "cell_type": "markdown",
   "metadata": {},
   "source": [
    "**Столбец kilometer**\n",
    "\n",
    "Следует избавиться от сильно низких значений, тк по боксплоту выше это скорее выбросы."
   ]
  },
  {
   "cell_type": "code",
   "execution_count": 100,
   "metadata": {},
   "outputs": [
    {
     "data": {
      "text/plain": [
       "count    325344.000000\n",
       "mean     130108.900118\n",
       "std       35883.670248\n",
       "min        5000.000000\n",
       "1.3%       5000.000000\n",
       "10%       70000.000000\n",
       "50%      150000.000000\n",
       "75%      150000.000000\n",
       "95%      150000.000000\n",
       "max      150000.000000\n",
       "Name: kilometer, dtype: float64"
      ]
     },
     "execution_count": 100,
     "metadata": {},
     "output_type": "execute_result"
    }
   ],
   "source": [
    "df_autos['kilometer'].describe(percentiles=[.013, .1, .75, .95])"
   ]
  },
  {
   "cell_type": "code",
   "execution_count": 101,
   "metadata": {},
   "outputs": [
    {
     "data": {
      "text/plain": [
       "(0, 16)"
      ]
     },
     "execution_count": 101,
     "metadata": {},
     "output_type": "execute_result"
    }
   ],
   "source": [
    "drop_km = df_autos[\n",
    "    df_autos['kilometer'] < df_autos['kilometer'].quantile(.013)\n",
    "]\n",
    "drop_km.shape"
   ]
  },
  {
   "cell_type": "code",
   "execution_count": 102,
   "metadata": {},
   "outputs": [],
   "source": [
    "df_autos.drop(drop_km.index, inplace=True)"
   ]
  },
  {
   "cell_type": "markdown",
   "metadata": {},
   "source": [
    "**Столбец reg_year**"
   ]
  },
  {
   "cell_type": "code",
   "execution_count": 103,
   "metadata": {},
   "outputs": [
    {
     "data": {
      "text/plain": [
       "array([1993, 2004, 2001, 2008, 1995, 2014, 1998, 2005, 1910, 2016, 2007,\n",
       "       2009, 2002, 2018, 1997, 1990, 2017, 1981, 2003, 1994, 1991, 1984,\n",
       "       2006, 1999, 2012, 2010, 2000, 1992, 2013, 1996, 1985, 1989, 2011,\n",
       "       1982, 1976, 1973, 2015, 1969, 1971, 1987, 1983, 1988, 1980, 1970,\n",
       "       1986, 1965, 1945, 1925, 1974, 1979, 1955, 1978, 1972, 1968, 1977,\n",
       "       1961, 1966, 1975, 1963, 1964, 1960, 1958, 1967, 3200, 1000, 1941,\n",
       "       9999, 8888, 1500, 2200, 4100, 1962, 1929, 1957, 1940, 3000, 2066,\n",
       "       1949, 2019, 1937, 1951, 1800, 1959, 1954, 1234, 5300, 9000, 2900,\n",
       "       6000, 1953, 5900, 5911, 1400, 5000, 1950, 4000, 1952, 8500, 3700,\n",
       "       3800, 4800, 1942, 7000, 1956, 1935, 1936, 1923, 2290, 1930, 1001,\n",
       "       9450, 1944, 2500, 1938, 1934, 1943, 1928, 5555, 5600, 1600, 1111,\n",
       "       1932, 1039, 2800, 1931, 1948, 4500, 1602, 7800, 7100, 1300, 8200,\n",
       "       1946], dtype=int64)"
      ]
     },
     "execution_count": 103,
     "metadata": {},
     "output_type": "execute_result"
    }
   ],
   "source": [
    "df_autos['reg_year'].unique()"
   ]
  },
  {
   "cell_type": "code",
   "execution_count": 104,
   "metadata": {},
   "outputs": [
    {
     "name": "stdout",
     "output_type": "stream",
     "text": [
      "Wrong data\n",
      "Wrong data\n",
      "Wrong data\n",
      "Wrong data\n",
      "Wrong data\n",
      "Wrong data\n"
     ]
    }
   ],
   "source": [
    "check = ['2017', '2018', '2019', '2020', '2021', '2022']\n",
    "\n",
    "for i in check:\n",
    "    if i in df_autos['date_created']:\n",
    "        print(f'{i} exist')\n",
    "    else:\n",
    "        print('Wrong data')"
   ]
  },
  {
   "cell_type": "markdown",
   "metadata": {},
   "source": [
    "Похоже, что крайний год создания анкет - 2016. Возьмём для дальнейшей работы промежуток"
   ]
  },
  {
   "cell_type": "code",
   "execution_count": 105,
   "metadata": {},
   "outputs": [],
   "source": [
    "df_autos = df_autos.query('reg_year > 1910 & reg_year < 2017')"
   ]
  },
  {
   "cell_type": "code",
   "execution_count": 106,
   "metadata": {},
   "outputs": [
    {
     "data": {
      "text/plain": [
       "array([1993, 2004, 2001, 2008, 1995, 2014, 1998, 2005, 2016, 2007, 2009,\n",
       "       2002, 1997, 1990, 1981, 2003, 1994, 1991, 1984, 2006, 1999, 2012,\n",
       "       2010, 2000, 1992, 2013, 1996, 1985, 1989, 2011, 1982, 1976, 1973,\n",
       "       2015, 1969, 1971, 1987, 1983, 1988, 1980, 1970, 1986, 1965, 1945,\n",
       "       1925, 1974, 1979, 1955, 1978, 1972, 1968, 1977, 1961, 1966, 1975,\n",
       "       1963, 1964, 1960, 1958, 1967, 1941, 1962, 1929, 1957, 1940, 1949,\n",
       "       1937, 1951, 1959, 1954, 1953, 1950, 1952, 1942, 1956, 1935, 1936,\n",
       "       1923, 1930, 1944, 1938, 1934, 1943, 1928, 1932, 1931, 1948, 1946],\n",
       "      dtype=int64)"
      ]
     },
     "execution_count": 106,
     "metadata": {},
     "output_type": "execute_result"
    }
   ],
   "source": [
    "df_autos['reg_year'].unique()"
   ]
  },
  {
   "cell_type": "markdown",
   "metadata": {},
   "source": [
    "**Столбец power**"
   ]
  },
  {
   "cell_type": "code",
   "execution_count": 107,
   "metadata": {},
   "outputs": [],
   "source": [
    "power = df_autos.query('power > 2028')"
   ]
  },
  {
   "cell_type": "code",
   "execution_count": 108,
   "metadata": {
    "scrolled": true
   },
   "outputs": [
    {
     "data": {
      "text/plain": [
       "87"
      ]
     },
     "execution_count": 108,
     "metadata": {},
     "output_type": "execute_result"
    }
   ],
   "source": [
    "power['power'].count()"
   ]
  },
  {
   "cell_type": "markdown",
   "metadata": {},
   "source": [
    "Тк больших значений мало, можем их просто удалить."
   ]
  },
  {
   "cell_type": "code",
   "execution_count": 109,
   "metadata": {},
   "outputs": [],
   "source": [
    "df_autos = df_autos.query('power <= 2028')"
   ]
  },
  {
   "cell_type": "code",
   "execution_count": 110,
   "metadata": {},
   "outputs": [
    {
     "data": {
      "text/plain": [
       "0       30581\n",
       "75      21851\n",
       "60      14484\n",
       "150     13194\n",
       "101     12362\n",
       "        ...  \n",
       "1937        1\n",
       "850         1\n",
       "700         1\n",
       "612         1\n",
       "1241        1\n",
       "Name: power, Length: 573, dtype: int64"
      ]
     },
     "execution_count": 110,
     "metadata": {},
     "output_type": "execute_result"
    }
   ],
   "source": [
    "df_autos['power'].value_counts()"
   ]
  },
  {
   "cell_type": "code",
   "execution_count": 111,
   "metadata": {},
   "outputs": [
    {
     "data": {
      "text/plain": [
       "<AxesSubplot: >"
      ]
     },
     "execution_count": 111,
     "metadata": {},
     "output_type": "execute_result"
    },
    {
     "data": {
      "image/png": "[encoded data removed]",
      "text/plain": [
       "<Figure size 640x480 with 1 Axes>"
      ]
     },
     "metadata": {},
     "output_type": "display_data"
    }
   ],
   "source": [
    "df_autos['power'].hist()"
   ]
  },
  {
   "cell_type": "markdown",
   "metadata": {},
   "source": [
    "40 тысяч строк с нулевым кол-вом лошадиных сил. Заменим нули на медианное значение по типу автомобильного кузова - так мы сможем получить правдоподобное значение"
   ]
  },
  {
   "cell_type": "code",
   "execution_count": 112,
   "metadata": {},
   "outputs": [
    {
     "data": {
      "text/plain": [
       "sedan          85050\n",
       "small          76208\n",
       "wagon          60623\n",
       "bus            26916\n",
       "convertible    18001\n",
       "coupe          13951\n",
       "suv             9865\n",
       "other           2950\n",
       "Name: vehicle_type, dtype: int64"
      ]
     },
     "execution_count": 112,
     "metadata": {},
     "output_type": "execute_result"
    }
   ],
   "source": [
    "df_autos.vehicle_type.value_counts()"
   ]
  },
  {
   "cell_type": "code",
   "execution_count": 113,
   "metadata": {},
   "outputs": [],
   "source": [
    "for t in df_autos['vehicle_type'].unique():\n",
    "    df_autos.loc[(df_autos['vehicle_type'] == t) & (df_autos['power'] == 0) | (df_autos['power'] == 0.0), 'power'] = \\\n",
    "    df_autos.loc[(df_autos['vehicle_type'] == t), 'power'].median()"
   ]
  },
  {
   "cell_type": "code",
   "execution_count": 114,
   "metadata": {},
   "outputs": [
    {
     "data": {
      "text/plain": [
       "75.0      21851\n",
       "60.0      14484\n",
       "150.0     13194\n",
       "101.0     12362\n",
       "90.0      11579\n",
       "          ...  \n",
       "1937.0        1\n",
       "850.0         1\n",
       "700.0         1\n",
       "612.0         1\n",
       "1241.0        1\n",
       "Name: power, Length: 572, dtype: int64"
      ]
     },
     "execution_count": 114,
     "metadata": {},
     "output_type": "execute_result"
    }
   ],
   "source": [
    "df_autos['power'].value_counts()"
   ]
  },
  {
   "cell_type": "code",
   "execution_count": 115,
   "metadata": {},
   "outputs": [
    {
     "data": {
      "text/plain": [
       "1.0"
      ]
     },
     "execution_count": 115,
     "metadata": {},
     "output_type": "execute_result"
    }
   ],
   "source": [
    "df_autos['power'].min()"
   ]
  },
  {
   "cell_type": "code",
   "execution_count": 116,
   "metadata": {},
   "outputs": [
    {
     "data": {
      "text/plain": [
       "<AxesSubplot: >"
      ]
     },
     "execution_count": 116,
     "metadata": {},
     "output_type": "execute_result"
    },
    {
     "data": {
      "image/png": "[encoded data removed]",
      "text/plain": [
       "<Figure size 640x480 with 1 Axes>"
      ]
     },
     "metadata": {},
     "output_type": "display_data"
    }
   ],
   "source": [
    "df_autos['power'].hist()"
   ]
  },
  {
   "cell_type": "markdown",
   "metadata": {},
   "source": [
    "#### Обработка пропусков"
   ]
  },
  {
   "cell_type": "markdown",
   "metadata": {},
   "source": [
    "**Столбец power**"
   ]
  },
  {
   "cell_type": "code",
   "execution_count": 117,
   "metadata": {},
   "outputs": [
    {
     "data": {
      "text/plain": [
       "30581"
      ]
     },
     "execution_count": 117,
     "metadata": {},
     "output_type": "execute_result"
    }
   ],
   "source": [
    "df_autos['power'].isna().sum()"
   ]
  },
  {
   "cell_type": "code",
   "execution_count": 118,
   "metadata": {},
   "outputs": [],
   "source": [
    "for t in df_autos['vehicle_type'].unique():\n",
    "    df_autos.loc[(df_autos['vehicle_type'] == t) & (df_autos['power'].isna()), 'power'] = \\\n",
    "    df_autos.loc[(df_autos['vehicle_type'] == t), 'power'].median()"
   ]
  },
  {
   "cell_type": "code",
   "execution_count": 119,
   "metadata": {},
   "outputs": [
    {
     "data": {
      "text/plain": [
       "7617"
      ]
     },
     "execution_count": 119,
     "metadata": {},
     "output_type": "execute_result"
    }
   ],
   "source": [
    "df_autos['power'].isna().sum()"
   ]
  },
  {
   "cell_type": "code",
   "execution_count": 120,
   "metadata": {},
   "outputs": [
    {
     "data": {
      "text/plain": [
       "<AxesSubplot: >"
      ]
     },
     "execution_count": 120,
     "metadata": {},
     "output_type": "execute_result"
    },
    {
     "data": {
      "image/png": "[encoded data removed]",
      "text/plain": [
       "<Figure size 640x480 with 1 Axes>"
      ]
     },
     "metadata": {},
     "output_type": "display_data"
    }
   ],
   "source": [
    "df_autos['power'].hist()"
   ]
  },
  {
   "cell_type": "markdown",
   "metadata": {},
   "source": [
    "Это примерно 4% от общих данных, дабы максимально не заполнять медианой данный столбец, предлагаю оставшиеся пропуски просто удалить"
   ]
  },
  {
   "cell_type": "markdown",
   "metadata": {},
   "source": [
    "**Столбец repaired**\n",
    "\n",
    "Мы не можем быть точно уверены,что пропуски в данных от того, что машина не была в ремонте, и вместо того чтобы поставить *нет*, просто пропускали этот признак. Возможно, что машина в ремонте была и это намеренно скрыли. Чтобы не терять большое количество данных, поставим заглушку *неизвестно*"
   ]
  },
  {
   "cell_type": "code",
   "execution_count": 121,
   "metadata": {},
   "outputs": [
    {
     "data": {
      "text/plain": [
       "no     223390\n",
       "yes     31642\n",
       "Name: repaired, dtype: int64"
      ]
     },
     "execution_count": 121,
     "metadata": {},
     "output_type": "execute_result"
    }
   ],
   "source": [
    "df_autos['repaired'].value_counts()"
   ]
  },
  {
   "cell_type": "code",
   "execution_count": 122,
   "metadata": {},
   "outputs": [],
   "source": [
    "df_autos['repaired'].fillna('unknown', inplace=True)"
   ]
  },
  {
   "cell_type": "code",
   "execution_count": 123,
   "metadata": {},
   "outputs": [
    {
     "data": {
      "text/plain": [
       "no         223390\n",
       "unknown     56705\n",
       "yes         31642\n",
       "Name: repaired, dtype: int64"
      ]
     },
     "execution_count": 123,
     "metadata": {},
     "output_type": "execute_result"
    }
   ],
   "source": [
    "df_autos['repaired'].value_counts()"
   ]
  },
  {
   "cell_type": "markdown",
   "metadata": {},
   "source": [
    "**Столбцы vehicle_type, gearbox, model, fuel_type**\n",
    "\n",
    "Если мы сгруппируем столбцы по бренду, модели, типу коробки передач, типу кузова, то тип топлива будет различаться; и так со всеми остальными столбцами. Так, данные не восстановить, тоже поставим заглушку"
   ]
  },
  {
   "cell_type": "code",
   "execution_count": 124,
   "metadata": {},
   "outputs": [],
   "source": [
    "df_autos['vehicle_type'].fillna('unknown', inplace=True)"
   ]
  },
  {
   "cell_type": "code",
   "execution_count": 125,
   "metadata": {},
   "outputs": [],
   "source": [
    "df_autos['gearbox'].fillna('unknown', inplace=True)"
   ]
  },
  {
   "cell_type": "code",
   "execution_count": 126,
   "metadata": {},
   "outputs": [],
   "source": [
    "df_autos['model'].fillna('unknown', inplace=True)"
   ]
  },
  {
   "cell_type": "code",
   "execution_count": 127,
   "metadata": {},
   "outputs": [],
   "source": [
    "df_autos['fuel_type'].fillna('unknown', inplace=True)"
   ]
  },
  {
   "cell_type": "code",
   "execution_count": 128,
   "metadata": {},
   "outputs": [],
   "source": [
    "df_autos = df_autos.dropna(axis=0, inplace=False)"
   ]
  },
  {
   "cell_type": "markdown",
   "metadata": {},
   "source": [
    "#### Добавим столбец\n",
    "\n",
    "В датафрейме разный возраст машин. Возможно такое, что для разных возрастов - своё ценообразование. Введём фактор *тип возраста*.\n",
    "\n",
    "Пусть будут следующие группы:\n",
    "\n",
    "Vintage (1910-1929)\n",
    "\n",
    "Classic (1930-1949)\n",
    "\n",
    "Post-War (1950-1969)\n",
    "\n",
    "Muscle (1960-1979)\n",
    "\n",
    "Modern (1980-1999)\n",
    "\n",
    "New Millennium (2000-Current)\n",
    "\n",
    "\n",
    "Чтобы работать с возрастом машины, необходимо привести столбец 'reg_year' к типу datetime."
   ]
  },
  {
   "cell_type": "code",
   "execution_count": 129,
   "metadata": {},
   "outputs": [],
   "source": [
    "def categorize_age(year):\n",
    "    if year >= 1910 and year <= 1929:\n",
    "        return 'Vintage'\n",
    "    elif year >= 1930 and year <= 1949:\n",
    "        return 'Classic'\n",
    "    elif year >= 1950 and year <= 1969:\n",
    "        return 'Post-War'\n",
    "    elif year >= 1960 and year <= 1979:\n",
    "        return 'Muscle'\n",
    "    elif year >= 1980 and year <= 1999:\n",
    "        return 'Modern'\n",
    "    elif year >= 2000:\n",
    "        return 'New Millennium'\n",
    "    else:\n",
    "        return \"unknown\""
   ]
  },
  {
   "cell_type": "code",
   "execution_count": 130,
   "metadata": {},
   "outputs": [],
   "source": [
    "df_autos['age_category'] = df_autos['reg_year'].apply(categorize_age)"
   ]
  },
  {
   "cell_type": "code",
   "execution_count": 131,
   "metadata": {},
   "outputs": [
    {
     "data": {
      "text/plain": [
       "<AxesSubplot: >"
      ]
     },
     "execution_count": 131,
     "metadata": {},
     "output_type": "execute_result"
    },
    {
     "data": {
      "image/png": "[encoded data removed]",
      "text/plain": [
       "<Figure size 640x480 with 1 Axes>"
      ]
     },
     "metadata": {},
     "output_type": "display_data"
    }
   ],
   "source": [
    "df_autos['age_category'].hist()"
   ]
  },
  {
   "cell_type": "markdown",
   "metadata": {},
   "source": [
    "*Шалость удалась*"
   ]
  },
  {
   "cell_type": "markdown",
   "metadata": {},
   "source": [
    "**Проверим изменения после предобработки данных**\n"
   ]
  },
  {
   "cell_type": "code",
   "execution_count": 132,
   "metadata": {},
   "outputs": [
    {
     "data": {
      "text/html": [
       "<div>\n",
       "<style scoped>\n",
       "    .dataframe tbody tr th:only-of-type {\n",
       "        vertical-align: middle;\n",
       "    }\n",
       "\n",
       "    .dataframe tbody tr th {\n",
       "        vertical-align: top;\n",
       "    }\n",
       "\n",
       "    .dataframe thead th {\n",
       "        text-align: right;\n",
       "    }\n",
       "</style>\n",
       "<table border=\"1\" class=\"dataframe\">\n",
       "  <thead>\n",
       "    <tr style=\"text-align: right;\">\n",
       "      <th></th>\n",
       "      <th>date_crawled</th>\n",
       "      <th>price</th>\n",
       "      <th>vehicle_type</th>\n",
       "      <th>reg_year</th>\n",
       "      <th>gearbox</th>\n",
       "      <th>power</th>\n",
       "      <th>model</th>\n",
       "      <th>kilometer</th>\n",
       "      <th>reg_month</th>\n",
       "      <th>fuel_type</th>\n",
       "      <th>brand</th>\n",
       "      <th>repaired</th>\n",
       "      <th>date_created</th>\n",
       "      <th>n_of_pictures</th>\n",
       "      <th>postalcode</th>\n",
       "      <th>last_seen</th>\n",
       "      <th>age_category</th>\n",
       "    </tr>\n",
       "  </thead>\n",
       "  <tbody>\n",
       "    <tr>\n",
       "      <th>2</th>\n",
       "      <td>2016-03-14 12:52:21</td>\n",
       "      <td>9800</td>\n",
       "      <td>suv</td>\n",
       "      <td>2004</td>\n",
       "      <td>auto</td>\n",
       "      <td>163.0</td>\n",
       "      <td>grand</td>\n",
       "      <td>125000</td>\n",
       "      <td>8</td>\n",
       "      <td>gasoline</td>\n",
       "      <td>jeep</td>\n",
       "      <td>unknown</td>\n",
       "      <td>2016-03-14 00:00:00</td>\n",
       "      <td>0</td>\n",
       "      <td>90480</td>\n",
       "      <td>2016-04-05 12:47:46</td>\n",
       "      <td>New Millennium</td>\n",
       "    </tr>\n",
       "    <tr>\n",
       "      <th>3</th>\n",
       "      <td>2016-03-17 16:54:04</td>\n",
       "      <td>1500</td>\n",
       "      <td>small</td>\n",
       "      <td>2001</td>\n",
       "      <td>manual</td>\n",
       "      <td>75.0</td>\n",
       "      <td>golf</td>\n",
       "      <td>150000</td>\n",
       "      <td>6</td>\n",
       "      <td>petrol</td>\n",
       "      <td>volkswagen</td>\n",
       "      <td>no</td>\n",
       "      <td>2016-03-17 00:00:00</td>\n",
       "      <td>0</td>\n",
       "      <td>91074</td>\n",
       "      <td>2016-03-17 17:40:17</td>\n",
       "      <td>New Millennium</td>\n",
       "    </tr>\n",
       "    <tr>\n",
       "      <th>4</th>\n",
       "      <td>2016-03-31 17:25:20</td>\n",
       "      <td>3600</td>\n",
       "      <td>small</td>\n",
       "      <td>2008</td>\n",
       "      <td>manual</td>\n",
       "      <td>69.0</td>\n",
       "      <td>fabia</td>\n",
       "      <td>90000</td>\n",
       "      <td>7</td>\n",
       "      <td>gasoline</td>\n",
       "      <td>skoda</td>\n",
       "      <td>no</td>\n",
       "      <td>2016-03-31 00:00:00</td>\n",
       "      <td>0</td>\n",
       "      <td>60437</td>\n",
       "      <td>2016-04-06 10:17:21</td>\n",
       "      <td>New Millennium</td>\n",
       "    </tr>\n",
       "    <tr>\n",
       "      <th>5</th>\n",
       "      <td>2016-04-04 17:36:23</td>\n",
       "      <td>650</td>\n",
       "      <td>sedan</td>\n",
       "      <td>1995</td>\n",
       "      <td>manual</td>\n",
       "      <td>102.0</td>\n",
       "      <td>3er</td>\n",
       "      <td>150000</td>\n",
       "      <td>10</td>\n",
       "      <td>petrol</td>\n",
       "      <td>bmw</td>\n",
       "      <td>yes</td>\n",
       "      <td>2016-04-04 00:00:00</td>\n",
       "      <td>0</td>\n",
       "      <td>33775</td>\n",
       "      <td>2016-04-06 19:17:07</td>\n",
       "      <td>Modern</td>\n",
       "    </tr>\n",
       "    <tr>\n",
       "      <th>6</th>\n",
       "      <td>2016-04-01 20:48:51</td>\n",
       "      <td>2200</td>\n",
       "      <td>convertible</td>\n",
       "      <td>2004</td>\n",
       "      <td>manual</td>\n",
       "      <td>109.0</td>\n",
       "      <td>2_reihe</td>\n",
       "      <td>150000</td>\n",
       "      <td>8</td>\n",
       "      <td>petrol</td>\n",
       "      <td>peugeot</td>\n",
       "      <td>no</td>\n",
       "      <td>2016-04-01 00:00:00</td>\n",
       "      <td>0</td>\n",
       "      <td>67112</td>\n",
       "      <td>2016-04-05 18:18:39</td>\n",
       "      <td>New Millennium</td>\n",
       "    </tr>\n",
       "  </tbody>\n",
       "</table>\n",
       "</div>"
      ],
      "text/plain": [
       "          date_crawled  price vehicle_type  reg_year gearbox  power    model  \\\n",
       "2  2016-03-14 12:52:21   9800          suv      2004    auto  163.0    grand   \n",
       "3  2016-03-17 16:54:04   1500        small      2001  manual   75.0     golf   \n",
       "4  2016-03-31 17:25:20   3600        small      2008  manual   69.0    fabia   \n",
       "5  2016-04-04 17:36:23    650        sedan      1995  manual  102.0      3er   \n",
       "6  2016-04-01 20:48:51   2200  convertible      2004  manual  109.0  2_reihe   \n",
       "\n",
       "   kilometer  reg_month fuel_type       brand repaired         date_created  \\\n",
       "2     125000          8  gasoline        jeep  unknown  2016-03-14 00:00:00   \n",
       "3     150000          6    petrol  volkswagen       no  2016-03-17 00:00:00   \n",
       "4      90000          7  gasoline       skoda       no  2016-03-31 00:00:00   \n",
       "5     150000         10    petrol         bmw      yes  2016-04-04 00:00:00   \n",
       "6     150000          8    petrol     peugeot       no  2016-04-01 00:00:00   \n",
       "\n",
       "   n_of_pictures  postalcode            last_seen    age_category  \n",
       "2              0       90480  2016-04-05 12:47:46  New Millennium  \n",
       "3              0       91074  2016-03-17 17:40:17  New Millennium  \n",
       "4              0       60437  2016-04-06 10:17:21  New Millennium  \n",
       "5              0       33775  2016-04-06 19:17:07          Modern  \n",
       "6              0       67112  2016-04-05 18:18:39  New Millennium  "
      ]
     },
     "metadata": {},
     "output_type": "display_data"
    },
    {
     "name": "stdout",
     "output_type": "stream",
     "text": [
      "<class 'pandas.core.frame.DataFrame'>\n",
      "Int64Index: 304120 entries, 2 to 354368\n",
      "Data columns (total 17 columns):\n",
      " #   Column         Non-Null Count   Dtype  \n",
      "---  ------         --------------   -----  \n",
      " 0   date_crawled   304120 non-null  object \n",
      " 1   price          304120 non-null  int64  \n",
      " 2   vehicle_type   304120 non-null  object \n",
      " 3   reg_year       304120 non-null  int64  \n",
      " 4   gearbox        304120 non-null  object \n",
      " 5   power          304120 non-null  float64\n",
      " 6   model          304120 non-null  object \n",
      " 7   kilometer      304120 non-null  int64  \n",
      " 8   reg_month      304120 non-null  int64  \n",
      " 9   fuel_type      304120 non-null  object \n",
      " 10  brand          304120 non-null  object \n",
      " 11  repaired       304120 non-null  object \n",
      " 12  date_created   304120 non-null  object \n",
      " 13  n_of_pictures  304120 non-null  int64  \n",
      " 14  postalcode     304120 non-null  int64  \n",
      " 15  last_seen      304120 non-null  object \n",
      " 16  age_category   304120 non-null  object \n",
      "dtypes: float64(1), int64(6), object(10)\n",
      "memory usage: 41.8+ MB\n",
      "None\n",
      "               price       reg_year          power      kilometer  \\\n",
      "count  304120.000000  304120.000000  304120.000000  304120.000000   \n",
      "mean     4145.071202    2002.336805     117.769782  130162.123504   \n",
      "std      3716.238484       6.476456      60.516829   35490.669668   \n",
      "min       150.000000    1923.000000       1.000000    5000.000000   \n",
      "25%      1200.000000    1999.000000      75.000000  125000.000000   \n",
      "50%      2850.000000    2003.000000     110.000000  150000.000000   \n",
      "75%      6000.000000    2006.000000     143.000000  150000.000000   \n",
      "max     15499.000000    2016.000000    2018.000000  150000.000000   \n",
      "\n",
      "           reg_month  n_of_pictures     postalcode  \n",
      "count  304120.000000       304120.0  304120.000000  \n",
      "mean        5.917246            0.0   50706.732684  \n",
      "std         3.634346            0.0   25726.844336  \n",
      "min         0.000000            0.0    1067.000000  \n",
      "25%         3.000000            0.0   30455.000000  \n",
      "50%         6.000000            0.0   49584.000000  \n",
      "75%         9.000000            0.0   71229.000000  \n",
      "max        12.000000            0.0   99998.000000  \n",
      "Дубликатов в таблице: 4\n",
      "Форма таблицы:(304120, 17)\n"
     ]
    },
    {
     "data": {
      "text/html": [
       "<style type=\"text/css\">\n",
       "#T_46ad6_row0_col0, #T_46ad6_row1_col0, #T_46ad6_row2_col0, #T_46ad6_row3_col0, #T_46ad6_row4_col0, #T_46ad6_row5_col0, #T_46ad6_row6_col0, #T_46ad6_row7_col0, #T_46ad6_row8_col0, #T_46ad6_row9_col0, #T_46ad6_row10_col0, #T_46ad6_row11_col0, #T_46ad6_row12_col0, #T_46ad6_row13_col0, #T_46ad6_row14_col0, #T_46ad6_row15_col0, #T_46ad6_row16_col0 {\n",
       "  background-color: #3b4cc0;\n",
       "  color: #f1f1f1;\n",
       "}\n",
       "</style>\n",
       "<table id=\"T_46ad6\">\n",
       "  <thead>\n",
       "    <tr>\n",
       "      <th class=\"blank level0\" >&nbsp;</th>\n",
       "      <th id=\"T_46ad6_level0_col0\" class=\"col_heading level0 col0\" >Процент_пропусков</th>\n",
       "    </tr>\n",
       "  </thead>\n",
       "  <tbody>\n",
       "    <tr>\n",
       "      <th id=\"T_46ad6_level0_row0\" class=\"row_heading level0 row0\" >date_crawled</th>\n",
       "      <td id=\"T_46ad6_row0_col0\" class=\"data row0 col0\" >0.0</td>\n",
       "    </tr>\n",
       "    <tr>\n",
       "      <th id=\"T_46ad6_level0_row1\" class=\"row_heading level0 row1\" >fuel_type</th>\n",
       "      <td id=\"T_46ad6_row1_col0\" class=\"data row1 col0\" >0.0</td>\n",
       "    </tr>\n",
       "    <tr>\n",
       "      <th id=\"T_46ad6_level0_row2\" class=\"row_heading level0 row2\" >last_seen</th>\n",
       "      <td id=\"T_46ad6_row2_col0\" class=\"data row2 col0\" >0.0</td>\n",
       "    </tr>\n",
       "    <tr>\n",
       "      <th id=\"T_46ad6_level0_row3\" class=\"row_heading level0 row3\" >postalcode</th>\n",
       "      <td id=\"T_46ad6_row3_col0\" class=\"data row3 col0\" >0.0</td>\n",
       "    </tr>\n",
       "    <tr>\n",
       "      <th id=\"T_46ad6_level0_row4\" class=\"row_heading level0 row4\" >n_of_pictures</th>\n",
       "      <td id=\"T_46ad6_row4_col0\" class=\"data row4 col0\" >0.0</td>\n",
       "    </tr>\n",
       "    <tr>\n",
       "      <th id=\"T_46ad6_level0_row5\" class=\"row_heading level0 row5\" >date_created</th>\n",
       "      <td id=\"T_46ad6_row5_col0\" class=\"data row5 col0\" >0.0</td>\n",
       "    </tr>\n",
       "    <tr>\n",
       "      <th id=\"T_46ad6_level0_row6\" class=\"row_heading level0 row6\" >repaired</th>\n",
       "      <td id=\"T_46ad6_row6_col0\" class=\"data row6 col0\" >0.0</td>\n",
       "    </tr>\n",
       "    <tr>\n",
       "      <th id=\"T_46ad6_level0_row7\" class=\"row_heading level0 row7\" >brand</th>\n",
       "      <td id=\"T_46ad6_row7_col0\" class=\"data row7 col0\" >0.0</td>\n",
       "    </tr>\n",
       "    <tr>\n",
       "      <th id=\"T_46ad6_level0_row8\" class=\"row_heading level0 row8\" >reg_month</th>\n",
       "      <td id=\"T_46ad6_row8_col0\" class=\"data row8 col0\" >0.0</td>\n",
       "    </tr>\n",
       "    <tr>\n",
       "      <th id=\"T_46ad6_level0_row9\" class=\"row_heading level0 row9\" >price</th>\n",
       "      <td id=\"T_46ad6_row9_col0\" class=\"data row9 col0\" >0.0</td>\n",
       "    </tr>\n",
       "    <tr>\n",
       "      <th id=\"T_46ad6_level0_row10\" class=\"row_heading level0 row10\" >kilometer</th>\n",
       "      <td id=\"T_46ad6_row10_col0\" class=\"data row10 col0\" >0.0</td>\n",
       "    </tr>\n",
       "    <tr>\n",
       "      <th id=\"T_46ad6_level0_row11\" class=\"row_heading level0 row11\" >model</th>\n",
       "      <td id=\"T_46ad6_row11_col0\" class=\"data row11 col0\" >0.0</td>\n",
       "    </tr>\n",
       "    <tr>\n",
       "      <th id=\"T_46ad6_level0_row12\" class=\"row_heading level0 row12\" >power</th>\n",
       "      <td id=\"T_46ad6_row12_col0\" class=\"data row12 col0\" >0.0</td>\n",
       "    </tr>\n",
       "    <tr>\n",
       "      <th id=\"T_46ad6_level0_row13\" class=\"row_heading level0 row13\" >gearbox</th>\n",
       "      <td id=\"T_46ad6_row13_col0\" class=\"data row13 col0\" >0.0</td>\n",
       "    </tr>\n",
       "    <tr>\n",
       "      <th id=\"T_46ad6_level0_row14\" class=\"row_heading level0 row14\" >reg_year</th>\n",
       "      <td id=\"T_46ad6_row14_col0\" class=\"data row14 col0\" >0.0</td>\n",
       "    </tr>\n",
       "    <tr>\n",
       "      <th id=\"T_46ad6_level0_row15\" class=\"row_heading level0 row15\" >vehicle_type</th>\n",
       "      <td id=\"T_46ad6_row15_col0\" class=\"data row15 col0\" >0.0</td>\n",
       "    </tr>\n",
       "    <tr>\n",
       "      <th id=\"T_46ad6_level0_row16\" class=\"row_heading level0 row16\" >age_category</th>\n",
       "      <td id=\"T_46ad6_row16_col0\" class=\"data row16 col0\" >0.0</td>\n",
       "    </tr>\n",
       "  </tbody>\n",
       "</table>\n"
      ],
      "text/plain": [
       "<pandas.io.formats.style.Styler at 0x216aeea43a0>"
      ]
     },
     "execution_count": 132,
     "metadata": {},
     "output_type": "execute_result"
    },
    {
     "data": {
      "image/png": "[encoded data removed]",
      "text/plain": [
       "<Figure size 1500x2000 with 9 Axes>"
      ]
     },
     "metadata": {},
     "output_type": "display_data"
    }
   ],
   "source": [
    "hello_data(df_autos)"
   ]
  },
  {
   "cell_type": "markdown",
   "metadata": {},
   "source": [
    "**Промежуточный итог:**\n",
    "\n",
    "Привели данные в удобный для работы вид: там, где это возможно, заполнили пропуски, где нет - поставили заглушки, а также избавились от выбросов и аномалий."
   ]
  },
  {
   "cell_type": "markdown",
   "metadata": {},
   "source": [
    "### Подготовка выборок"
   ]
  },
  {
   "cell_type": "code",
   "execution_count": 133,
   "metadata": {},
   "outputs": [],
   "source": [
    "non_informative = ['date_crawled', 'date_created', 'n_of_pictures', 'last_seen', 'postalcode', 'reg_month']"
   ]
  },
  {
   "cell_type": "markdown",
   "metadata": {},
   "source": [
    "Даты лишь перегрузят обучение модели, а кол-во картинок и код не влияют на цену авто. Также как и месяц регистрации - при покупке обычно смотрят на год"
   ]
  },
  {
   "cell_type": "code",
   "execution_count": 134,
   "metadata": {},
   "outputs": [],
   "source": [
    "autos = df_autos.drop(non_informative, axis=1)"
   ]
  },
  {
   "cell_type": "code",
   "execution_count": 135,
   "metadata": {},
   "outputs": [],
   "source": [
    "categorical = ['vehicle_type', 'gearbox', 'model', 'fuel_type', 'brand', 'repaired', 'age_category']"
   ]
  },
  {
   "cell_type": "code",
   "execution_count": 136,
   "metadata": {},
   "outputs": [],
   "source": [
    "numeric = ['price', 'power']"
   ]
  },
  {
   "cell_type": "markdown",
   "metadata": {},
   "source": [
    "**Разбитие данных на выборки**"
   ]
  },
  {
   "cell_type": "code",
   "execution_count": 137,
   "metadata": {},
   "outputs": [],
   "source": [
    "# выделим признаки\n",
    "\n",
    "target = autos['price']\n",
    "features = autos.drop('price', axis=1)"
   ]
  },
  {
   "cell_type": "code",
   "execution_count": 138,
   "metadata": {},
   "outputs": [],
   "source": [
    "# разобьём данные\n",
    "\n",
    "features_train, features_valid, target_train, target_valid = train_test_split(\n",
    "    features, target, test_size=0.4, random_state=RS)\n",
    "\n",
    "features_valid, features_test, target_valid, target_test = train_test_split(\n",
    "    features_valid, target_valid, test_size=0.5, random_state=RS)"
   ]
  },
  {
   "cell_type": "code",
   "execution_count": 139,
   "metadata": {},
   "outputs": [
    {
     "data": {
      "text/plain": [
       "((182472, 10), (60824, 10), (60824, 10))"
      ]
     },
     "execution_count": 139,
     "metadata": {},
     "output_type": "execute_result"
    }
   ],
   "source": [
    "features_train.shape, features_valid.shape, features_test.shape"
   ]
  },
  {
   "cell_type": "code",
   "execution_count": 140,
   "metadata": {},
   "outputs": [
    {
     "data": {
      "text/plain": [
       "((182472,), (60824,), (60824,))"
      ]
     },
     "execution_count": 140,
     "metadata": {},
     "output_type": "execute_result"
    }
   ],
   "source": [
    "target_train.shape, target_valid.shape, target_test.shape"
   ]
  },
  {
   "cell_type": "markdown",
   "metadata": {},
   "source": [
    "**Кодировка данных**"
   ]
  },
  {
   "cell_type": "code",
   "execution_count": 141,
   "metadata": {},
   "outputs": [],
   "source": [
    "oe = OrdinalEncoder(handle_unknown=\"use_encoded_value\", unknown_value=-1)"
   ]
  },
  {
   "cell_type": "code",
   "execution_count": 142,
   "metadata": {},
   "outputs": [],
   "source": [
    "features_train_oe = features_train.copy()\n",
    "features_valid_oe = features_valid.copy()\n",
    "features_test_oe = features_test.copy()"
   ]
  },
  {
   "cell_type": "code",
   "execution_count": 143,
   "metadata": {},
   "outputs": [],
   "source": [
    "features_train_oe = oe.fit_transform(features_train_oe)\n",
    "features_valid_oe = oe.transform(features_valid_oe)\n",
    "features_test_oe = oe.transform(features_test_oe)"
   ]
  },
  {
   "cell_type": "code",
   "execution_count": 144,
   "metadata": {},
   "outputs": [],
   "source": [
    "ohe = OneHotEncoder(handle_unknown='ignore')"
   ]
  },
  {
   "cell_type": "code",
   "execution_count": 145,
   "metadata": {},
   "outputs": [],
   "source": [
    "features_train_ohe = features_train.copy()\n",
    "features_valid_ohe = features_valid.copy()\n",
    "features_test_ohe = features_test.copy()"
   ]
  },
  {
   "cell_type": "code",
   "execution_count": 146,
   "metadata": {},
   "outputs": [
    {
     "data": {
      "text/plain": [
       "OneHotEncoder(handle_unknown='ignore')"
      ]
     },
     "execution_count": 146,
     "metadata": {},
     "output_type": "execute_result"
    }
   ],
   "source": [
    "ohe.fit(features_train_ohe)"
   ]
  },
  {
   "cell_type": "code",
   "execution_count": 147,
   "metadata": {},
   "outputs": [],
   "source": [
    "features_train_ohe = ohe.transform(features_train_ohe)\n",
    "features_valid_ohe = ohe.transform(features_valid_ohe)\n",
    "features_test_ohe = ohe.transform(features_test_ohe)"
   ]
  },
  {
   "cell_type": "markdown",
   "metadata": {},
   "source": [
    "## Обучение моделей"
   ]
  },
  {
   "cell_type": "code",
   "execution_count": 148,
   "metadata": {},
   "outputs": [],
   "source": [
    "def RMSE(target, predict):\n",
    "    RMSE = mean_squared_error(target, predict) ** 0.5\n",
    "    return RMSE"
   ]
  },
  {
   "cell_type": "code",
   "execution_count": 149,
   "metadata": {},
   "outputs": [],
   "source": [
    "score = make_scorer(RMSE, greater_is_better=False)"
   ]
  },
  {
   "cell_type": "code",
   "execution_count": 150,
   "metadata": {},
   "outputs": [],
   "source": [
    "def show_feature_imp(imp_name, model_name):\n",
    "    imp_name = model_name.feature_importances_\n",
    "\n",
    "    for i,v in enumerate(imp_name):\n",
    "        print('Feature: %0d, Score: %.5f' % (i,v))\n",
    "\n",
    "    pyplot.bar([x for x in range(len(imp_name))], imp_name)\n",
    "    \n",
    "    return pyplot.show()"
   ]
  },
  {
   "cell_type": "markdown",
   "metadata": {},
   "source": [
    "### LinearRegression"
   ]
  },
  {
   "cell_type": "code",
   "execution_count": 151,
   "metadata": {},
   "outputs": [],
   "source": [
    "LR_model = LinearRegression()"
   ]
  },
  {
   "cell_type": "code",
   "execution_count": 152,
   "metadata": {},
   "outputs": [
    {
     "name": "stdout",
     "output_type": "stream",
     "text": [
      "CPU times: total: 10.6 s\n",
      "Wall time: 8.04 s\n"
     ]
    },
    {
     "data": {
      "text/plain": [
       "LinearRegression()"
      ]
     },
     "execution_count": 152,
     "metadata": {},
     "output_type": "execute_result"
    }
   ],
   "source": [
    "%%time\n",
    "LR_model.fit(features_train_ohe, target_train)"
   ]
  },
  {
   "cell_type": "code",
   "execution_count": 153,
   "metadata": {},
   "outputs": [
    {
     "name": "stdout",
     "output_type": "stream",
     "text": [
      "CPU times: total: 0 ns\n",
      "Wall time: 3.52 ms\n"
     ]
    }
   ],
   "source": [
    "%%time\n",
    "LR_model_predictions = LR_model.predict(features_valid_ohe)"
   ]
  },
  {
   "cell_type": "code",
   "execution_count": 154,
   "metadata": {},
   "outputs": [
    {
     "name": "stdout",
     "output_type": "stream",
     "text": [
      "RMSE: 1686.9393987569108\n"
     ]
    }
   ],
   "source": [
    "LR_model_rmse = RMSE(target_valid, LR_model_predictions)\n",
    "    \n",
    "print('RMSE:', LR_model_rmse)"
   ]
  },
  {
   "cell_type": "markdown",
   "metadata": {},
   "source": [
    "Высокая скорость обучения и предсказания и приемлемы результат метрики."
   ]
  },
  {
   "cell_type": "code",
   "execution_count": 155,
   "metadata": {},
   "outputs": [],
   "source": [
    "importance_lr = LR_model.coef_"
   ]
  },
  {
   "cell_type": "code",
   "execution_count": 156,
   "metadata": {
    "scrolled": true
   },
   "outputs": [
    {
     "name": "stdout",
     "output_type": "stream",
     "text": [
      "Feature: 0, Score: -46.26637\n",
      "Feature: 1, Score: 1161.18303\n",
      "Feature: 2, Score: -11.81318\n",
      "Feature: 3, Score: -164.56055\n",
      "Feature: 4, Score: -301.69369\n",
      "Feature: 5, Score: -324.53014\n",
      "Feature: 6, Score: 982.85680\n",
      "Feature: 7, Score: -851.93253\n",
      "Feature: 8, Score: -443.24336\n",
      "Feature: 9, Score: 4254.00912\n",
      "Feature: 10, Score: -7321.71130\n",
      "Feature: 11, Score: 2050.29236\n",
      "Feature: 12, Score: 2973.71208\n",
      "Feature: 13, Score: -1265.11941\n",
      "Feature: 14, Score: -3120.83010\n",
      "Feature: 15, Score: 2534.30960\n",
      "Feature: 16, Score: -486.47360\n",
      "Feature: 17, Score: 1592.81083\n",
      "Feature: 18, Score: 6456.92696\n",
      "Feature: 19, Score: 1491.97599\n",
      "Feature: 20, Score: -744.65048\n",
      "Feature: 21, Score: -1254.42582\n",
      "Feature: 22, Score: -3535.04224\n",
      "Feature: 23, Score: -859.68744\n",
      "Feature: 24, Score: -5593.35480\n",
      "Feature: 25, Score: 6598.49139\n",
      "Feature: 26, Score: -907.26460\n",
      "Feature: 27, Score: -1021.38793\n",
      "Feature: 28, Score: 2754.20899\n",
      "Feature: 29, Score: 64.85021\n",
      "Feature: 30, Score: 1937.61963\n",
      "Feature: 31, Score: -748.52779\n",
      "Feature: 32, Score: 1235.99911\n",
      "Feature: 33, Score: -69.47671\n",
      "Feature: 34, Score: 54.49309\n",
      "Feature: 35, Score: 269.91227\n",
      "Feature: 36, Score: 268.74218\n",
      "Feature: 37, Score: 304.12093\n",
      "Feature: 38, Score: 194.20668\n",
      "Feature: 39, Score: 569.17848\n",
      "Feature: 40, Score: -1405.60630\n",
      "Feature: 41, Score: -784.81531\n",
      "Feature: 42, Score: -741.67500\n",
      "Feature: 43, Score: -624.70840\n",
      "Feature: 44, Score: -365.24502\n",
      "Feature: 45, Score: -499.92787\n",
      "Feature: 46, Score: -2.57617\n",
      "Feature: 47, Score: -70.96762\n",
      "Feature: 48, Score: 20.03705\n",
      "Feature: 49, Score: -35.80883\n",
      "Feature: 50, Score: 404.42284\n",
      "Feature: 51, Score: 624.06857\n",
      "Feature: 52, Score: -498.25749\n",
      "Feature: 53, Score: -206.26533\n",
      "Feature: 54, Score: -263.44705\n",
      "Feature: 55, Score: -710.35139\n",
      "Feature: 56, Score: 1277.30366\n",
      "Feature: 57, Score: 1413.19099\n",
      "Feature: 58, Score: 1285.82872\n",
      "Feature: 59, Score: 1322.88054\n",
      "Feature: 60, Score: 910.03640\n",
      "Feature: 61, Score: 715.45285\n",
      "Feature: 62, Score: 185.57993\n",
      "Feature: 63, Score: 22.40577\n",
      "Feature: 64, Score: -155.21898\n",
      "Feature: 65, Score: -419.97426\n",
      "Feature: 66, Score: -542.75103\n",
      "Feature: 67, Score: -857.07927\n",
      "Feature: 68, Score: -934.63467\n",
      "Feature: 69, Score: -1137.67299\n",
      "Feature: 70, Score: -1240.96412\n",
      "Feature: 71, Score: -1219.25037\n",
      "Feature: 72, Score: -1193.41084\n",
      "Feature: 73, Score: -1157.50985\n",
      "Feature: 74, Score: -935.13170\n",
      "Feature: 75, Score: -760.68915\n",
      "Feature: 76, Score: -3870.01654\n",
      "Feature: 77, Score: -3687.79796\n",
      "Feature: 78, Score: -3366.71133\n",
      "Feature: 79, Score: -2950.24174\n",
      "Feature: 80, Score: -2392.41052\n",
      "Feature: 81, Score: -1764.35457\n",
      "Feature: 82, Score: -1033.54240\n",
      "Feature: 83, Score: -343.24068\n",
      "Feature: 84, Score: 443.89386\n",
      "Feature: 85, Score: 988.85745\n",
      "Feature: 86, Score: 1993.63556\n",
      "Feature: 87, Score: 2749.45026\n",
      "Feature: 88, Score: 3314.63086\n",
      "Feature: 89, Score: 4044.76351\n",
      "Feature: 90, Score: 4289.46370\n",
      "Feature: 91, Score: 4051.85479\n",
      "Feature: 92, Score: -2563.41028\n",
      "Feature: 93, Score: 301.56312\n",
      "Feature: 94, Score: 31.51578\n",
      "Feature: 95, Score: -333.07890\n",
      "Feature: 96, Score: -4083.92549\n",
      "Feature: 97, Score: -1458.43953\n",
      "Feature: 98, Score: -4212.55438\n",
      "Feature: 99, Score: -3837.11209\n",
      "Feature: 100, Score: -3562.65061\n",
      "Feature: 101, Score: -2584.19399\n",
      "Feature: 102, Score: -4941.34106\n",
      "Feature: 103, Score: -3853.10273\n",
      "Feature: 104, Score: -2998.77728\n",
      "Feature: 105, Score: -2884.96314\n",
      "Feature: 106, Score: -5410.98350\n",
      "Feature: 107, Score: -2301.82934\n",
      "Feature: 108, Score: -2681.10640\n",
      "Feature: 109, Score: -3256.60510\n",
      "Feature: 110, Score: -2893.08904\n",
      "Feature: 111, Score: -3367.91963\n",
      "Feature: 112, Score: -1643.09509\n",
      "Feature: 113, Score: -1807.73059\n",
      "Feature: 114, Score: -709.84579\n",
      "Feature: 115, Score: -3567.87713\n",
      "Feature: 116, Score: -5445.11243\n",
      "Feature: 117, Score: -3517.22361\n",
      "Feature: 118, Score: -2458.86742\n",
      "Feature: 119, Score: -1617.10941\n",
      "Feature: 120, Score: -4279.18792\n",
      "Feature: 121, Score: -1898.76554\n",
      "Feature: 122, Score: 1632.36391\n",
      "Feature: 123, Score: -1360.09609\n",
      "Feature: 124, Score: 531.56151\n",
      "Feature: 125, Score: -4007.06899\n",
      "Feature: 126, Score: -1703.39851\n",
      "Feature: 127, Score: -3750.18769\n",
      "Feature: 128, Score: -1721.32608\n",
      "Feature: 129, Score: -2446.39728\n",
      "Feature: 130, Score: -3107.88408\n",
      "Feature: 131, Score: 160.58745\n",
      "Feature: 132, Score: -2175.20148\n",
      "Feature: 133, Score: -3271.60480\n",
      "Feature: 134, Score: -1845.39222\n",
      "Feature: 135, Score: -2010.99220\n",
      "Feature: 136, Score: -1554.53957\n",
      "Feature: 137, Score: -1411.67041\n",
      "Feature: 138, Score: -1528.43632\n",
      "Feature: 139, Score: -2066.93339\n",
      "Feature: 140, Score: -1924.14191\n",
      "Feature: 141, Score: -981.90663\n",
      "Feature: 142, Score: -2514.82215\n",
      "Feature: 143, Score: -1763.29202\n",
      "Feature: 144, Score: -1292.51094\n",
      "Feature: 145, Score: -2222.12713\n",
      "Feature: 146, Score: -2014.75698\n",
      "Feature: 147, Score: -2553.14440\n",
      "Feature: 148, Score: -1950.06958\n",
      "Feature: 149, Score: -2098.90180\n",
      "Feature: 150, Score: -2028.43580\n",
      "Feature: 151, Score: -1935.42755\n",
      "Feature: 152, Score: -2691.60995\n",
      "Feature: 153, Score: -2121.94200\n",
      "Feature: 154, Score: -2325.18238\n",
      "Feature: 155, Score: -2307.73804\n",
      "Feature: 156, Score: -2723.96681\n",
      "Feature: 157, Score: -2573.51140\n",
      "Feature: 158, Score: -1942.15005\n",
      "Feature: 159, Score: -2370.37312\n",
      "Feature: 160, Score: -2530.19993\n",
      "Feature: 161, Score: -2098.78951\n",
      "Feature: 162, Score: -3353.87372\n",
      "Feature: 163, Score: -2294.37288\n",
      "Feature: 164, Score: -3177.85930\n",
      "Feature: 165, Score: -2670.25207\n",
      "Feature: 166, Score: -3144.33514\n",
      "Feature: 167, Score: -2504.08705\n",
      "Feature: 168, Score: -2712.33177\n",
      "Feature: 169, Score: -2072.84855\n",
      "Feature: 170, Score: -2192.47060\n",
      "Feature: 171, Score: -3104.02233\n",
      "Feature: 172, Score: -3136.16691\n",
      "Feature: 173, Score: -2992.16876\n",
      "Feature: 174, Score: -1733.36929\n",
      "Feature: 175, Score: -2512.07486\n",
      "Feature: 176, Score: -1912.04500\n",
      "Feature: 177, Score: -2270.29957\n",
      "Feature: 178, Score: -1921.80596\n",
      "Feature: 179, Score: -2553.65893\n",
      "Feature: 180, Score: -1983.92143\n",
      "Feature: 181, Score: -2148.88221\n",
      "Feature: 182, Score: -2154.02452\n",
      "Feature: 183, Score: -2135.42335\n",
      "Feature: 184, Score: -1981.45385\n",
      "Feature: 185, Score: -2153.04651\n",
      "Feature: 186, Score: -2863.45941\n",
      "Feature: 187, Score: -2200.76275\n",
      "Feature: 188, Score: -1902.19642\n",
      "Feature: 189, Score: -2743.99719\n",
      "Feature: 190, Score: -2268.02449\n",
      "Feature: 191, Score: -1644.70016\n",
      "Feature: 192, Score: -2185.62837\n",
      "Feature: 193, Score: -1540.23881\n",
      "Feature: 194, Score: -1700.31052\n",
      "Feature: 195, Score: -1922.77617\n",
      "Feature: 196, Score: -1999.71224\n",
      "Feature: 197, Score: -1759.38033\n",
      "Feature: 198, Score: -1968.03903\n",
      "Feature: 199, Score: -1711.37662\n",
      "Feature: 200, Score: -1591.21373\n",
      "Feature: 201, Score: -1823.17944\n",
      "Feature: 202, Score: -1524.57266\n",
      "Feature: 203, Score: -1901.25577\n",
      "Feature: 204, Score: -2161.89078\n",
      "Feature: 205, Score: -1813.59713\n",
      "Feature: 206, Score: -1691.07467\n",
      "Feature: 207, Score: -1543.40832\n",
      "Feature: 208, Score: -1615.11209\n",
      "Feature: 209, Score: -1843.80399\n",
      "Feature: 210, Score: -1703.07028\n",
      "Feature: 211, Score: -1609.02648\n",
      "Feature: 212, Score: -1341.23730\n",
      "Feature: 213, Score: -1745.01591\n",
      "Feature: 214, Score: -1708.38818\n",
      "Feature: 215, Score: -1703.71743\n",
      "Feature: 216, Score: -1981.90892\n",
      "Feature: 217, Score: -1229.87914\n",
      "Feature: 218, Score: -1708.52223\n",
      "Feature: 219, Score: -1510.39609\n",
      "Feature: 220, Score: -1765.34385\n",
      "Feature: 221, Score: -912.84041\n",
      "Feature: 222, Score: -1308.02722\n",
      "Feature: 223, Score: -1837.51545\n",
      "Feature: 224, Score: -893.31940\n",
      "Feature: 225, Score: -1582.79586\n",
      "Feature: 226, Score: -1372.06768\n",
      "Feature: 227, Score: -1468.01896\n",
      "Feature: 228, Score: -1325.64542\n",
      "Feature: 229, Score: -1639.26859\n",
      "Feature: 230, Score: -899.41467\n",
      "Feature: 231, Score: -1479.72646\n",
      "Feature: 232, Score: -1176.88260\n",
      "Feature: 233, Score: -1309.19102\n",
      "Feature: 234, Score: -1411.22487\n",
      "Feature: 235, Score: -742.78452\n",
      "Feature: 236, Score: -1284.26645\n",
      "Feature: 237, Score: -1521.03649\n",
      "Feature: 238, Score: -386.04839\n",
      "Feature: 239, Score: -1024.34906\n",
      "Feature: 240, Score: -992.02944\n",
      "Feature: 241, Score: -1158.13431\n",
      "Feature: 242, Score: -1226.30980\n",
      "Feature: 243, Score: -1079.24038\n",
      "Feature: 244, Score: -951.29093\n",
      "Feature: 245, Score: -1100.68442\n",
      "Feature: 246, Score: 2215.02083\n",
      "Feature: 247, Score: 1264.39476\n",
      "Feature: 248, Score: 1210.78536\n",
      "Feature: 249, Score: -1036.67564\n",
      "Feature: 250, Score: -1064.79817\n",
      "Feature: 251, Score: 356.32280\n",
      "Feature: 252, Score: 1692.61141\n",
      "Feature: 253, Score: -440.04762\n",
      "Feature: 254, Score: 954.55014\n",
      "Feature: 255, Score: 338.19996\n",
      "Feature: 256, Score: 99.08632\n",
      "Feature: 257, Score: -523.79494\n",
      "Feature: 258, Score: -83.75631\n",
      "Feature: 259, Score: -1290.92086\n",
      "Feature: 260, Score: -1284.00065\n",
      "Feature: 261, Score: -833.90183\n",
      "Feature: 262, Score: -214.90883\n",
      "Feature: 263, Score: 2.22935\n",
      "Feature: 264, Score: -162.83356\n",
      "Feature: 265, Score: 3.31801\n",
      "Feature: 266, Score: 9.29006\n",
      "Feature: 267, Score: -481.00520\n",
      "Feature: 268, Score: -5.23765\n",
      "Feature: 269, Score: -124.00153\n",
      "Feature: 270, Score: -87.48706\n",
      "Feature: 271, Score: -319.17333\n",
      "Feature: 272, Score: 805.88233\n",
      "Feature: 273, Score: 107.71884\n",
      "Feature: 274, Score: 68.89095\n",
      "Feature: 275, Score: -342.07942\n",
      "Feature: 276, Score: -844.53907\n",
      "Feature: 277, Score: 2155.76759\n",
      "Feature: 278, Score: 713.08940\n",
      "Feature: 279, Score: 188.95039\n",
      "Feature: 280, Score: 246.67334\n",
      "Feature: 281, Score: -1498.55846\n",
      "Feature: 282, Score: 191.20170\n",
      "Feature: 283, Score: -675.30050\n",
      "Feature: 284, Score: -594.99244\n",
      "Feature: 285, Score: 1280.78108\n",
      "Feature: 286, Score: -556.45893\n",
      "Feature: 287, Score: 185.75320\n",
      "Feature: 288, Score: -723.13783\n",
      "Feature: 289, Score: -622.82614\n",
      "Feature: 290, Score: -614.34226\n",
      "Feature: 291, Score: -441.07690\n",
      "Feature: 292, Score: 450.62961\n",
      "Feature: 293, Score: -371.03472\n",
      "Feature: 294, Score: 1408.72362\n",
      "Feature: 295, Score: 1059.35583\n",
      "Feature: 296, Score: 873.61697\n",
      "Feature: 297, Score: -1587.64311\n",
      "Feature: 298, Score: -244.45868\n",
      "Feature: 299, Score: 569.57141\n",
      "Feature: 300, Score: 1294.40464\n",
      "Feature: 301, Score: -506.70130\n",
      "Feature: 302, Score: -572.97868\n",
      "Feature: 303, Score: 868.03425\n",
      "Feature: 304, Score: 1654.57981\n",
      "Feature: 305, Score: 778.53324\n",
      "Feature: 306, Score: 1190.41608\n",
      "Feature: 307, Score: 172.44879\n",
      "Feature: 308, Score: 1152.68045\n",
      "Feature: 309, Score: 1325.66675\n",
      "Feature: 310, Score: 67.56142\n",
      "Feature: 311, Score: 980.81484\n",
      "Feature: 312, Score: 3416.33727\n",
      "Feature: 313, Score: 1506.70612\n",
      "Feature: 314, Score: -726.97580\n",
      "Feature: 315, Score: 1135.66181\n",
      "Feature: 316, Score: -1971.83259\n",
      "Feature: 317, Score: -454.10779\n",
      "Feature: 318, Score: 2132.19747\n",
      "Feature: 319, Score: 2021.23122\n",
      "Feature: 320, Score: 1732.11650\n",
      "Feature: 321, Score: 1780.73953\n",
      "Feature: 322, Score: 799.32671\n",
      "Feature: 323, Score: 1113.56659\n",
      "Feature: 324, Score: -23.95569\n",
      "Feature: 325, Score: 1748.22379\n",
      "Feature: 326, Score: 2420.82349\n",
      "Feature: 327, Score: 2710.05495\n",
      "Feature: 328, Score: 3536.81276\n",
      "Feature: 329, Score: 1537.20723\n",
      "Feature: 330, Score: 2209.05738\n",
      "Feature: 331, Score: 945.41699\n",
      "Feature: 332, Score: 666.67756\n",
      "Feature: 333, Score: 1051.95994\n",
      "Feature: 334, Score: 1601.97676\n",
      "Feature: 335, Score: 899.15233\n",
      "Feature: 336, Score: 2041.83031\n",
      "Feature: 337, Score: 2265.83968\n",
      "Feature: 338, Score: 2359.32653\n",
      "Feature: 339, Score: 1009.71405\n",
      "Feature: 340, Score: 1450.93808\n",
      "Feature: 341, Score: -219.18159\n",
      "Feature: 342, Score: 583.86845\n",
      "Feature: 343, Score: 2781.87244\n",
      "Feature: 344, Score: 2084.77329\n",
      "Feature: 345, Score: 2014.96002\n",
      "Feature: 346, Score: 294.69279\n",
      "Feature: 347, Score: 4616.55864\n",
      "Feature: 348, Score: 2906.12510\n",
      "Feature: 349, Score: 1927.75924\n",
      "Feature: 350, Score: 2011.35267\n",
      "Feature: 351, Score: 2873.83385\n",
      "Feature: 352, Score: -1004.39473\n",
      "Feature: 353, Score: 2303.03204\n",
      "Feature: 354, Score: 3050.34621\n",
      "Feature: 355, Score: 4159.74019\n",
      "Feature: 356, Score: 4614.31130\n",
      "Feature: 357, Score: 3227.76316\n",
      "Feature: 358, Score: 3906.21664\n",
      "Feature: 359, Score: 2234.57537\n",
      "Feature: 360, Score: 1333.25526\n",
      "Feature: 361, Score: 2175.93450\n",
      "Feature: 362, Score: 2281.96220\n",
      "Feature: 363, Score: 3477.54587\n",
      "Feature: 364, Score: 3162.45385\n",
      "Feature: 365, Score: 1567.57060\n",
      "Feature: 366, Score: 2069.47903\n",
      "Feature: 367, Score: 2191.51374\n",
      "Feature: 368, Score: 33.84059\n",
      "Feature: 369, Score: 1631.69465\n",
      "Feature: 370, Score: 764.26692\n",
      "Feature: 371, Score: 211.71539\n",
      "Feature: 372, Score: 3262.37976\n",
      "Feature: 373, Score: -1007.33433\n",
      "Feature: 374, Score: 5849.52086\n",
      "Feature: 375, Score: 3318.46950\n",
      "Feature: 376, Score: 2554.32206\n",
      "Feature: 377, Score: 1398.87535\n",
      "Feature: 378, Score: -1501.36235\n",
      "Feature: 379, Score: 2185.18102\n",
      "Feature: 380, Score: 1237.65690\n",
      "Feature: 381, Score: 2060.57872\n",
      "Feature: 382, Score: 2892.77048\n",
      "Feature: 383, Score: 1164.80481\n",
      "Feature: 384, Score: 1466.90019\n",
      "Feature: 385, Score: 3223.73620\n",
      "Feature: 386, Score: 1329.76966\n",
      "Feature: 387, Score: 2094.99055\n",
      "Feature: 388, Score: 2987.36853\n",
      "Feature: 389, Score: 2650.50419\n",
      "Feature: 390, Score: 1632.10415\n",
      "Feature: 391, Score: 1949.61578\n",
      "Feature: 392, Score: 3449.97076\n",
      "Feature: 393, Score: -164.68127\n",
      "Feature: 394, Score: -32.16473\n",
      "Feature: 395, Score: 5005.47232\n",
      "Feature: 396, Score: 885.18987\n",
      "Feature: 397, Score: 3865.87540\n",
      "Feature: 398, Score: 1941.51809\n",
      "Feature: 399, Score: 1787.92657\n",
      "Feature: 400, Score: 4288.78433\n",
      "Feature: 401, Score: 3546.23626\n",
      "Feature: 402, Score: 5150.86704\n",
      "Feature: 403, Score: 6726.38165\n",
      "Feature: 404, Score: 1180.25467\n",
      "Feature: 405, Score: 4392.51591\n",
      "Feature: 406, Score: -1728.76739\n",
      "Feature: 407, Score: 2949.18409\n",
      "Feature: 408, Score: 1762.75648\n",
      "Feature: 409, Score: 4877.99790\n",
      "Feature: 410, Score: 4717.01955\n",
      "Feature: 411, Score: 6083.91152\n",
      "Feature: 412, Score: 3896.28089\n",
      "Feature: 413, Score: 4655.71334\n",
      "Feature: 414, Score: 4055.95792\n",
      "Feature: 415, Score: 3570.24363\n",
      "Feature: 416, Score: 5722.17772\n",
      "Feature: 417, Score: 3818.28297\n",
      "Feature: 418, Score: 3380.62383\n",
      "Feature: 419, Score: 10808.75457\n",
      "Feature: 420, Score: 1710.57680\n",
      "Feature: 421, Score: 4452.20992\n",
      "Feature: 422, Score: 2302.13464\n",
      "Feature: 423, Score: 1146.92654\n",
      "Feature: 424, Score: 2053.65673\n",
      "Feature: 425, Score: 7074.17771\n",
      "Feature: 426, Score: 4629.70430\n",
      "Feature: 427, Score: 4208.32516\n",
      "Feature: 428, Score: 6776.04412\n",
      "Feature: 429, Score: -226.48208\n",
      "Feature: 430, Score: 3637.78486\n",
      "Feature: 431, Score: 5286.84616\n",
      "Feature: 432, Score: 4562.79975\n",
      "Feature: 433, Score: 3862.67626\n",
      "Feature: 434, Score: 3253.54790\n",
      "Feature: 435, Score: 7366.16263\n",
      "Feature: 436, Score: 4529.61247\n",
      "Feature: 437, Score: 3791.47889\n",
      "Feature: 438, Score: 4355.32656\n",
      "Feature: 439, Score: 4892.61034\n",
      "Feature: 440, Score: 8489.04552\n",
      "Feature: 441, Score: 4126.34643\n",
      "Feature: 442, Score: 4710.95610\n",
      "Feature: 443, Score: 7067.80121\n",
      "Feature: 444, Score: 6325.37424\n",
      "Feature: 445, Score: 845.02187\n",
      "Feature: 446, Score: 3424.56168\n",
      "Feature: 447, Score: -4107.44315\n",
      "Feature: 448, Score: 5839.84763\n",
      "Feature: 449, Score: 5770.93113\n",
      "Feature: 450, Score: 3716.61142\n",
      "Feature: 451, Score: 5011.17757\n",
      "Feature: 452, Score: 1980.28767\n",
      "Feature: 453, Score: 4836.15045\n",
      "Feature: 454, Score: 2607.48036\n",
      "Feature: 455, Score: 3148.49707\n",
      "Feature: 456, Score: 4278.94832\n",
      "Feature: 457, Score: 2012.41462\n",
      "Feature: 458, Score: 3835.31849\n",
      "Feature: 459, Score: -1061.03451\n",
      "Feature: 460, Score: -804.29473\n",
      "Feature: 461, Score: -146.36826\n",
      "Feature: 462, Score: 2644.24202\n",
      "Feature: 463, Score: 5964.93409\n",
      "Feature: 464, Score: -14879.01819\n",
      "Feature: 465, Score: 5128.27251\n",
      "Feature: 466, Score: 9309.98059\n",
      "Feature: 467, Score: 6246.27944\n",
      "Feature: 468, Score: 4197.75196\n",
      "Feature: 469, Score: 4914.81917\n",
      "Feature: 470, Score: 4022.13404\n",
      "Feature: 471, Score: 6982.02571\n",
      "Feature: 472, Score: 6982.02571\n",
      "Feature: 473, Score: 1166.38804\n",
      "Feature: 474, Score: 8513.38647\n",
      "Feature: 475, Score: 6692.39445\n",
      "Feature: 476, Score: 5053.82048\n",
      "Feature: 477, Score: 4259.35916\n",
      "Feature: 478, Score: 5989.34866\n",
      "Feature: 479, Score: 1735.75411\n",
      "Feature: 480, Score: 7102.81701\n",
      "Feature: 481, Score: -2018.50283\n",
      "Feature: 482, Score: -2940.32847\n",
      "Feature: 483, Score: -2773.67562\n",
      "Feature: 484, Score: 8341.34922\n",
      "Feature: 485, Score: -3071.26138\n",
      "Feature: 486, Score: -3856.57372\n",
      "Feature: 487, Score: -1227.94573\n",
      "Feature: 488, Score: -4685.67766\n",
      "Feature: 489, Score: -3290.60458\n",
      "Feature: 490, Score: -2555.27132\n",
      "Feature: 491, Score: -545.05382\n",
      "Feature: 492, Score: -2632.92219\n",
      "Feature: 493, Score: 4010.09368\n",
      "Feature: 494, Score: -4866.16283\n",
      "Feature: 495, Score: -3699.86227\n",
      "Feature: 496, Score: 904.24615\n",
      "Feature: 497, Score: -1590.19436\n",
      "Feature: 498, Score: -1353.82715\n",
      "Feature: 499, Score: -2128.40053\n",
      "Feature: 500, Score: 1181.08348\n",
      "Feature: 501, Score: -1692.95322\n",
      "Feature: 502, Score: -4857.22459\n",
      "Feature: 503, Score: 7450.77133\n",
      "Feature: 504, Score: -2449.88113\n",
      "Feature: 505, Score: 613.10085\n",
      "Feature: 506, Score: -3020.12907\n",
      "Feature: 507, Score: -1831.47050\n",
      "Feature: 508, Score: -2124.23969\n",
      "Feature: 509, Score: -3298.44429\n",
      "Feature: 510, Score: -1621.68603\n",
      "Feature: 511, Score: -2372.24075\n",
      "Feature: 512, Score: -1526.04586\n",
      "Feature: 513, Score: -1767.75076\n",
      "Feature: 514, Score: -1877.53257\n",
      "Feature: 515, Score: -7047.71186\n",
      "Feature: 516, Score: -2394.35027\n",
      "Feature: 517, Score: -2372.07535\n",
      "Feature: 518, Score: -2216.91111\n",
      "Feature: 519, Score: -2321.93883\n",
      "Feature: 520, Score: -4085.03039\n",
      "Feature: 521, Score: -1909.25427\n",
      "Feature: 522, Score: -3108.86828\n",
      "Feature: 523, Score: -1680.43431\n",
      "Feature: 524, Score: -1018.28405\n",
      "Feature: 525, Score: -3462.11366\n",
      "Feature: 526, Score: -2511.63664\n",
      "Feature: 527, Score: -2393.41819\n",
      "Feature: 528, Score: -1824.50586\n",
      "Feature: 529, Score: -3323.41757\n",
      "Feature: 530, Score: -3555.22523\n",
      "Feature: 531, Score: -2557.86299\n",
      "Feature: 532, Score: -3502.80523\n",
      "Feature: 533, Score: -2172.89370\n",
      "Feature: 534, Score: -5295.18350\n",
      "Feature: 535, Score: -5436.60067\n",
      "Feature: 536, Score: -1286.06685\n",
      "Feature: 537, Score: -2733.65614\n",
      "Feature: 538, Score: -2508.22050\n",
      "Feature: 539, Score: -2842.80871\n",
      "Feature: 540, Score: -1551.01556\n",
      "Feature: 541, Score: -2866.77654\n",
      "Feature: 542, Score: -1459.60525\n",
      "Feature: 543, Score: -2741.29930\n",
      "Feature: 544, Score: -1746.14647\n",
      "Feature: 545, Score: -1690.27869\n",
      "Feature: 546, Score: -1784.84409\n",
      "Feature: 547, Score: 1072.73861\n",
      "Feature: 548, Score: -1421.16633\n",
      "Feature: 549, Score: -2191.11537\n",
      "Feature: 550, Score: 1337.51640\n",
      "Feature: 551, Score: -1734.73271\n",
      "Feature: 552, Score: -1623.05694\n",
      "Feature: 553, Score: -1531.72967\n",
      "Feature: 554, Score: -2085.51466\n",
      "Feature: 555, Score: 857.83711\n",
      "Feature: 556, Score: -2355.54380\n",
      "Feature: 557, Score: -2962.64146\n",
      "Feature: 558, Score: -1286.98407\n",
      "Feature: 559, Score: -3187.73821\n",
      "Feature: 560, Score: 3612.57253\n",
      "Feature: 561, Score: -2282.00793\n",
      "Feature: 562, Score: 3450.77825\n",
      "Feature: 563, Score: 1482.20520\n",
      "Feature: 564, Score: -814.37173\n",
      "Feature: 565, Score: -1480.17206\n",
      "Feature: 566, Score: 553.38501\n",
      "Feature: 567, Score: -2403.26103\n",
      "Feature: 568, Score: -1199.94816\n",
      "Feature: 569, Score: -2241.05920\n",
      "Feature: 570, Score: -2133.54524\n",
      "Feature: 571, Score: -1829.56610\n",
      "Feature: 572, Score: -1387.11012\n",
      "Feature: 573, Score: -216.29693\n",
      "Feature: 574, Score: -1200.98481\n",
      "Feature: 575, Score: -464.76183\n",
      "Feature: 576, Score: -1128.74057\n",
      "Feature: 577, Score: -750.86951\n",
      "Feature: 578, Score: -1578.70440\n",
      "Feature: 579, Score: -3119.00550\n",
      "Feature: 580, Score: 666.44514\n",
      "Feature: 581, Score: -3010.59036\n",
      "Feature: 582, Score: -2753.88061\n",
      "Feature: 583, Score: -4354.25072\n",
      "Feature: 584, Score: 3719.45739\n",
      "Feature: 585, Score: 3489.84526\n",
      "Feature: 586, Score: -2903.42753\n",
      "Feature: 587, Score: 826.24736\n",
      "Feature: 588, Score: -1312.40519\n",
      "Feature: 589, Score: -1564.68513\n",
      "Feature: 590, Score: -2204.50031\n",
      "Feature: 591, Score: -1154.56448\n",
      "Feature: 592, Score: 55.36661\n",
      "Feature: 593, Score: -796.22682\n",
      "Feature: 594, Score: -896.40814\n",
      "Feature: 595, Score: -100.47034\n",
      "Feature: 596, Score: -286.93678\n",
      "Feature: 597, Score: 638.77450\n",
      "Feature: 598, Score: -1955.15503\n",
      "Feature: 599, Score: -415.68885\n",
      "Feature: 600, Score: 2571.52554\n",
      "Feature: 601, Score: 89.73903\n",
      "Feature: 602, Score: -16.58118\n",
      "Feature: 603, Score: -184.91156\n",
      "Feature: 604, Score: 136.65410\n",
      "Feature: 605, Score: 363.66998\n",
      "Feature: 606, Score: -127.39579\n",
      "Feature: 607, Score: 215.38685\n",
      "Feature: 608, Score: 166.47994\n",
      "Feature: 609, Score: 1942.98246\n",
      "Feature: 610, Score: -583.13629\n",
      "Feature: 611, Score: -853.20609\n",
      "Feature: 612, Score: -563.20289\n",
      "Feature: 613, Score: -560.00869\n",
      "Feature: 614, Score: 444.84313\n",
      "Feature: 615, Score: 224.39815\n",
      "Feature: 616, Score: 3459.28363\n",
      "Feature: 617, Score: 1751.22461\n",
      "Feature: 618, Score: 825.84840\n",
      "Feature: 619, Score: 246.38871\n",
      "Feature: 620, Score: 48.30008\n",
      "Feature: 621, Score: 1468.65148\n",
      "Feature: 622, Score: -375.85349\n",
      "Feature: 623, Score: -586.97794\n",
      "Feature: 624, Score: -834.98564\n",
      "Feature: 625, Score: 445.97246\n",
      "Feature: 626, Score: -903.45960\n",
      "Feature: 627, Score: 315.84880\n",
      "Feature: 628, Score: -587.71400\n",
      "Feature: 629, Score: -336.37096\n",
      "Feature: 630, Score: -2286.78145\n",
      "Feature: 631, Score: 587.56785\n",
      "Feature: 632, Score: -261.78528\n",
      "Feature: 633, Score: -146.71870\n",
      "Feature: 634, Score: -993.33914\n",
      "Feature: 635, Score: -342.36102\n",
      "Feature: 636, Score: -2360.74331\n",
      "Feature: 637, Score: -3151.75551\n",
      "Feature: 638, Score: 894.01742\n",
      "Feature: 639, Score: 924.51550\n",
      "Feature: 640, Score: 478.44320\n",
      "Feature: 641, Score: -318.08278\n",
      "Feature: 642, Score: -215.42760\n",
      "Feature: 643, Score: 2425.07862\n",
      "Feature: 644, Score: -268.44752\n",
      "Feature: 645, Score: -2202.10464\n",
      "Feature: 646, Score: -1136.22969\n",
      "Feature: 647, Score: -807.30870\n",
      "Feature: 648, Score: -457.58319\n",
      "Feature: 649, Score: -463.53836\n",
      "Feature: 650, Score: -445.11925\n",
      "Feature: 651, Score: 368.63967\n",
      "Feature: 652, Score: 678.01462\n",
      "Feature: 653, Score: -140.21357\n",
      "Feature: 654, Score: 396.12475\n",
      "Feature: 655, Score: 227.16154\n",
      "Feature: 656, Score: -101.05156\n",
      "Feature: 657, Score: -770.46882\n",
      "Feature: 658, Score: -810.46293\n",
      "Feature: 659, Score: 2383.80540\n",
      "Feature: 660, Score: 407.18661\n",
      "Feature: 661, Score: 285.36517\n",
      "Feature: 662, Score: -12.53284\n",
      "Feature: 663, Score: -2253.81539\n",
      "Feature: 664, Score: 230.15161\n",
      "Feature: 665, Score: 81.87969\n",
      "Feature: 666, Score: -471.31621\n",
      "Feature: 667, Score: -95.34435\n",
      "Feature: 668, Score: -507.71512\n",
      "Feature: 669, Score: -913.53883\n",
      "Feature: 670, Score: -1143.78666\n",
      "Feature: 671, Score: -656.54343\n",
      "Feature: 672, Score: -135.05569\n",
      "Feature: 673, Score: -405.61867\n",
      "Feature: 674, Score: -403.87765\n",
      "Feature: 675, Score: 1007.39685\n",
      "Feature: 676, Score: -827.67538\n",
      "Feature: 677, Score: 2871.62181\n",
      "Feature: 678, Score: -751.90741\n",
      "Feature: 679, Score: 751.88811\n",
      "Feature: 680, Score: 5548.15812\n",
      "Feature: 681, Score: 619.43147\n",
      "Feature: 682, Score: 566.39747\n",
      "Feature: 683, Score: -808.65611\n",
      "Feature: 684, Score: 384.46412\n",
      "Feature: 685, Score: 1303.86219\n",
      "Feature: 686, Score: -445.14626\n",
      "Feature: 687, Score: -10.20742\n",
      "Feature: 688, Score: 235.46405\n",
      "Feature: 689, Score: -245.54114\n",
      "Feature: 690, Score: -888.40560\n",
      "Feature: 691, Score: 534.29394\n",
      "Feature: 692, Score: -470.05223\n",
      "Feature: 693, Score: -267.89369\n",
      "Feature: 694, Score: -57.25619\n",
      "Feature: 695, Score: 355.95958\n",
      "Feature: 696, Score: -314.52219\n",
      "Feature: 697, Score: -968.30652\n",
      "Feature: 698, Score: -2964.51864\n",
      "Feature: 699, Score: -830.07355\n",
      "Feature: 700, Score: -375.65905\n",
      "Feature: 701, Score: 4561.95346\n",
      "Feature: 702, Score: -864.71403\n",
      "Feature: 703, Score: 476.53246\n",
      "Feature: 704, Score: -427.66997\n",
      "Feature: 705, Score: 3144.96113\n",
      "Feature: 706, Score: -207.51069\n",
      "Feature: 707, Score: -166.26139\n",
      "Feature: 708, Score: 767.34746\n",
      "Feature: 709, Score: -560.15709\n",
      "Feature: 710, Score: -20.41715\n",
      "Feature: 711, Score: -740.13733\n",
      "Feature: 712, Score: 509.76057\n",
      "Feature: 713, Score: 460.27970\n",
      "Feature: 714, Score: -491.05883\n",
      "Feature: 715, Score: -291.70558\n",
      "Feature: 716, Score: 617.20343\n",
      "Feature: 717, Score: 462.26093\n",
      "Feature: 718, Score: -896.28486\n",
      "Feature: 719, Score: -961.26773\n",
      "Feature: 720, Score: -665.59252\n",
      "Feature: 721, Score: 503.25246\n",
      "Feature: 722, Score: -3235.31750\n",
      "Feature: 723, Score: -1313.09627\n",
      "Feature: 724, Score: -345.10712\n",
      "Feature: 725, Score: -114.01647\n",
      "Feature: 726, Score: 2240.51578\n",
      "Feature: 727, Score: -538.54948\n",
      "Feature: 728, Score: -462.34469\n",
      "Feature: 729, Score: -736.87981\n",
      "Feature: 730, Score: -334.95617\n",
      "Feature: 731, Score: -45.22990\n",
      "Feature: 732, Score: 2060.74194\n",
      "Feature: 733, Score: -339.69542\n",
      "Feature: 734, Score: -606.85877\n",
      "Feature: 735, Score: -1719.85997\n",
      "Feature: 736, Score: -906.02644\n",
      "Feature: 737, Score: 2664.90990\n",
      "Feature: 738, Score: 128.19682\n",
      "Feature: 739, Score: -2174.34066\n",
      "Feature: 740, Score: -594.92856\n",
      "Feature: 741, Score: -749.93149\n",
      "Feature: 742, Score: -874.98062\n",
      "Feature: 743, Score: -2355.27260\n",
      "Feature: 744, Score: -1294.65913\n",
      "Feature: 745, Score: -247.00162\n",
      "Feature: 746, Score: 39.84886\n",
      "Feature: 747, Score: -1445.01055\n",
      "Feature: 748, Score: 2716.09249\n",
      "Feature: 749, Score: 855.95583\n",
      "Feature: 750, Score: 2290.58310\n",
      "Feature: 751, Score: -1407.99176\n",
      "Feature: 752, Score: -1548.04348\n",
      "Feature: 753, Score: -1633.76850\n",
      "Feature: 754, Score: 783.01355\n",
      "Feature: 755, Score: -960.48051\n",
      "Feature: 756, Score: -1172.63709\n",
      "Feature: 757, Score: -0.73880\n",
      "Feature: 758, Score: 1059.07668\n",
      "Feature: 759, Score: 527.17711\n",
      "Feature: 760, Score: -1769.44381\n",
      "Feature: 761, Score: -338.29254\n",
      "Feature: 762, Score: -270.40697\n",
      "Feature: 763, Score: -700.25818\n",
      "Feature: 764, Score: -654.84282\n",
      "Feature: 765, Score: -773.24913\n",
      "Feature: 766, Score: 501.46089\n",
      "Feature: 767, Score: -172.42379\n",
      "Feature: 768, Score: -4466.04335\n",
      "Feature: 769, Score: -2198.31937\n",
      "Feature: 770, Score: 1639.04860\n",
      "Feature: 771, Score: 2114.11480\n",
      "Feature: 772, Score: -116.91529\n",
      "Feature: 773, Score: 78.11080\n",
      "Feature: 774, Score: 1731.40305\n",
      "Feature: 775, Score: -264.53487\n",
      "Feature: 776, Score: -170.83269\n",
      "Feature: 777, Score: 88.00591\n",
      "Feature: 778, Score: 741.51729\n",
      "Feature: 779, Score: -139.98535\n",
      "Feature: 780, Score: -942.60196\n",
      "Feature: 781, Score: -572.12255\n",
      "Feature: 782, Score: -549.71590\n",
      "Feature: 783, Score: 1213.72983\n",
      "Feature: 784, Score: -1872.35048\n",
      "Feature: 785, Score: 840.16523\n",
      "Feature: 786, Score: -255.01488\n",
      "Feature: 787, Score: 539.03285\n",
      "Feature: 788, Score: -634.47428\n",
      "Feature: 789, Score: 848.67108\n",
      "Feature: 790, Score: -347.70473\n",
      "Feature: 791, Score: -3036.94410\n",
      "Feature: 792, Score: 4422.36765\n",
      "Feature: 793, Score: 2984.22616\n",
      "Feature: 794, Score: -177.31946\n",
      "Feature: 795, Score: -803.26759\n",
      "Feature: 796, Score: -581.69447\n",
      "Feature: 797, Score: 2602.70224\n",
      "Feature: 798, Score: 649.88276\n",
      "Feature: 799, Score: 353.54026\n",
      "Feature: 800, Score: -3534.59249\n",
      "Feature: 801, Score: 2130.13714\n",
      "Feature: 802, Score: 1432.62546\n",
      "Feature: 803, Score: 327.27891\n",
      "Feature: 804, Score: -479.80613\n",
      "Feature: 805, Score: 1536.95893\n",
      "Feature: 806, Score: -416.37321\n",
      "Feature: 807, Score: 617.60350\n",
      "Feature: 808, Score: -1046.08951\n",
      "Feature: 809, Score: 1263.14623\n",
      "Feature: 810, Score: -121.72423\n",
      "Feature: 811, Score: 503.73071\n",
      "Feature: 812, Score: 97.41440\n",
      "Feature: 813, Score: -38.09253\n",
      "Feature: 814, Score: 2434.99160\n",
      "Feature: 815, Score: 1133.40112\n",
      "Feature: 816, Score: -22.30356\n",
      "Feature: 817, Score: -592.16142\n",
      "Feature: 818, Score: -192.04250\n",
      "Feature: 819, Score: -2335.16925\n",
      "Feature: 820, Score: -554.59158\n",
      "Feature: 821, Score: 467.24185\n",
      "Feature: 822, Score: 2256.67105\n",
      "Feature: 823, Score: -144.61157\n",
      "Feature: 824, Score: -292.51680\n",
      "Feature: 825, Score: -367.46288\n",
      "Feature: 826, Score: -490.07520\n",
      "Feature: 827, Score: 2502.46886\n",
      "Feature: 828, Score: -53.91749\n",
      "Feature: 829, Score: 613.73442\n",
      "Feature: 830, Score: 194.79682\n",
      "Feature: 831, Score: 4627.43879\n",
      "Feature: 832, Score: 1390.95548\n",
      "Feature: 833, Score: -198.21048\n",
      "Feature: 834, Score: -1595.32676\n",
      "Feature: 835, Score: 1309.59844\n",
      "Feature: 836, Score: -910.70749\n",
      "Feature: 837, Score: 1130.42544\n",
      "Feature: 838, Score: -553.52537\n",
      "Feature: 839, Score: 2360.08613\n",
      "Feature: 840, Score: -284.27283\n",
      "Feature: 841, Score: -803.87106\n",
      "Feature: 842, Score: 715.94062\n",
      "Feature: 843, Score: 227.53408\n",
      "Feature: 844, Score: 140.22284\n",
      "Feature: 845, Score: 377.94771\n",
      "Feature: 846, Score: 380.62499\n",
      "Feature: 847, Score: 194.98744\n",
      "Feature: 848, Score: 315.77459\n",
      "Feature: 849, Score: 117.68837\n",
      "Feature: 850, Score: 21.80400\n",
      "Feature: 851, Score: -189.67530\n",
      "Feature: 852, Score: -352.52845\n",
      "Feature: 853, Score: -1146.44982\n",
      "Feature: 854, Score: -167.89361\n",
      "Feature: 855, Score: -119.66496\n",
      "Feature: 856, Score: 259.47352\n",
      "Feature: 857, Score: 1234.78864\n",
      "Feature: 858, Score: -217.50963\n",
      "Feature: 859, Score: -864.45893\n",
      "Feature: 860, Score: -78.89296\n",
      "Feature: 861, Score: -45.84207\n",
      "Feature: 862, Score: -160.81849\n",
      "Feature: 863, Score: 1149.14311\n",
      "Feature: 864, Score: 961.75920\n",
      "Feature: 865, Score: -137.44104\n",
      "Feature: 866, Score: -1187.87545\n",
      "Feature: 867, Score: -264.35931\n",
      "Feature: 868, Score: -2437.26820\n",
      "Feature: 869, Score: 270.56275\n",
      "Feature: 870, Score: -606.29436\n",
      "Feature: 871, Score: -484.53188\n",
      "Feature: 872, Score: -273.88410\n",
      "Feature: 873, Score: 14.74641\n",
      "Feature: 874, Score: -1127.99875\n",
      "Feature: 875, Score: 1480.31886\n",
      "Feature: 876, Score: -623.43223\n",
      "Feature: 877, Score: -1220.38736\n",
      "Feature: 878, Score: -1932.10968\n",
      "Feature: 879, Score: 253.34546\n",
      "Feature: 880, Score: 1010.77738\n",
      "Feature: 881, Score: -344.16914\n",
      "Feature: 882, Score: 1238.97368\n",
      "Feature: 883, Score: 2580.89402\n",
      "Feature: 884, Score: -163.70853\n",
      "Feature: 885, Score: 230.21583\n",
      "Feature: 886, Score: 68.48562\n",
      "Feature: 887, Score: -510.54504\n",
      "Feature: 888, Score: 2496.80942\n",
      "Feature: 889, Score: -174.31271\n",
      "Feature: 890, Score: -362.37192\n",
      "Feature: 891, Score: -140.10576\n",
      "Feature: 892, Score: 207.49232\n",
      "Feature: 893, Score: -142.73687\n",
      "Feature: 894, Score: -303.97943\n",
      "Feature: 895, Score: 422.38576\n",
      "Feature: 896, Score: 377.80209\n",
      "Feature: 897, Score: -511.97496\n",
      "Feature: 898, Score: 685.17317\n",
      "Feature: 899, Score: -1487.53589\n",
      "Feature: 900, Score: 866.60360\n",
      "Feature: 901, Score: 282.35239\n",
      "Feature: 902, Score: 521.78617\n",
      "Feature: 903, Score: 136.45266\n",
      "Feature: 904, Score: -658.23883\n",
      "Feature: 905, Score: 1814.93088\n",
      "Feature: 906, Score: -3421.60834\n",
      "Feature: 907, Score: -739.14543\n",
      "Feature: 908, Score: -95.17600\n",
      "Feature: 909, Score: 484.69663\n",
      "Feature: 910, Score: 1956.30226\n"
     ]
    }
   ],
   "source": [
    "# summarize feature importance\n",
    "\n",
    "for i,v in enumerate(importance_lr):\n",
    "    print('Feature: %0d, Score: %.5f' % (i,v))"
   ]
  },
  {
   "cell_type": "code",
   "execution_count": 157,
   "metadata": {},
   "outputs": [
    {
     "data": {
      "image/png": "[encoded data removed]",
      "text/plain": [
       "<Figure size 640x480 with 1 Axes>"
      ]
     },
     "metadata": {},
     "output_type": "display_data"
    }
   ],
   "source": [
    "#  feature importance\n",
    "pyplot.bar([x for x in range(len(importance_lr))], importance_lr)\n",
    "\n",
    "\n",
    "plt.title(label='Feature importance for LinearRegression', fontsize=15)    \n",
    "plt.ylabel('importance', fontsize=10)\n",
    "plt.xlabel('features', fontsize=10)\n",
    "\n",
    "pyplot.show()"
   ]
  },
  {
   "cell_type": "markdown",
   "metadata": {},
   "source": [
    "### Catboost"
   ]
  },
  {
   "cell_type": "code",
   "execution_count": 158,
   "metadata": {},
   "outputs": [],
   "source": [
    "Catboost_model = CatBoostRegressor(loss_function='RMSE')"
   ]
  },
  {
   "cell_type": "code",
   "execution_count": 159,
   "metadata": {},
   "outputs": [],
   "source": [
    "Catboost_params = {'iterations': [100, 150, 200],\n",
    "                   'learning_rate': [0.03, 0.1],\n",
    "                   'depth': [2, 4, 6, 8],\n",
    "                   'l2_leaf_reg': [0.2, 0.5, 1, 3]}"
   ]
  },
  {
   "cell_type": "code",
   "execution_count": 160,
   "metadata": {},
   "outputs": [],
   "source": [
    "Catboost_RS = RandomizedSearchCV(\n",
    "    Catboost_model, param_distributions=Catboost_params, cv=CV, scoring='neg_root_mean_squared_error', n_jobs=-1\n",
    ")"
   ]
  },
  {
   "cell_type": "code",
   "execution_count": 161,
   "metadata": {},
   "outputs": [
    {
     "name": "stdout",
     "output_type": "stream",
     "text": [
      "0:\tlearn: 3492.0512872\ttotal: 524ms\tremaining: 1m 44s\n",
      "50:\tlearn: 1593.6485858\ttotal: 17.4s\tremaining: 51s\n",
      "100:\tlearn: 1514.3819142\ttotal: 31.5s\tremaining: 30.8s\n",
      "150:\tlearn: 1476.5332674\ttotal: 49.3s\tremaining: 16s\n",
      "199:\tlearn: 1450.5090785\ttotal: 1m 8s\tremaining: 0us\n",
      "CPU times: total: 2min 40s\n",
      "Wall time: 10min 39s\n"
     ]
    },
    {
     "data": {
      "text/plain": [
       "RandomizedSearchCV(cv=3,\n",
       "                   estimator=<catboost.core.CatBoostRegressor object at 0x00000216AA49CFD0>,\n",
       "                   n_jobs=-1,\n",
       "                   param_distributions={'depth': [2, 4, 6, 8],\n",
       "                                        'iterations': [100, 150, 200],\n",
       "                                        'l2_leaf_reg': [0.2, 0.5, 1, 3],\n",
       "                                        'learning_rate': [0.03, 0.1]},\n",
       "                   scoring='neg_root_mean_squared_error')"
      ]
     },
     "execution_count": 161,
     "metadata": {},
     "output_type": "execute_result"
    }
   ],
   "source": [
    "%%time\n",
    "Catboost_RS.fit(features_train, target_train, cat_features=categorical, verbose=50)"
   ]
  },
  {
   "cell_type": "code",
   "execution_count": 162,
   "metadata": {},
   "outputs": [
    {
     "data": {
      "text/plain": [
       "{'learning_rate': 0.1, 'l2_leaf_reg': 0.2, 'iterations': 200, 'depth': 6}"
      ]
     },
     "execution_count": 162,
     "metadata": {},
     "output_type": "execute_result"
    }
   ],
   "source": [
    "Catboost_RS.best_params_"
   ]
  },
  {
   "cell_type": "code",
   "execution_count": 163,
   "metadata": {},
   "outputs": [],
   "source": [
    "Catboost_model = CatBoostRegressor(\n",
    "    loss_function='RMSE', iterations=200, learning_rate=0.1, depth=8, l2_leaf_reg=3\n",
    ")"
   ]
  },
  {
   "cell_type": "code",
   "execution_count": 164,
   "metadata": {
    "scrolled": true
   },
   "outputs": [
    {
     "name": "stdout",
     "output_type": "stream",
     "text": [
      "0:\tlearn: 3479.3522926\ttotal: 599ms\tremaining: 1m 59s\n",
      "50:\tlearn: 1535.8601812\ttotal: 21s\tremaining: 1m 1s\n",
      "100:\tlearn: 1459.8928001\ttotal: 44.8s\tremaining: 43.9s\n",
      "150:\tlearn: 1415.9328000\ttotal: 1m 13s\tremaining: 23.7s\n",
      "199:\tlearn: 1388.9148188\ttotal: 1m 38s\tremaining: 0us\n",
      "CPU times: total: 3min 58s\n",
      "Wall time: 1min 40s\n"
     ]
    },
    {
     "data": {
      "text/plain": [
       "<catboost.core.CatBoostRegressor at 0x216ad123220>"
      ]
     },
     "execution_count": 164,
     "metadata": {},
     "output_type": "execute_result"
    }
   ],
   "source": [
    "%%time\n",
    "Catboost_model.fit(features_train, target_train, cat_features=categorical, verbose=50)"
   ]
  },
  {
   "cell_type": "code",
   "execution_count": 165,
   "metadata": {},
   "outputs": [
    {
     "name": "stdout",
     "output_type": "stream",
     "text": [
      "CPU times: total: 547 ms\n",
      "Wall time: 534 ms\n"
     ]
    }
   ],
   "source": [
    "%%time\n",
    "Catboost_model_predictions = Catboost_model.predict(features_valid)"
   ]
  },
  {
   "cell_type": "code",
   "execution_count": 166,
   "metadata": {},
   "outputs": [
    {
     "name": "stdout",
     "output_type": "stream",
     "text": [
      "RMSE: 1420.3906595506958\n"
     ]
    }
   ],
   "source": [
    "Catboost_model_rmse = RMSE(target_valid, Catboost_model_predictions)\n",
    "    \n",
    "print('RMSE:', Catboost_model_rmse)"
   ]
  },
  {
   "cell_type": "markdown",
   "metadata": {},
   "source": [
    "Хорошая скорость предсказаний и обучения и удовлетворяющие результаты по метрике."
   ]
  },
  {
   "cell_type": "code",
   "execution_count": 167,
   "metadata": {},
   "outputs": [
    {
     "name": "stdout",
     "output_type": "stream",
     "text": [
      "Feature: 0, Score: 9.64861\n",
      "Feature: 1, Score: 37.61040\n",
      "Feature: 2, Score: 1.03930\n",
      "Feature: 3, Score: 20.04822\n",
      "Feature: 4, Score: 4.19199\n",
      "Feature: 5, Score: 8.33785\n",
      "Feature: 6, Score: 1.38454\n",
      "Feature: 7, Score: 10.38798\n",
      "Feature: 8, Score: 3.72276\n",
      "Feature: 9, Score: 3.62835\n"
     ]
    },
    {
     "data": {
      "image/png": "[encoded data removed]",
      "text/plain": [
       "<Figure size 640x480 with 1 Axes>"
      ]
     },
     "metadata": {},
     "output_type": "display_data"
    }
   ],
   "source": [
    "importance_Catboost = Catboost_model.feature_importances_\n",
    "\n",
    "for i,v in enumerate(importance_Catboost):\n",
    "    print('Feature: %0d, Score: %.5f' % (i,v))\n",
    "\n",
    "pyplot.bar([x for x in range(len(importance_Catboost))], importance_Catboost)\n",
    "\n",
    "plt.title(label='Feature importance for Catboost_model', fontsize=15)    \n",
    "plt.ylabel('importance', fontsize=10)\n",
    "plt.xlabel('features', fontsize=10)\n",
    "\n",
    "pyplot.show()"
   ]
  },
  {
   "cell_type": "markdown",
   "metadata": {},
   "source": [
    "### LGBMRegressor"
   ]
  },
  {
   "cell_type": "code",
   "execution_count": 168,
   "metadata": {},
   "outputs": [],
   "source": [
    "features_train_lgbm = features_train.copy()"
   ]
  },
  {
   "cell_type": "code",
   "execution_count": 169,
   "metadata": {},
   "outputs": [],
   "source": [
    "features_valid_lgbm = features_valid.copy()"
   ]
  },
  {
   "cell_type": "code",
   "execution_count": 170,
   "metadata": {},
   "outputs": [],
   "source": [
    "for col in features_train_lgbm.columns:\n",
    "    col_type = features_train_lgbm[col].dtype\n",
    "    if col_type == 'object' or col_type.name == 'category':\n",
    "        features_train_lgbm[col] = features_train_lgbm[col].astype('category')"
   ]
  },
  {
   "cell_type": "code",
   "execution_count": 171,
   "metadata": {},
   "outputs": [],
   "source": [
    "for col in features_valid_lgbm.columns:\n",
    "    col_type = features_valid_lgbm[col].dtype\n",
    "    if col_type == 'object' or col_type.name == 'category':\n",
    "        features_valid_lgbm[col] = features_valid_lgbm[col].astype('category')"
   ]
  },
  {
   "cell_type": "code",
   "execution_count": 172,
   "metadata": {},
   "outputs": [
    {
     "name": "stdout",
     "output_type": "stream",
     "text": [
      "<class 'pandas.core.frame.DataFrame'>\n",
      "Int64Index: 182472 entries, 295603 to 253574\n",
      "Data columns (total 10 columns):\n",
      " #   Column        Non-Null Count   Dtype   \n",
      "---  ------        --------------   -----   \n",
      " 0   vehicle_type  182472 non-null  category\n",
      " 1   reg_year      182472 non-null  int64   \n",
      " 2   gearbox       182472 non-null  category\n",
      " 3   power         182472 non-null  float64 \n",
      " 4   model         182472 non-null  category\n",
      " 5   kilometer     182472 non-null  int64   \n",
      " 6   fuel_type     182472 non-null  category\n",
      " 7   brand         182472 non-null  category\n",
      " 8   repaired      182472 non-null  category\n",
      " 9   age_category  182472 non-null  category\n",
      "dtypes: category(7), float64(1), int64(2)\n",
      "memory usage: 7.0 MB\n"
     ]
    }
   ],
   "source": [
    "features_train_lgbm.info()"
   ]
  },
  {
   "cell_type": "code",
   "execution_count": 173,
   "metadata": {},
   "outputs": [
    {
     "name": "stdout",
     "output_type": "stream",
     "text": [
      "<class 'pandas.core.frame.DataFrame'>\n",
      "Int64Index: 60824 entries, 327249 to 244841\n",
      "Data columns (total 10 columns):\n",
      " #   Column        Non-Null Count  Dtype   \n",
      "---  ------        --------------  -----   \n",
      " 0   vehicle_type  60824 non-null  category\n",
      " 1   reg_year      60824 non-null  int64   \n",
      " 2   gearbox       60824 non-null  category\n",
      " 3   power         60824 non-null  float64 \n",
      " 4   model         60824 non-null  category\n",
      " 5   kilometer     60824 non-null  int64   \n",
      " 6   fuel_type     60824 non-null  category\n",
      " 7   brand         60824 non-null  category\n",
      " 8   repaired      60824 non-null  category\n",
      " 9   age_category  60824 non-null  category\n",
      "dtypes: category(7), float64(1), int64(2)\n",
      "memory usage: 2.3 MB\n"
     ]
    }
   ],
   "source": [
    "features_valid_lgbm.info()"
   ]
  },
  {
   "cell_type": "code",
   "execution_count": 174,
   "metadata": {},
   "outputs": [],
   "source": [
    "LGBMRegressor_model = LGBMRegressor(random_state=RS)"
   ]
  },
  {
   "cell_type": "code",
   "execution_count": 175,
   "metadata": {},
   "outputs": [],
   "source": [
    "LightGBM_params = {'num_trees': [100, 250, 500],\n",
    "                   'num_leaves': [200, 250, 300],\n",
    "                   'max_depth': [2, 4, 6, 8],\n",
    "                   'learning_rate': [0.03, 0.1],}"
   ]
  },
  {
   "cell_type": "code",
   "execution_count": 176,
   "metadata": {},
   "outputs": [],
   "source": [
    "LGBMRegressor_RS = RandomizedSearchCV(LGBMRegressor_model, param_distributions=LightGBM_params, \n",
    "                                         cv=CV, scoring='neg_root_mean_squared_error', n_jobs=-1)"
   ]
  },
  {
   "cell_type": "code",
   "execution_count": 177,
   "metadata": {},
   "outputs": [
    {
     "name": "stdout",
     "output_type": "stream",
     "text": [
      "[LightGBM] [Warning] num_iterations is set=250, num_trees=250 will be ignored. Current value: num_iterations=250\n",
      "CPU times: total: 19.4 s\n",
      "Wall time: 3min 11s\n"
     ]
    },
    {
     "data": {
      "text/plain": [
       "RandomizedSearchCV(cv=3, estimator=LGBMRegressor(random_state=12345), n_jobs=-1,\n",
       "                   param_distributions={'learning_rate': [0.03, 0.1],\n",
       "                                        'max_depth': [2, 4, 6, 8],\n",
       "                                        'num_leaves': [200, 250, 300],\n",
       "                                        'num_trees': [100, 250, 500]},\n",
       "                   scoring='neg_root_mean_squared_error')"
      ]
     },
     "execution_count": 177,
     "metadata": {},
     "output_type": "execute_result"
    }
   ],
   "source": [
    "%%time\n",
    "LGBMRegressor_RS.fit(features_train_lgbm, target_train)"
   ]
  },
  {
   "cell_type": "code",
   "execution_count": 178,
   "metadata": {},
   "outputs": [
    {
     "data": {
      "text/plain": [
       "{'num_trees': 250, 'num_leaves': 300, 'max_depth': 8, 'learning_rate': 0.1}"
      ]
     },
     "execution_count": 178,
     "metadata": {},
     "output_type": "execute_result"
    }
   ],
   "source": [
    "LGBMRegressor_RS.best_params_"
   ]
  },
  {
   "cell_type": "code",
   "execution_count": 179,
   "metadata": {},
   "outputs": [],
   "source": [
    "LGBMRegressor_model = LGBMRegressor(random_state=RS, num_trees=500, num_leaves=250, max_depth=8, learning_rate=0.03)"
   ]
  },
  {
   "cell_type": "code",
   "execution_count": 180,
   "metadata": {},
   "outputs": [
    {
     "name": "stdout",
     "output_type": "stream",
     "text": [
      "CPU times: total: 41.9 s\n",
      "Wall time: 15.6 s\n"
     ]
    },
    {
     "data": {
      "text/plain": [
       "LGBMRegressor(learning_rate=0.03, max_depth=8, num_leaves=250, num_trees=500,\n",
       "              random_state=12345)"
      ]
     },
     "execution_count": 180,
     "metadata": {},
     "output_type": "execute_result"
    }
   ],
   "source": [
    "%%time\n",
    "LGBMRegressor_model.fit(features_train_lgbm, target_train)"
   ]
  },
  {
   "cell_type": "code",
   "execution_count": 181,
   "metadata": {},
   "outputs": [
    {
     "name": "stdout",
     "output_type": "stream",
     "text": [
      "CPU times: total: 16 s\n",
      "Wall time: 4.31 s\n"
     ]
    }
   ],
   "source": [
    "%%time\n",
    "LGBMRegressor_model_predictions = LGBMRegressor_model.predict(features_valid_lgbm)"
   ]
  },
  {
   "cell_type": "code",
   "execution_count": 182,
   "metadata": {},
   "outputs": [
    {
     "name": "stdout",
     "output_type": "stream",
     "text": [
      "RMSE: 1345.5710286454766\n"
     ]
    }
   ],
   "source": [
    "LGBMRegressor_model_rmse = RMSE(target_valid, LGBMRegressor_model_predictions)\n",
    "    \n",
    "print('RMSE:', LGBMRegressor_model_rmse)"
   ]
  },
  {
   "cell_type": "markdown",
   "metadata": {},
   "source": [
    "Хорошая скорость предсказаний и обучения и хорошие результаты по метрике."
   ]
  },
  {
   "cell_type": "code",
   "execution_count": 183,
   "metadata": {},
   "outputs": [
    {
     "name": "stdout",
     "output_type": "stream",
     "text": [
      "Feature: 0, Score: 3182.00000\n",
      "Feature: 1, Score: 17248.00000\n",
      "Feature: 2, Score: 2473.00000\n",
      "Feature: 3, Score: 16775.00000\n",
      "Feature: 4, Score: 9061.00000\n",
      "Feature: 5, Score: 7795.00000\n",
      "Feature: 6, Score: 1119.00000\n",
      "Feature: 7, Score: 3540.00000\n",
      "Feature: 8, Score: 4317.00000\n",
      "Feature: 9, Score: 223.00000\n"
     ]
    },
    {
     "data": {
      "image/png": "[encoded data removed]",
      "text/plain": [
       "<Figure size 640x480 with 1 Axes>"
      ]
     },
     "metadata": {},
     "output_type": "display_data"
    }
   ],
   "source": [
    "importance_LGBMR = LGBMRegressor_model.feature_importances_\n",
    "\n",
    "for i,v in enumerate(importance_LGBMR):\n",
    "    print('Feature: %0d, Score: %.5f' % (i,v))\n",
    "    \n",
    "plt.title(label='Feature importance for LGBMRegressor_model', fontsize=15)    \n",
    "plt.ylabel('importance', fontsize=10)\n",
    "plt.xlabel('features', fontsize=10)\n",
    "\n",
    "pyplot.bar([x for x in range(len(importance_LGBMR))], importance_LGBMR)\n",
    "\n",
    "pyplot.show()"
   ]
  },
  {
   "cell_type": "markdown",
   "metadata": {},
   "source": [
    "### RandomForestRegressor"
   ]
  },
  {
   "cell_type": "code",
   "execution_count": 184,
   "metadata": {},
   "outputs": [],
   "source": [
    "RandomForest_model = RandomForestRegressor(random_state=RS, max_depth=8, n_estimators=300, bootstrap=True)"
   ]
  },
  {
   "cell_type": "code",
   "execution_count": 185,
   "metadata": {},
   "outputs": [],
   "source": [
    "RF_params = {'max_features': ['auto', 'sqrt'],\n",
    "             'min_samples_split': [2, 5, 10],\n",
    "             'min_samples_leaf': [1, 2, 4]}"
   ]
  },
  {
   "cell_type": "code",
   "execution_count": 186,
   "metadata": {},
   "outputs": [],
   "source": [
    "RandomForest_RS = RandomizedSearchCV(RandomForest_model, param_distributions=RF_params, \n",
    "                                         cv=CV, scoring='neg_root_mean_squared_error', n_jobs=-1)"
   ]
  },
  {
   "cell_type": "code",
   "execution_count": 187,
   "metadata": {},
   "outputs": [
    {
     "name": "stdout",
     "output_type": "stream",
     "text": [
      "CPU times: total: 1min 59s\n",
      "Wall time: 31min 7s\n"
     ]
    },
    {
     "data": {
      "text/plain": [
       "RandomizedSearchCV(cv=3,\n",
       "                   estimator=RandomForestRegressor(max_depth=8,\n",
       "                                                   n_estimators=300,\n",
       "                                                   random_state=12345),\n",
       "                   n_jobs=-1,\n",
       "                   param_distributions={'max_features': ['auto', 'sqrt'],\n",
       "                                        'min_samples_leaf': [1, 2, 4],\n",
       "                                        'min_samples_split': [2, 5, 10]},\n",
       "                   scoring='neg_root_mean_squared_error')"
      ]
     },
     "execution_count": 187,
     "metadata": {},
     "output_type": "execute_result"
    }
   ],
   "source": [
    "%%time\n",
    "RandomForest_RS.fit(features_train_oe, target_train)"
   ]
  },
  {
   "cell_type": "code",
   "execution_count": 188,
   "metadata": {},
   "outputs": [
    {
     "data": {
      "text/plain": [
       "{'min_samples_split': 2, 'min_samples_leaf': 2, 'max_features': 'auto'}"
      ]
     },
     "execution_count": 188,
     "metadata": {},
     "output_type": "execute_result"
    }
   ],
   "source": [
    "RandomForest_RS.best_params_"
   ]
  },
  {
   "cell_type": "code",
   "execution_count": 189,
   "metadata": {},
   "outputs": [],
   "source": [
    "RandomForest_model = RandomForestRegressor(\n",
    "    random_state=RS, max_depth=8, n_estimators=300, max_features='sqrt', \\\n",
    "    min_samples_split=3, min_samples_leaf=2, bootstrap=True\n",
    ")"
   ]
  },
  {
   "cell_type": "code",
   "execution_count": 190,
   "metadata": {},
   "outputs": [
    {
     "name": "stdout",
     "output_type": "stream",
     "text": [
      "CPU times: total: 46.7 s\n",
      "Wall time: 1min 8s\n"
     ]
    },
    {
     "data": {
      "text/plain": [
       "RandomForestRegressor(max_depth=8, max_features='sqrt', min_samples_leaf=2,\n",
       "                      min_samples_split=3, n_estimators=300,\n",
       "                      random_state=12345)"
      ]
     },
     "execution_count": 190,
     "metadata": {},
     "output_type": "execute_result"
    }
   ],
   "source": [
    "%%time\n",
    "RandomForest_model.fit(features_train_oe, target_train)"
   ]
  },
  {
   "cell_type": "code",
   "execution_count": 191,
   "metadata": {},
   "outputs": [
    {
     "name": "stdout",
     "output_type": "stream",
     "text": [
      "CPU times: total: 2.11 s\n",
      "Wall time: 3.13 s\n"
     ]
    }
   ],
   "source": [
    "%%time\n",
    "RandomForest_model_predictions = RandomForest_model.predict(features_valid_oe)"
   ]
  },
  {
   "cell_type": "code",
   "execution_count": 192,
   "metadata": {},
   "outputs": [
    {
     "name": "stdout",
     "output_type": "stream",
     "text": [
      "RMSE: 1738.8955390078404\n"
     ]
    }
   ],
   "source": [
    "RandomForest_model_rmse = RMSE(target_valid, RandomForest_model_predictions)\n",
    "\n",
    "print('RMSE:', RandomForest_model_rmse)    "
   ]
  },
  {
   "cell_type": "markdown",
   "metadata": {},
   "source": [
    "Плохая скорость предсказаний и обучения и удовлетворяющие результаты по метрике."
   ]
  },
  {
   "cell_type": "code",
   "execution_count": 193,
   "metadata": {},
   "outputs": [
    {
     "name": "stdout",
     "output_type": "stream",
     "text": [
      "Feature: 0, Score: 0.03019\n",
      "Feature: 1, Score: 0.44031\n",
      "Feature: 2, Score: 0.01851\n",
      "Feature: 3, Score: 0.22734\n",
      "Feature: 4, Score: 0.00807\n",
      "Feature: 5, Score: 0.09025\n",
      "Feature: 6, Score: 0.02378\n",
      "Feature: 7, Score: 0.02932\n",
      "Feature: 8, Score: 0.03040\n",
      "Feature: 9, Score: 0.10182\n"
     ]
    },
    {
     "data": {
      "image/png": "[encoded data removed]",
      "text/plain": [
       "<Figure size 640x480 with 1 Axes>"
      ]
     },
     "metadata": {},
     "output_type": "display_data"
    }
   ],
   "source": [
    "importance_RF = RandomForest_model.feature_importances_\n",
    "\n",
    "for i,v in enumerate(importance_RF):\n",
    "    print('Feature: %0d, Score: %.5f' % (i,v))\n",
    "    \n",
    "plt.title(label='Feature importance for RandomForest_model', fontsize=15)    \n",
    "plt.ylabel('importance', fontsize=10)\n",
    "plt.xlabel('features', fontsize=10)\n",
    "\n",
    "pyplot.bar([x for x in range(len(importance_RF))], importance_RF)\n",
    "\n",
    "pyplot.show()"
   ]
  },
  {
   "cell_type": "markdown",
   "metadata": {},
   "source": [
    "### GradientBoostingRegressor"
   ]
  },
  {
   "cell_type": "code",
   "execution_count": 194,
   "metadata": {},
   "outputs": [],
   "source": [
    "GBRegressor_model = GradientBoostingRegressor(loss='squared_error', random_state=RS, learning_rate=0.1, max_depth=8)"
   ]
  },
  {
   "cell_type": "code",
   "execution_count": 195,
   "metadata": {},
   "outputs": [
    {
     "name": "stdout",
     "output_type": "stream",
     "text": [
      "CPU times: total: 1min 9s\n",
      "Wall time: 1min 39s\n"
     ]
    },
    {
     "data": {
      "text/plain": [
       "GradientBoostingRegressor(max_depth=8, random_state=12345)"
      ]
     },
     "execution_count": 195,
     "metadata": {},
     "output_type": "execute_result"
    }
   ],
   "source": [
    "%%time\n",
    "GBRegressor_model.fit(features_train_oe, target_train)"
   ]
  },
  {
   "cell_type": "code",
   "execution_count": 196,
   "metadata": {},
   "outputs": [
    {
     "name": "stdout",
     "output_type": "stream",
     "text": [
      "CPU times: total: 391 ms\n",
      "Wall time: 649 ms\n"
     ]
    }
   ],
   "source": [
    "%%time\n",
    "GBRegressor_model_predictions = GBRegressor_model.predict(features_valid_oe)"
   ]
  },
  {
   "cell_type": "code",
   "execution_count": 197,
   "metadata": {},
   "outputs": [
    {
     "name": "stdout",
     "output_type": "stream",
     "text": [
      "RMSE: 1394.843338621094\n"
     ]
    }
   ],
   "source": [
    "GBRegressor_model_rmse = RMSE(target_valid, GBRegressor_model_predictions)\n",
    "\n",
    "print('RMSE:', GBRegressor_model_rmse)  "
   ]
  },
  {
   "cell_type": "markdown",
   "metadata": {},
   "source": [
    "Плохая скорость предсказаний и обучения и хорошие результаты по метрике."
   ]
  },
  {
   "cell_type": "code",
   "execution_count": 198,
   "metadata": {},
   "outputs": [
    {
     "name": "stdout",
     "output_type": "stream",
     "text": [
      "Feature: 0, Score: 0.03356\n",
      "Feature: 1, Score: 0.56291\n",
      "Feature: 2, Score: 0.00572\n",
      "Feature: 3, Score: 0.24460\n",
      "Feature: 4, Score: 0.01905\n",
      "Feature: 5, Score: 0.05979\n",
      "Feature: 6, Score: 0.00681\n",
      "Feature: 7, Score: 0.04417\n",
      "Feature: 8, Score: 0.02040\n",
      "Feature: 9, Score: 0.00299\n"
     ]
    },
    {
     "data": {
      "image/png": "[encoded data removed]",
      "text/plain": [
       "<Figure size 640x480 with 1 Axes>"
      ]
     },
     "metadata": {},
     "output_type": "display_data"
    }
   ],
   "source": [
    "importance_GBR = GBRegressor_model.feature_importances_\n",
    "\n",
    "for i,v in enumerate(importance_GBR):\n",
    "    print('Feature: %0d, Score: %.5f' % (i,v))\n",
    "\n",
    "plt.title(label='Feature importance for GBRegressor_model', fontsize=15)    \n",
    "plt.ylabel('importance', fontsize=10)\n",
    "plt.xlabel('features', fontsize=10)\n",
    "    \n",
    "pyplot.bar([x for x in range(len(importance_GBR))], importance_GBR)\n",
    "\n",
    "pyplot.show()"
   ]
  },
  {
   "cell_type": "markdown",
   "metadata": {},
   "source": [
    "### XGBRegressor"
   ]
  },
  {
   "cell_type": "code",
   "execution_count": 199,
   "metadata": {},
   "outputs": [],
   "source": [
    "XGBRegressor_model = XGBRegressor(random_state=RS, booster='gbtree', eval_metric='rmse', n_estimators=300, \n",
    "                                  min_child_weight=3, max_depth=8)"
   ]
  },
  {
   "cell_type": "code",
   "execution_count": 200,
   "metadata": {},
   "outputs": [
    {
     "name": "stdout",
     "output_type": "stream",
     "text": [
      "CPU times: total: 3min 48s\n",
      "Wall time: 1min 3s\n"
     ]
    },
    {
     "data": {
      "text/plain": [
       "XGBRegressor(base_score=None, booster='gbtree', callbacks=None,\n",
       "             colsample_bylevel=None, colsample_bynode=None,\n",
       "             colsample_bytree=None, early_stopping_rounds=None,\n",
       "             enable_categorical=False, eval_metric='rmse', feature_types=None,\n",
       "             gamma=None, gpu_id=None, grow_policy=None, importance_type=None,\n",
       "             interaction_constraints=None, learning_rate=None, max_bin=None,\n",
       "             max_cat_threshold=None, max_cat_to_onehot=None,\n",
       "             max_delta_step=None, max_depth=8, max_leaves=None,\n",
       "             min_child_weight=3, missing=nan, monotone_constraints=None,\n",
       "             n_estimators=300, n_jobs=None, num_parallel_tree=None,\n",
       "             predictor=None, random_state=12345, ...)"
      ]
     },
     "execution_count": 200,
     "metadata": {},
     "output_type": "execute_result"
    }
   ],
   "source": [
    "%%time\n",
    "XGBRegressor_model.fit(features_train_oe, target_train)"
   ]
  },
  {
   "cell_type": "code",
   "execution_count": 201,
   "metadata": {},
   "outputs": [
    {
     "name": "stdout",
     "output_type": "stream",
     "text": [
      "CPU times: total: 1.88 s\n",
      "Wall time: 523 ms\n"
     ]
    }
   ],
   "source": [
    "%%time\n",
    "XGBRegressor_model_predictions = XGBRegressor_model.predict(features_valid_oe)"
   ]
  },
  {
   "cell_type": "code",
   "execution_count": 202,
   "metadata": {},
   "outputs": [
    {
     "name": "stdout",
     "output_type": "stream",
     "text": [
      "RMSE: 1356.317391087819\n"
     ]
    }
   ],
   "source": [
    "XGBRegressor_model_rmse = RMSE(target_valid, XGBRegressor_model_predictions)\n",
    "\n",
    "print('RMSE:', XGBRegressor_model_rmse)  "
   ]
  },
  {
   "cell_type": "markdown",
   "metadata": {},
   "source": [
    "Невысокая скорость обучения, быстрое предсказание и отличная метрика."
   ]
  },
  {
   "cell_type": "code",
   "execution_count": 203,
   "metadata": {},
   "outputs": [
    {
     "name": "stdout",
     "output_type": "stream",
     "text": [
      "Feature: 0, Score: 0.05870\n",
      "Feature: 1, Score: 0.35007\n",
      "Feature: 2, Score: 0.02633\n",
      "Feature: 3, Score: 0.15490\n",
      "Feature: 4, Score: 0.02634\n",
      "Feature: 5, Score: 0.07758\n",
      "Feature: 6, Score: 0.02447\n",
      "Feature: 7, Score: 0.06807\n",
      "Feature: 8, Score: 0.05695\n",
      "Feature: 9, Score: 0.15660\n"
     ]
    },
    {
     "data": {
      "image/png": "[encoded data removed]",
      "text/plain": [
       "<Figure size 640x480 with 1 Axes>"
      ]
     },
     "metadata": {},
     "output_type": "display_data"
    }
   ],
   "source": [
    "importance_XGBR = XGBRegressor_model.feature_importances_\n",
    "\n",
    "for i,v in enumerate(importance_XGBR):\n",
    "    print('Feature: %0d, Score: %.5f' % (i,v))\n",
    "    \n",
    "plt.title(label='Feature importance for XGBRegressor_model', fontsize=15)    \n",
    "plt.ylabel('importance', fontsize=10)\n",
    "plt.xlabel('features', fontsize=10)\n",
    "\n",
    "pyplot.bar([x for x in range(len(importance_XGBR))], importance_XGBR)\n",
    "\n",
    "pyplot.show()"
   ]
  },
  {
   "cell_type": "markdown",
   "metadata": {},
   "source": [
    "**Промежуточный итог:**\n",
    "\n",
    "Мы обучили 6 моделей для решения поставленной задачи, далее сравним их и решим, какая подходит нам больше всего с учетом условий заказчика."
   ]
  },
  {
   "cell_type": "markdown",
   "metadata": {},
   "source": [
    "## Анализ моделей"
   ]
  },
  {
   "cell_type": "code",
   "execution_count": 204,
   "metadata": {},
   "outputs": [],
   "source": [
    "models_time = {'LR_model': [LR_model_rmse, 0.07, 0.014, 0, 0.05, 'none'], \n",
    "               'Catboost_model': [Catboost_model_rmse, 77, 263, 0.688, 0.397, 5],\n",
    "               'LGBMRegressor_model': [LGBMRegressor_model_rmse, 42.5, 11.1, 16, 4.1, 5],\n",
    "               'RandomForest_model': [RandomForest_model_rmse, 49.5, 50.3, 2.19, 2.17, 7],\n",
    "               'GBRegressor_model': [GBRegressor_model_rmse, 76, 78, 0.5, 0.475, 4],\n",
    "               'XGBRegressor_model': [XGBRegressor_model_rmse, 171, 45.5, 1.53, 0.553, 6]\n",
    "              }"
   ]
  },
  {
   "cell_type": "code",
   "execution_count": 205,
   "metadata": {},
   "outputs": [],
   "source": [
    "df_time = pd.DataFrame(\n",
    "    data=models_time, \n",
    "    index=['RMSE', 'fit_CPU_s', 'fit_WALL_s', 'predict_CPU_s', 'predict_WALL_s', 'params'])"
   ]
  },
  {
   "cell_type": "code",
   "execution_count": 206,
   "metadata": {},
   "outputs": [
    {
     "data": {
      "text/html": [
       "<div>\n",
       "<style scoped>\n",
       "    .dataframe tbody tr th:only-of-type {\n",
       "        vertical-align: middle;\n",
       "    }\n",
       "\n",
       "    .dataframe tbody tr th {\n",
       "        vertical-align: top;\n",
       "    }\n",
       "\n",
       "    .dataframe thead th {\n",
       "        text-align: right;\n",
       "    }\n",
       "</style>\n",
       "<table border=\"1\" class=\"dataframe\">\n",
       "  <thead>\n",
       "    <tr style=\"text-align: right;\">\n",
       "      <th></th>\n",
       "      <th>LR_model</th>\n",
       "      <th>Catboost_model</th>\n",
       "      <th>LGBMRegressor_model</th>\n",
       "      <th>RandomForest_model</th>\n",
       "      <th>GBRegressor_model</th>\n",
       "      <th>XGBRegressor_model</th>\n",
       "    </tr>\n",
       "  </thead>\n",
       "  <tbody>\n",
       "    <tr>\n",
       "      <th>RMSE</th>\n",
       "      <td>1686.939399</td>\n",
       "      <td>1420.39066</td>\n",
       "      <td>1345.571029</td>\n",
       "      <td>1738.895539</td>\n",
       "      <td>1394.843339</td>\n",
       "      <td>1356.317391</td>\n",
       "    </tr>\n",
       "    <tr>\n",
       "      <th>fit_CPU_s</th>\n",
       "      <td>0.07</td>\n",
       "      <td>77.00000</td>\n",
       "      <td>42.500000</td>\n",
       "      <td>49.500000</td>\n",
       "      <td>76.000000</td>\n",
       "      <td>171.000000</td>\n",
       "    </tr>\n",
       "    <tr>\n",
       "      <th>fit_WALL_s</th>\n",
       "      <td>0.014</td>\n",
       "      <td>263.00000</td>\n",
       "      <td>11.100000</td>\n",
       "      <td>50.300000</td>\n",
       "      <td>78.000000</td>\n",
       "      <td>45.500000</td>\n",
       "    </tr>\n",
       "    <tr>\n",
       "      <th>predict_CPU_s</th>\n",
       "      <td>0</td>\n",
       "      <td>0.68800</td>\n",
       "      <td>16.000000</td>\n",
       "      <td>2.190000</td>\n",
       "      <td>0.500000</td>\n",
       "      <td>1.530000</td>\n",
       "    </tr>\n",
       "    <tr>\n",
       "      <th>predict_WALL_s</th>\n",
       "      <td>0.05</td>\n",
       "      <td>0.39700</td>\n",
       "      <td>4.100000</td>\n",
       "      <td>2.170000</td>\n",
       "      <td>0.475000</td>\n",
       "      <td>0.553000</td>\n",
       "    </tr>\n",
       "    <tr>\n",
       "      <th>params</th>\n",
       "      <td>none</td>\n",
       "      <td>5.00000</td>\n",
       "      <td>5.000000</td>\n",
       "      <td>7.000000</td>\n",
       "      <td>4.000000</td>\n",
       "      <td>6.000000</td>\n",
       "    </tr>\n",
       "  </tbody>\n",
       "</table>\n",
       "</div>"
      ],
      "text/plain": [
       "                   LR_model  Catboost_model  LGBMRegressor_model  \\\n",
       "RMSE            1686.939399      1420.39066          1345.571029   \n",
       "fit_CPU_s              0.07        77.00000            42.500000   \n",
       "fit_WALL_s            0.014       263.00000            11.100000   \n",
       "predict_CPU_s             0         0.68800            16.000000   \n",
       "predict_WALL_s         0.05         0.39700             4.100000   \n",
       "params                 none         5.00000             5.000000   \n",
       "\n",
       "                RandomForest_model  GBRegressor_model  XGBRegressor_model  \n",
       "RMSE                   1738.895539        1394.843339         1356.317391  \n",
       "fit_CPU_s                49.500000          76.000000          171.000000  \n",
       "fit_WALL_s               50.300000          78.000000           45.500000  \n",
       "predict_CPU_s             2.190000           0.500000            1.530000  \n",
       "predict_WALL_s            2.170000           0.475000            0.553000  \n",
       "params                    7.000000           4.000000            6.000000  "
      ]
     },
     "execution_count": 206,
     "metadata": {},
     "output_type": "execute_result"
    }
   ],
   "source": [
    "df_time"
   ]
  },
  {
   "cell_type": "code",
   "execution_count": 207,
   "metadata": {
    "scrolled": false
   },
   "outputs": [
    {
     "data": {
      "image/png": "[encoded data removed]",
      "text/plain": [
       "<Figure size 1500x1000 with 1 Axes>"
      ]
     },
     "metadata": {},
     "output_type": "display_data"
    }
   ],
   "source": [
    "my_colors = ['plum', 'violet', 'crimson', 'pink', 'palevioletred', 'mediumvioletred']\n",
    "\n",
    "fig = plt.figure(figsize=(15,10))\n",
    "\n",
    "ax = df_time.iloc[0].plot(kind='bar', rot=0, legend='reverse', color=my_colors)\n",
    "for p in ax.patches:\n",
    "    ax.annotate(str(p.get_height()), (p.get_x() * 1.005, p.get_height() * 1.005))\n",
    "    \n",
    "plt.title(label='Значения метрики MRSE для разных моделей', fontsize=25)    \n",
    "plt.ylabel(\"Значение RMSE\", fontsize=18)\n",
    "plt.xlabel(\"Модели\", fontsize=18)\n",
    "\n",
    "plt.show()"
   ]
  },
  {
   "cell_type": "markdown",
   "metadata": {},
   "source": [
    "Худшие результаты по метрике показали модели случайного леса и линейной регрессии, лучшие - модель с алгоритмом LGBMRegressor. Также хорошие, почти наравне с LGBMR, значения показала модель алгоритма XGBoostRegressor."
   ]
  },
  {
   "cell_type": "code",
   "execution_count": 208,
   "metadata": {},
   "outputs": [
    {
     "data": {
      "image/png": "[encoded data removed]",
      "text/plain": [
       "<Figure size 1200x700 with 1 Axes>"
      ]
     },
     "metadata": {},
     "output_type": "display_data"
    }
   ],
   "source": [
    "fig = plt.figure(figsize=(12,7))\n",
    "\n",
    "ax = df_time.iloc[2].plot(kind='bar', title='Время обучения WALL для разных моделей в мс', rot=0,\n",
    "                          legend='reverse', colormap='Accent')\n",
    "for p in ax.patches:\n",
    "    ax.annotate(str(p.get_height()), (p.get_x() * 1.005, p.get_height() * 1.005))\n",
    "\n",
    "plt.ylabel(\"Обучение WALL, мс\")\n",
    "plt.xlabel(\"Модели\")\n",
    "\n",
    "plt.show()"
   ]
  },
  {
   "cell_type": "markdown",
   "metadata": {},
   "source": [
    "Быстрее всего обучается модель лин.регрессии, затем - LGBMRegressor. Дольше всех обучается модель с алгоритмом CatBoostRegressor."
   ]
  },
  {
   "cell_type": "code",
   "execution_count": 209,
   "metadata": {},
   "outputs": [
    {
     "data": {
      "image/png": "[encoded data removed]",
      "text/plain": [
       "<Figure size 1200x700 with 1 Axes>"
      ]
     },
     "metadata": {},
     "output_type": "display_data"
    }
   ],
   "source": [
    "fig = plt.figure(figsize=(12,7))\n",
    "\n",
    "ax = df_time.iloc[4].plot(kind='bar', title='Время предсказания WALL для разных моделей в мс', rot=0,\n",
    "                          legend='reverse', colormap='Pastel2')\n",
    "\n",
    "for p in ax.patches:\n",
    "    ax.annotate(str(p.get_height()), (p.get_x() * 1.005, p.get_height() * 1.005))\n",
    "    \n",
    "plt.ylabel(\"Предсказание WALL, мс\")\n",
    "plt.xlabel(\"Модели\")\n",
    "\n",
    "plt.show()"
   ]
  },
  {
   "cell_type": "markdown",
   "metadata": {},
   "source": [
    "LGBMRegressor здесь показала наихудшие результаты, хотя разница с другими составляет 3 сек.\n",
    "\n",
    "Заетим, что по скорости обучения у модели LGBMRegressor разница до трех минут в её пользу.\n",
    "\n",
    "**В качестве лучшей модели выберем** модель LGBMRegressor, тк она:\n",
    "1. Отличается практически лучшей метрико RMSE\n",
    "2. Обучается быстрее всех других моделей\n",
    "Быстрота предсказаний не лучшая(и разница относительно не большая), но другие модели проигрывают перед LGBMRegressor по другим критериям."
   ]
  },
  {
   "cell_type": "markdown",
   "metadata": {},
   "source": [
    "## Проверка лучшей модели"
   ]
  },
  {
   "cell_type": "markdown",
   "metadata": {},
   "source": [
    "**Сравнение с дамми моделью**"
   ]
  },
  {
   "cell_type": "code",
   "execution_count": 210,
   "metadata": {},
   "outputs": [],
   "source": [
    "dummy_model = DummyRegressor()"
   ]
  },
  {
   "cell_type": "code",
   "execution_count": 211,
   "metadata": {},
   "outputs": [
    {
     "data": {
      "text/plain": [
       "DummyRegressor()"
      ]
     },
     "execution_count": 211,
     "metadata": {},
     "output_type": "execute_result"
    }
   ],
   "source": [
    "dummy_model.fit(features_train_oe, target_train)"
   ]
  },
  {
   "cell_type": "code",
   "execution_count": 212,
   "metadata": {},
   "outputs": [],
   "source": [
    "dummy_predictions = dummy_model.predict(features_test_oe)"
   ]
  },
  {
   "cell_type": "code",
   "execution_count": 213,
   "metadata": {},
   "outputs": [
    {
     "name": "stdout",
     "output_type": "stream",
     "text": [
      "RMSE: 3718.140341588805\n"
     ]
    }
   ],
   "source": [
    "dummy_rmse = RMSE(target_test, dummy_predictions)\n",
    "\n",
    "print('RMSE:', dummy_rmse)  "
   ]
  },
  {
   "cell_type": "markdown",
   "metadata": {},
   "source": [
    "RMSE у нашей модели ниже требуемого порога и уж явно ниже метрики дамми модели."
   ]
  },
  {
   "cell_type": "markdown",
   "metadata": {},
   "source": [
    "**Проверка метрики на тестовых данных**"
   ]
  },
  {
   "cell_type": "code",
   "execution_count": 214,
   "metadata": {},
   "outputs": [],
   "source": [
    "features_test_lgbm = features_test.copy()"
   ]
  },
  {
   "cell_type": "code",
   "execution_count": 215,
   "metadata": {},
   "outputs": [],
   "source": [
    "for col in features_test_lgbm.columns:\n",
    "    col_type = features_test_lgbm[col].dtype\n",
    "    if col_type == 'object' or col_type.name == 'category':\n",
    "        features_test_lgbm[col] = features_test_lgbm[col].astype('category')"
   ]
  },
  {
   "cell_type": "code",
   "execution_count": 216,
   "metadata": {},
   "outputs": [
    {
     "name": "stdout",
     "output_type": "stream",
     "text": [
      "CPU times: total: 21.4 s\n",
      "Wall time: 6.97 s\n"
     ]
    }
   ],
   "source": [
    "%%time\n",
    "test_predictions = LGBMRegressor_model.predict(features_test_lgbm)"
   ]
  },
  {
   "cell_type": "code",
   "execution_count": 217,
   "metadata": {},
   "outputs": [
    {
     "name": "stdout",
     "output_type": "stream",
     "text": [
      "RMSE: 1339.8433084935448\n"
     ]
    }
   ],
   "source": [
    "test_rmse = RMSE(target_test, test_predictions)\n",
    "\n",
    "print('RMSE:', test_rmse)"
   ]
  },
  {
   "cell_type": "markdown",
   "metadata": {},
   "source": [
    "Модель показывает ещё более хорошую метрику на тесовых данных. \n",
    "\n",
    "**Проверка модели на адекватность и качество работы пройдена.**"
   ]
  },
  {
   "cell_type": "markdown",
   "metadata": {},
   "source": [
    "## Итоги работы"
   ]
  },
  {
   "cell_type": "markdown",
   "metadata": {},
   "source": [
    "С первым знакомством с данными были обнаружены некоторые проблемы: пропуски, неинформативные признаки, аномальные значения и выбросы. Данные обработали: там, где это возможно, заполнили пропуски, где нет - поставили заглушки, а также избавились от выбросов и аномалий.\n",
    "\n",
    "Добавили новый категориальный столбец с типом возраста автомобиля.\n",
    "\n",
    "Подготовили выборки и для моделей, которые работают с категориальными данными, и для моделей, которым требуется кодировка; не использовали неинформативные признаки.\n",
    "\n",
    "Обучили 6 моделей, используя RandomizedSearchCV для поиска лучших гиперпараметров. Работали со следующими алгоритмами:\n",
    "- LinearRegression\n",
    "- RandomForestRegressor\n",
    "- GradientBoostingRegressor\n",
    "- CatBoostRegressor\n",
    "- LGBMRegressor\n",
    "- XGBoostRegressor\n",
    "\n",
    "Отличные результаты по метрике показали модели GradientBoostingRegressor, XGBoostRegressor и LGBMRegressor, но если учитывать скорость обучения и предсказания, то лучшей моделью является модель с алгоритмом LGBMRegressor.\n",
    "\n",
    "Данная модель прошла проверку на адекватность, соответствует поставленным заказчиком условиям и показывает хорошие результаты на тестовой выборке."
   ]
  }
 ],
 "metadata": {
  "ExecuteTimeLog": [
   {
    "duration": 3,
    "start_time": "2023-01-27T20:58:54.607Z"
   },
   {
    "duration": 7,
    "start_time": "2023-01-27T20:58:54.612Z"
   },
   {
    "duration": 4,
    "start_time": "2023-01-27T20:58:54.621Z"
   },
   {
    "duration": 7,
    "start_time": "2023-01-27T20:58:54.626Z"
   },
   {
    "duration": 1275,
    "start_time": "2023-01-27T20:58:54.636Z"
   },
   {
    "duration": 3,
    "start_time": "2023-01-27T20:58:55.913Z"
   },
   {
    "duration": 7,
    "start_time": "2023-01-27T20:58:55.918Z"
   },
   {
    "duration": 2013,
    "start_time": "2023-01-27T20:58:55.926Z"
   },
   {
    "duration": 5,
    "start_time": "2023-01-27T20:58:57.942Z"
   },
   {
    "duration": 2099,
    "start_time": "2023-01-27T20:58:57.949Z"
   },
   {
    "duration": 464,
    "start_time": "2023-01-27T20:59:00.049Z"
   },
   {
    "duration": 372,
    "start_time": "2023-01-27T20:59:00.515Z"
   },
   {
    "duration": 471,
    "start_time": "2023-01-27T20:59:00.889Z"
   },
   {
    "duration": 486,
    "start_time": "2023-01-27T20:59:01.364Z"
   },
   {
    "duration": 4,
    "start_time": "2023-01-27T20:59:01.852Z"
   },
   {
    "duration": 44,
    "start_time": "2023-01-27T20:59:01.858Z"
   },
   {
    "duration": 66,
    "start_time": "2023-01-27T20:59:01.904Z"
   },
   {
    "duration": 35,
    "start_time": "2023-01-27T20:59:01.972Z"
   },
   {
    "duration": 52,
    "start_time": "2023-01-27T20:59:02.009Z"
   },
   {
    "duration": 18,
    "start_time": "2023-01-27T20:59:02.063Z"
   },
   {
    "duration": 69,
    "start_time": "2023-01-27T20:59:03.706Z"
   },
   {
    "duration": 9,
    "start_time": "2023-01-27T20:59:07.736Z"
   },
   {
    "duration": 8,
    "start_time": "2023-01-27T20:59:09.072Z"
   },
   {
    "duration": 8,
    "start_time": "2023-01-27T20:59:10.717Z"
   },
   {
    "duration": 148,
    "start_time": "2023-01-27T20:59:35.156Z"
   },
   {
    "duration": 9,
    "start_time": "2023-01-27T20:59:44.899Z"
   },
   {
    "duration": 147,
    "start_time": "2023-01-27T20:59:48.612Z"
   },
   {
    "duration": 151,
    "start_time": "2023-01-27T21:00:00.407Z"
   },
   {
    "duration": 3,
    "start_time": "2023-01-27T21:00:08.314Z"
   },
   {
    "duration": 51,
    "start_time": "2023-01-27T21:00:08.319Z"
   },
   {
    "duration": 38,
    "start_time": "2023-01-27T21:00:08.372Z"
   },
   {
    "duration": 61,
    "start_time": "2023-01-27T21:00:08.412Z"
   },
   {
    "duration": 38,
    "start_time": "2023-01-27T21:00:08.476Z"
   },
   {
    "duration": 47,
    "start_time": "2023-01-27T21:00:08.516Z"
   },
   {
    "duration": 33,
    "start_time": "2023-01-27T21:00:08.565Z"
   },
   {
    "duration": 2003,
    "start_time": "2023-01-27T21:00:08.600Z"
   },
   {
    "duration": 4,
    "start_time": "2023-01-27T21:00:10.606Z"
   },
   {
    "duration": 1989,
    "start_time": "2023-01-27T21:00:10.611Z"
   },
   {
    "duration": 509,
    "start_time": "2023-01-27T21:00:12.602Z"
   },
   {
    "duration": 371,
    "start_time": "2023-01-27T21:00:13.113Z"
   },
   {
    "duration": 499,
    "start_time": "2023-01-27T21:00:13.487Z"
   },
   {
    "duration": 474,
    "start_time": "2023-01-27T21:00:13.987Z"
   },
   {
    "duration": 3,
    "start_time": "2023-01-27T21:00:14.463Z"
   },
   {
    "duration": 63,
    "start_time": "2023-01-27T21:00:14.468Z"
   },
   {
    "duration": 50,
    "start_time": "2023-01-27T21:00:14.532Z"
   },
   {
    "duration": 43,
    "start_time": "2023-01-27T21:00:14.584Z"
   },
   {
    "duration": 33,
    "start_time": "2023-01-27T21:00:14.629Z"
   },
   {
    "duration": 35,
    "start_time": "2023-01-27T21:00:14.664Z"
   },
   {
    "duration": 38,
    "start_time": "2023-01-27T21:00:14.701Z"
   },
   {
    "duration": 178,
    "start_time": "2023-01-27T21:00:14.741Z"
   },
   {
    "duration": 160,
    "start_time": "2023-01-27T21:00:16.538Z"
   },
   {
    "duration": 158,
    "start_time": "2023-01-27T21:00:20.047Z"
   },
   {
    "duration": 158,
    "start_time": "2023-01-27T21:00:22.056Z"
   },
   {
    "duration": 165,
    "start_time": "2023-01-27T21:00:25.086Z"
   },
   {
    "duration": 144,
    "start_time": "2023-01-27T21:00:26.707Z"
   },
   {
    "duration": 288,
    "start_time": "2023-01-27T21:00:29.626Z"
   },
   {
    "duration": 7,
    "start_time": "2023-01-27T21:00:37.944Z"
   },
   {
    "duration": 149,
    "start_time": "2023-01-27T21:00:38.606Z"
   },
   {
    "duration": 148,
    "start_time": "2023-01-27T21:00:41.016Z"
   },
   {
    "duration": 2,
    "start_time": "2023-01-27T21:01:04.638Z"
   },
   {
    "duration": 30,
    "start_time": "2023-01-27T21:01:04.643Z"
   },
   {
    "duration": 26,
    "start_time": "2023-01-27T21:01:04.675Z"
   },
   {
    "duration": 32,
    "start_time": "2023-01-27T21:01:04.703Z"
   },
   {
    "duration": 40,
    "start_time": "2023-01-27T21:01:04.738Z"
   },
   {
    "duration": 90,
    "start_time": "2023-01-27T21:01:04.780Z"
   },
   {
    "duration": 48,
    "start_time": "2023-01-27T21:01:04.872Z"
   },
   {
    "duration": 1486,
    "start_time": "2023-01-27T21:01:04.922Z"
   },
   {
    "duration": 7,
    "start_time": "2023-01-27T21:01:06.410Z"
   },
   {
    "duration": 1942,
    "start_time": "2023-01-27T21:01:06.418Z"
   },
   {
    "duration": 503,
    "start_time": "2023-01-27T21:01:08.362Z"
   },
   {
    "duration": 365,
    "start_time": "2023-01-27T21:01:08.867Z"
   },
   {
    "duration": 588,
    "start_time": "2023-01-27T21:01:09.234Z"
   },
   {
    "duration": 661,
    "start_time": "2023-01-27T21:01:09.825Z"
   },
   {
    "duration": 3,
    "start_time": "2023-01-27T21:01:10.488Z"
   },
   {
    "duration": 78,
    "start_time": "2023-01-27T21:01:10.494Z"
   },
   {
    "duration": 85,
    "start_time": "2023-01-27T21:01:10.573Z"
   },
   {
    "duration": 34,
    "start_time": "2023-01-27T21:01:10.660Z"
   },
   {
    "duration": 64,
    "start_time": "2023-01-27T21:01:10.696Z"
   },
   {
    "duration": 26,
    "start_time": "2023-01-27T21:01:10.762Z"
   },
   {
    "duration": 53,
    "start_time": "2023-01-27T21:01:10.790Z"
   },
   {
    "duration": 146,
    "start_time": "2023-01-27T21:01:13.064Z"
   },
   {
    "duration": 3,
    "start_time": "2023-01-27T21:03:31.263Z"
   },
   {
    "duration": 30,
    "start_time": "2023-01-27T21:03:31.268Z"
   },
   {
    "duration": 15,
    "start_time": "2023-01-27T21:03:31.300Z"
   },
   {
    "duration": 23,
    "start_time": "2023-01-27T21:03:31.316Z"
   },
   {
    "duration": 1386,
    "start_time": "2023-01-27T21:03:31.341Z"
   },
   {
    "duration": 3,
    "start_time": "2023-01-27T21:03:32.729Z"
   },
   {
    "duration": 6,
    "start_time": "2023-01-27T21:03:32.733Z"
   },
   {
    "duration": 1403,
    "start_time": "2023-01-27T21:03:32.741Z"
   },
   {
    "duration": 5,
    "start_time": "2023-01-27T21:03:34.146Z"
   },
   {
    "duration": 2087,
    "start_time": "2023-01-27T21:03:34.152Z"
   },
   {
    "duration": 452,
    "start_time": "2023-01-27T21:03:36.241Z"
   },
   {
    "duration": 347,
    "start_time": "2023-01-27T21:03:36.695Z"
   },
   {
    "duration": 459,
    "start_time": "2023-01-27T21:03:37.044Z"
   },
   {
    "duration": 465,
    "start_time": "2023-01-27T21:03:37.506Z"
   },
   {
    "duration": 12,
    "start_time": "2023-01-27T21:03:37.972Z"
   },
   {
    "duration": 20,
    "start_time": "2023-01-27T21:03:37.985Z"
   },
   {
    "duration": 36,
    "start_time": "2023-01-27T21:03:38.007Z"
   },
   {
    "duration": 22,
    "start_time": "2023-01-27T21:03:38.045Z"
   },
   {
    "duration": 16,
    "start_time": "2023-01-27T21:03:38.068Z"
   },
   {
    "duration": 29,
    "start_time": "2023-01-27T21:03:38.086Z"
   },
   {
    "duration": 15,
    "start_time": "2023-01-27T21:03:38.117Z"
   },
   {
    "duration": 178,
    "start_time": "2023-01-27T21:03:38.134Z"
   },
   {
    "duration": 22,
    "start_time": "2023-01-27T21:03:38.463Z"
   },
   {
    "duration": 8,
    "start_time": "2023-01-27T21:04:09.330Z"
   },
   {
    "duration": 12,
    "start_time": "2023-01-27T21:04:14.151Z"
   },
   {
    "duration": 11,
    "start_time": "2023-01-27T21:04:19.329Z"
   },
   {
    "duration": 11,
    "start_time": "2023-01-27T21:04:21.142Z"
   },
   {
    "duration": 11,
    "start_time": "2023-01-27T21:04:23.531Z"
   },
   {
    "duration": 12,
    "start_time": "2023-01-27T21:04:24.618Z"
   },
   {
    "duration": 13,
    "start_time": "2023-01-27T21:04:25.428Z"
   },
   {
    "duration": 11,
    "start_time": "2023-01-27T21:04:27.111Z"
   },
   {
    "duration": 13,
    "start_time": "2023-01-27T21:04:29.775Z"
   },
   {
    "duration": 13,
    "start_time": "2023-01-27T21:04:30.731Z"
   },
   {
    "duration": 12,
    "start_time": "2023-01-27T21:04:31.631Z"
   },
   {
    "duration": 11,
    "start_time": "2023-01-27T21:04:32.412Z"
   },
   {
    "duration": 11,
    "start_time": "2023-01-27T21:04:32.970Z"
   },
   {
    "duration": 11,
    "start_time": "2023-01-27T21:04:33.506Z"
   },
   {
    "duration": 11,
    "start_time": "2023-01-27T21:04:34.034Z"
   },
   {
    "duration": 11,
    "start_time": "2023-01-27T21:04:34.531Z"
   },
   {
    "duration": 11,
    "start_time": "2023-01-27T21:04:35.020Z"
   },
   {
    "duration": 11,
    "start_time": "2023-01-27T21:04:35.531Z"
   },
   {
    "duration": 11,
    "start_time": "2023-01-27T21:04:35.906Z"
   },
   {
    "duration": 11,
    "start_time": "2023-01-27T21:04:37.711Z"
   },
   {
    "duration": 11,
    "start_time": "2023-01-27T21:04:38.211Z"
   },
   {
    "duration": 11,
    "start_time": "2023-01-27T21:04:38.731Z"
   },
   {
    "duration": 11,
    "start_time": "2023-01-27T21:04:39.261Z"
   },
   {
    "duration": 11,
    "start_time": "2023-01-27T21:04:40.091Z"
   },
   {
    "duration": 12,
    "start_time": "2023-01-27T21:04:46.551Z"
   },
   {
    "duration": 12,
    "start_time": "2023-01-27T21:04:47.403Z"
   },
   {
    "duration": 11,
    "start_time": "2023-01-27T21:04:48.741Z"
   },
   {
    "duration": 13,
    "start_time": "2023-01-27T21:04:49.683Z"
   },
   {
    "duration": 123,
    "start_time": "2023-01-27T21:04:54.680Z"
   },
   {
    "duration": 11,
    "start_time": "2023-01-27T21:05:04.871Z"
   },
   {
    "duration": 11,
    "start_time": "2023-01-27T21:05:06.581Z"
   },
   {
    "duration": 14,
    "start_time": "2023-01-27T21:05:07.751Z"
   },
   {
    "duration": 11,
    "start_time": "2023-01-27T21:05:08.707Z"
   },
   {
    "duration": 11,
    "start_time": "2023-01-27T21:05:45.909Z"
   },
   {
    "duration": 149,
    "start_time": "2023-01-27T21:06:00.171Z"
   },
   {
    "duration": 146,
    "start_time": "2023-01-27T21:06:02.631Z"
   },
   {
    "duration": 154,
    "start_time": "2023-01-27T21:06:03.951Z"
   },
   {
    "duration": 247,
    "start_time": "2023-01-27T21:06:05.411Z"
   },
   {
    "duration": 112,
    "start_time": "2023-01-27T21:06:07.773Z"
   },
   {
    "duration": 357,
    "start_time": "2023-01-27T21:06:11.950Z"
   },
   {
    "duration": 127,
    "start_time": "2023-01-27T21:06:20.390Z"
   },
   {
    "duration": 10,
    "start_time": "2023-01-27T21:06:38.661Z"
   },
   {
    "duration": 14,
    "start_time": "2023-01-27T21:06:44.831Z"
   },
   {
    "duration": 87,
    "start_time": "2023-01-27T21:06:51.806Z"
   },
   {
    "duration": 7,
    "start_time": "2023-01-27T21:07:04.450Z"
   },
   {
    "duration": 9,
    "start_time": "2023-01-27T21:07:07.850Z"
   },
   {
    "duration": 13,
    "start_time": "2023-01-27T21:07:13.521Z"
   },
   {
    "duration": 12,
    "start_time": "2023-01-27T21:07:14.990Z"
   },
   {
    "duration": 12,
    "start_time": "2023-01-27T21:07:15.727Z"
   },
   {
    "duration": 12,
    "start_time": "2023-01-27T21:07:16.709Z"
   },
   {
    "duration": 7881,
    "start_time": "2023-01-31T20:14:29.093Z"
   },
   {
    "duration": 0,
    "start_time": "2023-01-31T20:14:36.977Z"
   },
   {
    "duration": 0,
    "start_time": "2023-01-31T20:14:36.978Z"
   },
   {
    "duration": 0,
    "start_time": "2023-01-31T20:14:36.979Z"
   },
   {
    "duration": 0,
    "start_time": "2023-01-31T20:14:36.980Z"
   },
   {
    "duration": 0,
    "start_time": "2023-01-31T20:14:36.981Z"
   },
   {
    "duration": 0,
    "start_time": "2023-01-31T20:14:36.982Z"
   },
   {
    "duration": 0,
    "start_time": "2023-01-31T20:14:36.983Z"
   },
   {
    "duration": 0,
    "start_time": "2023-01-31T20:14:36.985Z"
   },
   {
    "duration": 0,
    "start_time": "2023-01-31T20:14:36.986Z"
   },
   {
    "duration": 0,
    "start_time": "2023-01-31T20:14:36.987Z"
   },
   {
    "duration": 0,
    "start_time": "2023-01-31T20:14:36.988Z"
   },
   {
    "duration": 0,
    "start_time": "2023-01-31T20:14:36.989Z"
   },
   {
    "duration": 0,
    "start_time": "2023-01-31T20:14:36.990Z"
   },
   {
    "duration": 0,
    "start_time": "2023-01-31T20:14:36.990Z"
   },
   {
    "duration": 0,
    "start_time": "2023-01-31T20:14:36.991Z"
   },
   {
    "duration": 0,
    "start_time": "2023-01-31T20:14:36.992Z"
   },
   {
    "duration": 0,
    "start_time": "2023-01-31T20:14:36.993Z"
   },
   {
    "duration": 0,
    "start_time": "2023-01-31T20:14:36.994Z"
   },
   {
    "duration": 0,
    "start_time": "2023-01-31T20:14:36.995Z"
   },
   {
    "duration": 0,
    "start_time": "2023-01-31T20:14:36.996Z"
   },
   {
    "duration": 0,
    "start_time": "2023-01-31T20:14:36.997Z"
   },
   {
    "duration": 0,
    "start_time": "2023-01-31T20:14:36.998Z"
   },
   {
    "duration": 0,
    "start_time": "2023-01-31T20:14:37.031Z"
   },
   {
    "duration": 0,
    "start_time": "2023-01-31T20:14:37.031Z"
   },
   {
    "duration": 0,
    "start_time": "2023-01-31T20:14:37.032Z"
   },
   {
    "duration": 0,
    "start_time": "2023-01-31T20:14:37.033Z"
   },
   {
    "duration": 0,
    "start_time": "2023-01-31T20:14:37.033Z"
   },
   {
    "duration": 0,
    "start_time": "2023-01-31T20:14:37.034Z"
   },
   {
    "duration": 0,
    "start_time": "2023-01-31T20:14:37.034Z"
   },
   {
    "duration": 0,
    "start_time": "2023-01-31T20:14:37.035Z"
   },
   {
    "duration": 0,
    "start_time": "2023-01-31T20:14:37.036Z"
   },
   {
    "duration": 0,
    "start_time": "2023-01-31T20:14:37.039Z"
   },
   {
    "duration": 0,
    "start_time": "2023-01-31T20:14:37.039Z"
   },
   {
    "duration": 0,
    "start_time": "2023-01-31T20:14:37.041Z"
   },
   {
    "duration": 0,
    "start_time": "2023-01-31T20:14:37.042Z"
   },
   {
    "duration": 0,
    "start_time": "2023-01-31T20:14:37.042Z"
   },
   {
    "duration": 0,
    "start_time": "2023-01-31T20:14:37.043Z"
   },
   {
    "duration": 0,
    "start_time": "2023-01-31T20:14:37.044Z"
   },
   {
    "duration": 0,
    "start_time": "2023-01-31T20:14:37.045Z"
   },
   {
    "duration": 0,
    "start_time": "2023-01-31T20:14:37.045Z"
   },
   {
    "duration": 0,
    "start_time": "2023-01-31T20:14:37.051Z"
   },
   {
    "duration": 0,
    "start_time": "2023-01-31T20:14:37.053Z"
   },
   {
    "duration": 0,
    "start_time": "2023-01-31T20:14:37.054Z"
   },
   {
    "duration": 0,
    "start_time": "2023-01-31T20:14:37.056Z"
   },
   {
    "duration": 0,
    "start_time": "2023-01-31T20:14:37.057Z"
   },
   {
    "duration": 0,
    "start_time": "2023-01-31T20:14:37.060Z"
   },
   {
    "duration": 0,
    "start_time": "2023-01-31T20:14:37.061Z"
   },
   {
    "duration": 0,
    "start_time": "2023-01-31T20:14:37.063Z"
   },
   {
    "duration": 0,
    "start_time": "2023-01-31T20:14:37.064Z"
   },
   {
    "duration": 0,
    "start_time": "2023-01-31T20:14:37.066Z"
   },
   {
    "duration": 0,
    "start_time": "2023-01-31T20:14:37.067Z"
   },
   {
    "duration": 0,
    "start_time": "2023-01-31T20:14:37.068Z"
   },
   {
    "duration": 0,
    "start_time": "2023-01-31T20:14:37.070Z"
   },
   {
    "duration": 0,
    "start_time": "2023-01-31T20:14:37.071Z"
   },
   {
    "duration": 0,
    "start_time": "2023-01-31T20:14:37.072Z"
   },
   {
    "duration": 0,
    "start_time": "2023-01-31T20:14:37.074Z"
   },
   {
    "duration": 0,
    "start_time": "2023-01-31T20:14:37.075Z"
   },
   {
    "duration": 0,
    "start_time": "2023-01-31T20:14:37.076Z"
   },
   {
    "duration": 0,
    "start_time": "2023-01-31T20:14:37.128Z"
   },
   {
    "duration": 0,
    "start_time": "2023-01-31T20:14:37.135Z"
   },
   {
    "duration": 0,
    "start_time": "2023-01-31T20:14:37.142Z"
   },
   {
    "duration": 0,
    "start_time": "2023-01-31T20:14:37.143Z"
   },
   {
    "duration": 0,
    "start_time": "2023-01-31T20:14:37.143Z"
   },
   {
    "duration": 0,
    "start_time": "2023-01-31T20:14:37.144Z"
   },
   {
    "duration": 0,
    "start_time": "2023-01-31T20:14:37.147Z"
   },
   {
    "duration": 0,
    "start_time": "2023-01-31T20:14:37.148Z"
   },
   {
    "duration": 0,
    "start_time": "2023-01-31T20:14:37.148Z"
   },
   {
    "duration": 0,
    "start_time": "2023-01-31T20:14:37.149Z"
   },
   {
    "duration": 0,
    "start_time": "2023-01-31T20:14:37.151Z"
   },
   {
    "duration": 0,
    "start_time": "2023-01-31T20:14:37.156Z"
   },
   {
    "duration": 0,
    "start_time": "2023-01-31T20:14:37.157Z"
   },
   {
    "duration": 0,
    "start_time": "2023-01-31T20:14:37.158Z"
   },
   {
    "duration": 0,
    "start_time": "2023-01-31T20:14:37.158Z"
   },
   {
    "duration": 0,
    "start_time": "2023-01-31T20:14:37.159Z"
   },
   {
    "duration": 14847,
    "start_time": "2023-01-31T20:16:34.324Z"
   },
   {
    "duration": 759,
    "start_time": "2023-01-31T20:16:49.173Z"
   },
   {
    "duration": 0,
    "start_time": "2023-01-31T20:16:49.942Z"
   },
   {
    "duration": 0,
    "start_time": "2023-01-31T20:16:49.943Z"
   },
   {
    "duration": 0,
    "start_time": "2023-01-31T20:16:49.945Z"
   },
   {
    "duration": 0,
    "start_time": "2023-01-31T20:16:49.946Z"
   },
   {
    "duration": 0,
    "start_time": "2023-01-31T20:16:49.946Z"
   },
   {
    "duration": 0,
    "start_time": "2023-01-31T20:16:49.947Z"
   },
   {
    "duration": 0,
    "start_time": "2023-01-31T20:16:49.948Z"
   },
   {
    "duration": 0,
    "start_time": "2023-01-31T20:16:49.949Z"
   },
   {
    "duration": 0,
    "start_time": "2023-01-31T20:16:49.950Z"
   },
   {
    "duration": 0,
    "start_time": "2023-01-31T20:16:49.951Z"
   },
   {
    "duration": 0,
    "start_time": "2023-01-31T20:16:49.952Z"
   },
   {
    "duration": 0,
    "start_time": "2023-01-31T20:16:49.953Z"
   },
   {
    "duration": 0,
    "start_time": "2023-01-31T20:16:49.954Z"
   },
   {
    "duration": 0,
    "start_time": "2023-01-31T20:16:49.954Z"
   },
   {
    "duration": 0,
    "start_time": "2023-01-31T20:16:49.955Z"
   },
   {
    "duration": 0,
    "start_time": "2023-01-31T20:16:49.956Z"
   },
   {
    "duration": 0,
    "start_time": "2023-01-31T20:16:49.958Z"
   },
   {
    "duration": 0,
    "start_time": "2023-01-31T20:16:49.959Z"
   },
   {
    "duration": 0,
    "start_time": "2023-01-31T20:16:49.960Z"
   },
   {
    "duration": 0,
    "start_time": "2023-01-31T20:16:49.961Z"
   },
   {
    "duration": 0,
    "start_time": "2023-01-31T20:16:49.962Z"
   },
   {
    "duration": 0,
    "start_time": "2023-01-31T20:16:49.963Z"
   },
   {
    "duration": 0,
    "start_time": "2023-01-31T20:16:49.964Z"
   },
   {
    "duration": 0,
    "start_time": "2023-01-31T20:16:49.965Z"
   },
   {
    "duration": 0,
    "start_time": "2023-01-31T20:16:49.966Z"
   },
   {
    "duration": 0,
    "start_time": "2023-01-31T20:16:49.967Z"
   },
   {
    "duration": 0,
    "start_time": "2023-01-31T20:16:49.968Z"
   },
   {
    "duration": 0,
    "start_time": "2023-01-31T20:16:49.969Z"
   },
   {
    "duration": 0,
    "start_time": "2023-01-31T20:16:49.970Z"
   },
   {
    "duration": 0,
    "start_time": "2023-01-31T20:16:49.971Z"
   },
   {
    "duration": 0,
    "start_time": "2023-01-31T20:16:49.972Z"
   },
   {
    "duration": 0,
    "start_time": "2023-01-31T20:16:49.973Z"
   },
   {
    "duration": 0,
    "start_time": "2023-01-31T20:16:49.974Z"
   },
   {
    "duration": 0,
    "start_time": "2023-01-31T20:16:49.976Z"
   },
   {
    "duration": 0,
    "start_time": "2023-01-31T20:16:49.976Z"
   },
   {
    "duration": 0,
    "start_time": "2023-01-31T20:16:49.977Z"
   },
   {
    "duration": 0,
    "start_time": "2023-01-31T20:16:49.979Z"
   },
   {
    "duration": 0,
    "start_time": "2023-01-31T20:16:50.027Z"
   },
   {
    "duration": 0,
    "start_time": "2023-01-31T20:16:50.028Z"
   },
   {
    "duration": 0,
    "start_time": "2023-01-31T20:16:50.029Z"
   },
   {
    "duration": 0,
    "start_time": "2023-01-31T20:16:50.030Z"
   },
   {
    "duration": 0,
    "start_time": "2023-01-31T20:16:50.031Z"
   },
   {
    "duration": 0,
    "start_time": "2023-01-31T20:16:50.032Z"
   },
   {
    "duration": 0,
    "start_time": "2023-01-31T20:16:50.033Z"
   },
   {
    "duration": 0,
    "start_time": "2023-01-31T20:16:50.034Z"
   },
   {
    "duration": 0,
    "start_time": "2023-01-31T20:16:50.035Z"
   },
   {
    "duration": 0,
    "start_time": "2023-01-31T20:16:50.035Z"
   },
   {
    "duration": 0,
    "start_time": "2023-01-31T20:16:50.036Z"
   },
   {
    "duration": 0,
    "start_time": "2023-01-31T20:16:50.037Z"
   },
   {
    "duration": 0,
    "start_time": "2023-01-31T20:16:50.037Z"
   },
   {
    "duration": 0,
    "start_time": "2023-01-31T20:16:50.042Z"
   },
   {
    "duration": 1,
    "start_time": "2023-01-31T20:16:50.042Z"
   },
   {
    "duration": 0,
    "start_time": "2023-01-31T20:16:50.043Z"
   },
   {
    "duration": 0,
    "start_time": "2023-01-31T20:16:50.044Z"
   },
   {
    "duration": 0,
    "start_time": "2023-01-31T20:16:50.046Z"
   },
   {
    "duration": 0,
    "start_time": "2023-01-31T20:16:50.047Z"
   },
   {
    "duration": 0,
    "start_time": "2023-01-31T20:16:50.048Z"
   },
   {
    "duration": 0,
    "start_time": "2023-01-31T20:16:50.048Z"
   },
   {
    "duration": 0,
    "start_time": "2023-01-31T20:16:50.049Z"
   },
   {
    "duration": 0,
    "start_time": "2023-01-31T20:16:50.052Z"
   },
   {
    "duration": 0,
    "start_time": "2023-01-31T20:16:50.053Z"
   },
   {
    "duration": 0,
    "start_time": "2023-01-31T20:16:50.054Z"
   },
   {
    "duration": 0,
    "start_time": "2023-01-31T20:16:50.055Z"
   },
   {
    "duration": 0,
    "start_time": "2023-01-31T20:16:50.055Z"
   },
   {
    "duration": 0,
    "start_time": "2023-01-31T20:16:50.056Z"
   },
   {
    "duration": 1,
    "start_time": "2023-01-31T20:16:50.057Z"
   },
   {
    "duration": 0,
    "start_time": "2023-01-31T20:16:50.058Z"
   },
   {
    "duration": 0,
    "start_time": "2023-01-31T20:16:50.060Z"
   },
   {
    "duration": 0,
    "start_time": "2023-01-31T20:16:50.061Z"
   },
   {
    "duration": 0,
    "start_time": "2023-01-31T20:16:50.062Z"
   },
   {
    "duration": 3,
    "start_time": "2023-01-31T20:16:51.114Z"
   },
   {
    "duration": 11,
    "start_time": "2023-01-31T20:16:51.265Z"
   },
   {
    "duration": 14,
    "start_time": "2023-01-31T20:16:51.425Z"
   },
   {
    "duration": 11,
    "start_time": "2023-01-31T20:16:51.570Z"
   },
   {
    "duration": 894,
    "start_time": "2023-01-31T20:17:21.685Z"
   },
   {
    "duration": 22,
    "start_time": "2023-01-31T20:17:23.193Z"
   },
   {
    "duration": 4133,
    "start_time": "2023-01-31T20:17:25.905Z"
   },
   {
    "duration": 23,
    "start_time": "2023-01-31T20:17:30.041Z"
   },
   {
    "duration": 2440,
    "start_time": "2023-01-31T20:18:04.097Z"
   },
   {
    "duration": 14,
    "start_time": "2023-01-31T20:18:06.541Z"
   },
   {
    "duration": 41,
    "start_time": "2023-01-31T20:18:06.557Z"
   },
   {
    "duration": 58,
    "start_time": "2023-01-31T20:18:06.600Z"
   },
   {
    "duration": 1837,
    "start_time": "2023-01-31T20:18:06.661Z"
   },
   {
    "duration": 4,
    "start_time": "2023-01-31T20:18:08.500Z"
   },
   {
    "duration": 1987,
    "start_time": "2023-01-31T20:18:08.505Z"
   },
   {
    "duration": 461,
    "start_time": "2023-01-31T20:18:10.494Z"
   },
   {
    "duration": 339,
    "start_time": "2023-01-31T20:18:10.957Z"
   },
   {
    "duration": 455,
    "start_time": "2023-01-31T20:18:11.299Z"
   },
   {
    "duration": 416,
    "start_time": "2023-01-31T20:18:11.756Z"
   },
   {
    "duration": 38285,
    "start_time": "2023-01-31T20:18:12.174Z"
   },
   {
    "duration": 4,
    "start_time": "2023-01-31T20:18:50.461Z"
   },
   {
    "duration": 69,
    "start_time": "2023-01-31T20:18:50.469Z"
   },
   {
    "duration": 60,
    "start_time": "2023-01-31T20:18:50.540Z"
   },
   {
    "duration": 80,
    "start_time": "2023-01-31T20:18:50.602Z"
   },
   {
    "duration": 229,
    "start_time": "2023-01-31T20:18:50.684Z"
   },
   {
    "duration": 155,
    "start_time": "2023-01-31T20:18:50.915Z"
   },
   {
    "duration": 6,
    "start_time": "2023-01-31T20:18:51.073Z"
   },
   {
    "duration": 199,
    "start_time": "2023-01-31T20:18:51.081Z"
   },
   {
    "duration": 187,
    "start_time": "2023-01-31T20:18:51.282Z"
   },
   {
    "duration": 18,
    "start_time": "2023-01-31T20:18:51.470Z"
   },
   {
    "duration": 39,
    "start_time": "2023-01-31T20:18:51.489Z"
   },
   {
    "duration": 56,
    "start_time": "2023-01-31T20:18:51.530Z"
   },
   {
    "duration": 16,
    "start_time": "2023-01-31T20:18:51.588Z"
   },
   {
    "duration": 42,
    "start_time": "2023-01-31T20:18:51.605Z"
   },
   {
    "duration": 93,
    "start_time": "2023-01-31T20:18:51.654Z"
   },
   {
    "duration": 15,
    "start_time": "2023-01-31T20:18:51.755Z"
   },
   {
    "duration": 6,
    "start_time": "2023-01-31T20:18:51.773Z"
   },
   {
    "duration": 22,
    "start_time": "2023-01-31T20:18:51.780Z"
   },
   {
    "duration": 56,
    "start_time": "2023-01-31T20:18:51.803Z"
   },
   {
    "duration": 6,
    "start_time": "2023-01-31T20:18:51.861Z"
   },
   {
    "duration": 15,
    "start_time": "2023-01-31T20:18:51.869Z"
   },
   {
    "duration": 5,
    "start_time": "2023-01-31T20:18:51.886Z"
   },
   {
    "duration": 59,
    "start_time": "2023-01-31T20:18:51.893Z"
   },
   {
    "duration": 9,
    "start_time": "2023-01-31T20:18:51.957Z"
   },
   {
    "duration": 189,
    "start_time": "2023-01-31T20:18:51.967Z"
   },
   {
    "duration": 27,
    "start_time": "2023-01-31T20:18:52.158Z"
   },
   {
    "duration": 322,
    "start_time": "2023-01-31T20:18:52.186Z"
   },
   {
    "duration": 9,
    "start_time": "2023-01-31T20:18:52.510Z"
   },
   {
    "duration": 27,
    "start_time": "2023-01-31T20:18:52.530Z"
   },
   {
    "duration": 161,
    "start_time": "2023-01-31T20:18:52.559Z"
   },
   {
    "duration": 8,
    "start_time": "2023-01-31T20:18:52.721Z"
   },
   {
    "duration": 342,
    "start_time": "2023-01-31T20:18:52.738Z"
   },
   {
    "duration": 5,
    "start_time": "2023-01-31T20:18:53.081Z"
   },
   {
    "duration": 173,
    "start_time": "2023-01-31T20:18:53.088Z"
   },
   {
    "duration": 27,
    "start_time": "2023-01-31T20:18:53.263Z"
   },
   {
    "duration": 18,
    "start_time": "2023-01-31T20:18:53.292Z"
   },
   {
    "duration": 49,
    "start_time": "2023-01-31T20:18:53.312Z"
   },
   {
    "duration": 14,
    "start_time": "2023-01-31T20:18:53.363Z"
   },
   {
    "duration": 27,
    "start_time": "2023-01-31T20:18:53.379Z"
   },
   {
    "duration": 23,
    "start_time": "2023-01-31T20:18:53.407Z"
   },
   {
    "duration": 36,
    "start_time": "2023-01-31T20:18:53.438Z"
   },
   {
    "duration": 155,
    "start_time": "2023-01-31T20:18:53.476Z"
   },
   {
    "duration": 6,
    "start_time": "2023-01-31T20:18:53.637Z"
   },
   {
    "duration": 119,
    "start_time": "2023-01-31T20:18:53.644Z"
   },
   {
    "duration": 235,
    "start_time": "2023-01-31T20:18:53.764Z"
   },
   {
    "duration": 2069,
    "start_time": "2023-01-31T20:18:54.000Z"
   },
   {
    "duration": 31008,
    "start_time": "2023-01-31T20:18:56.071Z"
   },
   {
    "duration": 278,
    "start_time": "2023-01-31T20:19:27.081Z"
   },
   {
    "duration": 4,
    "start_time": "2023-01-31T20:19:27.361Z"
   },
   {
    "duration": 11,
    "start_time": "2023-01-31T20:19:27.366Z"
   },
   {
    "duration": 34,
    "start_time": "2023-01-31T20:19:27.378Z"
   },
   {
    "duration": 3,
    "start_time": "2023-01-31T20:19:27.414Z"
   },
   {
    "duration": 36,
    "start_time": "2023-01-31T20:19:27.418Z"
   },
   {
    "duration": 40,
    "start_time": "2023-01-31T20:19:27.455Z"
   },
   {
    "duration": 102,
    "start_time": "2023-01-31T20:19:27.497Z"
   },
   {
    "duration": 4,
    "start_time": "2023-01-31T20:19:27.601Z"
   },
   {
    "duration": 8,
    "start_time": "2023-01-31T20:19:27.607Z"
   },
   {
    "duration": 3,
    "start_time": "2023-01-31T20:19:27.630Z"
   },
   {
    "duration": 46,
    "start_time": "2023-01-31T20:19:27.635Z"
   },
   {
    "duration": 648,
    "start_time": "2023-01-31T20:19:27.683Z"
   },
   {
    "duration": 5,
    "start_time": "2023-01-31T20:19:28.340Z"
   },
   {
    "duration": 11,
    "start_time": "2023-01-31T20:19:28.346Z"
   },
   {
    "duration": 81,
    "start_time": "2023-01-31T20:19:28.358Z"
   },
   {
    "duration": 559,
    "start_time": "2023-01-31T20:19:28.440Z"
   },
   {
    "duration": 3,
    "start_time": "2023-01-31T20:20:08.214Z"
   },
   {
    "duration": 463910,
    "start_time": "2023-01-31T20:20:08.453Z"
   }
  ],
  "kernelspec": {
   "display_name": "Python 3 (ipykernel)",
   "language": "python",
   "name": "python3"
  },
  "language_info": {
   "codemirror_mode": {
    "name": "ipython",
    "version": 3
   },
   "file_extension": ".py",
   "mimetype": "text/x-python",
   "name": "python",
   "nbconvert_exporter": "python",
   "pygments_lexer": "ipython3",
   "version": "3.9.16"
  },
  "toc": {
   "base_numbering": 1,
   "nav_menu": {},
   "number_sections": true,
   "sideBar": true,
   "skip_h1_title": true,
   "title_cell": "Table of Contents",
   "title_sidebar": "Contents",
   "toc_cell": false,
   "toc_position": {},
   "toc_section_display": true,
   "toc_window_display": false
  }
 },
 "nbformat": 4,
 "nbformat_minor": 2
}
