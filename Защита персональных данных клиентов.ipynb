{
 "cells": [
  {
   "cell_type": "markdown",
   "metadata": {
    "toc": true
   },
   "source": [
    "<h1>Содержание<span class=\"tocSkip\"></span></h1>\n",
    "<div class=\"toc\"><ul class=\"toc-item\"><li><ul class=\"toc-item\"><li><span><a href=\"#Подключение-необходимых-библиотек\" data-toc-modified-id=\"Подключение-необходимых-библиотек-0.1\"><span class=\"toc-item-num\">0.1&nbsp;&nbsp;</span>Подключение необходимых библиотек</a></span><ul class=\"toc-item\"><li><span><a href=\"#Игнорируем-предупреждения\" data-toc-modified-id=\"Игнорируем-предупреждения-0.1.1\"><span class=\"toc-item-num\">0.1.1&nbsp;&nbsp;</span>Игнорируем предупреждения</a></span></li></ul></li><li><span><a href=\"#Объявление-констант\" data-toc-modified-id=\"Объявление-констант-0.2\"><span class=\"toc-item-num\">0.2&nbsp;&nbsp;</span>Объявление констант</a></span></li></ul></li><li><span><a href=\"#Знакомство-с-данными\" data-toc-modified-id=\"Знакомство-с-данными-1\"><span class=\"toc-item-num\">1&nbsp;&nbsp;</span>Знакомство с данными</a></span></li><li><span><a href=\"#Разбиение-данных-для-дальнейшего-обучения\" data-toc-modified-id=\"Разбиение-данных-для-дальнейшего-обучения-2\"><span class=\"toc-item-num\">2&nbsp;&nbsp;</span>Разбиение данных для дальнейшего обучения</a></span></li><li><span><a href=\"#Умножение-матриц\" data-toc-modified-id=\"Умножение-матриц-3\"><span class=\"toc-item-num\">3&nbsp;&nbsp;</span>Умножение матриц</a></span></li><li><span><a href=\"#Алгоритм-преобразования\" data-toc-modified-id=\"Алгоритм-преобразования-4\"><span class=\"toc-item-num\">4&nbsp;&nbsp;</span>Алгоритм преобразования</a></span><ul class=\"toc-item\"><li><ul class=\"toc-item\"><li><span><a href=\"#Создадим-класс-линейной-регресии-для-нашей-задачи-обучения\" data-toc-modified-id=\"Создадим-класс-линейной-регресии-для-нашей-задачи-обучения-4.0.1\"><span class=\"toc-item-num\">4.0.1&nbsp;&nbsp;</span>Создадим класс линейной регресии для нашей задачи обучения</a></span></li><li><span><a href=\"#Проверим-качество-модели-на-исходных-признаках\" data-toc-modified-id=\"Проверим-качество-модели-на-исходных-признаках-4.0.2\"><span class=\"toc-item-num\">4.0.2&nbsp;&nbsp;</span>Проверим качество модели на исходных признаках</a></span></li><li><span><a href=\"#Умножение-на-обратимую-матрицу\" data-toc-modified-id=\"Умножение-на-обратимую-матрицу-4.0.3\"><span class=\"toc-item-num\">4.0.3&nbsp;&nbsp;</span>Умножение на обратимую матрицу</a></span></li></ul></li></ul></li><li><span><a href=\"#Проверка-алгоритма\" data-toc-modified-id=\"Проверка-алгоритма-5\"><span class=\"toc-item-num\">5&nbsp;&nbsp;</span>Проверка алгоритма</a></span></li><li><span><a href=\"#Подведение-итогов\" data-toc-modified-id=\"Подведение-итогов-6\"><span class=\"toc-item-num\">6&nbsp;&nbsp;</span>Подведение итогов</a></span></li><li><span><a href=\"#Чек-лист-проверки\" data-toc-modified-id=\"Чек-лист-проверки-7\"><span class=\"toc-item-num\">7&nbsp;&nbsp;</span>Чек-лист проверки</a></span></li></ul></div>"
   ]
  },
  {
   "cell_type": "markdown",
   "metadata": {},
   "source": [
    "# Защита персональных данных клиентов"
   ]
  },
  {
   "cell_type": "markdown",
   "metadata": {},
   "source": [
    "Необходимо защитить данные клиентов страховой компании «Хоть потоп». \n",
    "\n",
    "**Задача:** разработать такой метод преобразования данных, чтобы по ним было сложно восстановить персональную информацию. \n",
    "\n",
    "При преобразовании качество моделей машинного обучения не должно ухудшаться. "
   ]
  },
  {
   "cell_type": "markdown",
   "metadata": {},
   "source": [
    "# План работы\n",
    "\n",
    "1. Знакомство с данными. \n",
    "2. Умножение признаки на обратимую матрицу и проверим качество линейной регрессии.\n",
    "3. Введение алгоритм преобразования данных.\n",
    "4. Программирование алгоритма преобразования данных с матричными операциями."
   ]
  },
  {
   "cell_type": "markdown",
   "metadata": {},
   "source": [
    "# Описание данных\n",
    "\n",
    "Набор данных находится в файле /datasets/insurance.csv\n",
    "Ccылка на скачивание датасета: https://code.s3.yandex.net/datasets/insurance.csv\n",
    "\n",
    "Признаки: пол, возраст и зарплата застрахованного, количество членов его семьи.\n",
    "\n",
    "Целевой признак: количество страховых выплат клиенту за последние 5 лет."
   ]
  },
  {
   "cell_type": "markdown",
   "metadata": {},
   "source": [
    "### Подключение необходимых библиотек"
   ]
  },
  {
   "cell_type": "code",
   "execution_count": 1,
   "metadata": {},
   "outputs": [],
   "source": [
    "import os\n",
    "import pandas as pd\n",
    "import numpy as np\n",
    "import warnings\n",
    "import matplotlib.pyplot as plt\n",
    "from sklearn.model_selection import train_test_split\n",
    "from sklearn.metrics import mean_squared_error\n",
    "from sklearn.linear_model import LinearRegression\n",
    "from sklearn.metrics import r2_score"
   ]
  },
  {
   "cell_type": "markdown",
   "metadata": {},
   "source": [
    "#### Игнорируем предупреждения"
   ]
  },
  {
   "cell_type": "code",
   "execution_count": 2,
   "metadata": {},
   "outputs": [],
   "source": [
    "warnings.filterwarnings(\"ignore\")\n",
    "pd.options.mode.chained_assignment = None"
   ]
  },
  {
   "cell_type": "markdown",
   "metadata": {},
   "source": [
    "### Объявление констант"
   ]
  },
  {
   "cell_type": "code",
   "execution_count": 3,
   "metadata": {},
   "outputs": [],
   "source": [
    "RS = 12345"
   ]
  },
  {
   "cell_type": "markdown",
   "metadata": {},
   "source": [
    "## Знакомство с данными"
   ]
  },
  {
   "cell_type": "code",
   "execution_count": 4,
   "metadata": {},
   "outputs": [],
   "source": [
    "# обозначим пути к данным\n",
    "\n",
    "pth_1 = r'C:\\Users\\Елена Тюлькина\\Downloads\\insurance.csv'\n",
    "pth_2 = 'insurance.csv'\n",
    "\n",
    "if os.path.exists(pth_1):\n",
    "    df = pd.read_csv(pth_1)\n",
    "elif os.path.exists(pth_2):\n",
    "    df = pd.read_csv(pth_2)\n",
    "else:\n",
    "    df = pd.read_csv('https://code.s3.yandex.net/datasets/insurance.csv')"
   ]
  },
  {
   "cell_type": "code",
   "execution_count": 5,
   "metadata": {},
   "outputs": [],
   "source": [
    "# Функция возвращает основную информацию о датафрейме\n",
    "\n",
    "def hello_df(data):\n",
    "    \n",
    "    display(df.head(5))\n",
    "    print('     ')\n",
    "    \n",
    "    print(df.info())\n",
    "    print('     ')\n",
    "    \n",
    "    print('Дубликатов в таблице:', df.duplicated().sum())\n",
    "    print('     ')\n",
    "    \n",
    "    print('Форма таблицы:{}'.format(df.shape))\n",
    "    print('     ')\n",
    "    \n",
    "    return (df.isna().mean()*100).sort_values(ascending=False).to_frame().rename(\n",
    "    columns = {0:'Процент_пропусков'}).style.background_gradient('coolwarm').format(\"{:.1f}\")"
   ]
  },
  {
   "cell_type": "code",
   "execution_count": 6,
   "metadata": {},
   "outputs": [
    {
     "data": {
      "text/html": [
       "<div>\n",
       "<style scoped>\n",
       "    .dataframe tbody tr th:only-of-type {\n",
       "        vertical-align: middle;\n",
       "    }\n",
       "\n",
       "    .dataframe tbody tr th {\n",
       "        vertical-align: top;\n",
       "    }\n",
       "\n",
       "    .dataframe thead th {\n",
       "        text-align: right;\n",
       "    }\n",
       "</style>\n",
       "<table border=\"1\" class=\"dataframe\">\n",
       "  <thead>\n",
       "    <tr style=\"text-align: right;\">\n",
       "      <th></th>\n",
       "      <th>Пол</th>\n",
       "      <th>Возраст</th>\n",
       "      <th>Зарплата</th>\n",
       "      <th>Члены семьи</th>\n",
       "      <th>Страховые выплаты</th>\n",
       "    </tr>\n",
       "  </thead>\n",
       "  <tbody>\n",
       "    <tr>\n",
       "      <th>0</th>\n",
       "      <td>1</td>\n",
       "      <td>41.0</td>\n",
       "      <td>49600.0</td>\n",
       "      <td>1</td>\n",
       "      <td>0</td>\n",
       "    </tr>\n",
       "    <tr>\n",
       "      <th>1</th>\n",
       "      <td>0</td>\n",
       "      <td>46.0</td>\n",
       "      <td>38000.0</td>\n",
       "      <td>1</td>\n",
       "      <td>1</td>\n",
       "    </tr>\n",
       "    <tr>\n",
       "      <th>2</th>\n",
       "      <td>0</td>\n",
       "      <td>29.0</td>\n",
       "      <td>21000.0</td>\n",
       "      <td>0</td>\n",
       "      <td>0</td>\n",
       "    </tr>\n",
       "    <tr>\n",
       "      <th>3</th>\n",
       "      <td>0</td>\n",
       "      <td>21.0</td>\n",
       "      <td>41700.0</td>\n",
       "      <td>2</td>\n",
       "      <td>0</td>\n",
       "    </tr>\n",
       "    <tr>\n",
       "      <th>4</th>\n",
       "      <td>1</td>\n",
       "      <td>28.0</td>\n",
       "      <td>26100.0</td>\n",
       "      <td>0</td>\n",
       "      <td>0</td>\n",
       "    </tr>\n",
       "  </tbody>\n",
       "</table>\n",
       "</div>"
      ],
      "text/plain": [
       "   Пол  Возраст  Зарплата  Члены семьи  Страховые выплаты\n",
       "0    1     41.0   49600.0            1                  0\n",
       "1    0     46.0   38000.0            1                  1\n",
       "2    0     29.0   21000.0            0                  0\n",
       "3    0     21.0   41700.0            2                  0\n",
       "4    1     28.0   26100.0            0                  0"
      ]
     },
     "metadata": {},
     "output_type": "display_data"
    },
    {
     "name": "stdout",
     "output_type": "stream",
     "text": [
      "     \n",
      "<class 'pandas.core.frame.DataFrame'>\n",
      "RangeIndex: 5000 entries, 0 to 4999\n",
      "Data columns (total 5 columns):\n",
      " #   Column             Non-Null Count  Dtype  \n",
      "---  ------             --------------  -----  \n",
      " 0   Пол                5000 non-null   int64  \n",
      " 1   Возраст            5000 non-null   float64\n",
      " 2   Зарплата           5000 non-null   float64\n",
      " 3   Члены семьи        5000 non-null   int64  \n",
      " 4   Страховые выплаты  5000 non-null   int64  \n",
      "dtypes: float64(2), int64(3)\n",
      "memory usage: 195.4 KB\n",
      "None\n",
      "     \n",
      "Дубликатов в таблице: 153\n",
      "     \n",
      "Форма таблицы:(5000, 5)\n",
      "     \n"
     ]
    },
    {
     "data": {
      "text/html": [
       "<style type=\"text/css\">\n",
       "#T_0ecf6_row0_col0, #T_0ecf6_row1_col0, #T_0ecf6_row2_col0, #T_0ecf6_row3_col0, #T_0ecf6_row4_col0 {\n",
       "  background-color: #3b4cc0;\n",
       "  color: #f1f1f1;\n",
       "}\n",
       "</style>\n",
       "<table id=\"T_0ecf6\">\n",
       "  <thead>\n",
       "    <tr>\n",
       "      <th class=\"blank level0\" >&nbsp;</th>\n",
       "      <th id=\"T_0ecf6_level0_col0\" class=\"col_heading level0 col0\" >Процент_пропусков</th>\n",
       "    </tr>\n",
       "  </thead>\n",
       "  <tbody>\n",
       "    <tr>\n",
       "      <th id=\"T_0ecf6_level0_row0\" class=\"row_heading level0 row0\" >Пол</th>\n",
       "      <td id=\"T_0ecf6_row0_col0\" class=\"data row0 col0\" >0.0</td>\n",
       "    </tr>\n",
       "    <tr>\n",
       "      <th id=\"T_0ecf6_level0_row1\" class=\"row_heading level0 row1\" >Возраст</th>\n",
       "      <td id=\"T_0ecf6_row1_col0\" class=\"data row1 col0\" >0.0</td>\n",
       "    </tr>\n",
       "    <tr>\n",
       "      <th id=\"T_0ecf6_level0_row2\" class=\"row_heading level0 row2\" >Зарплата</th>\n",
       "      <td id=\"T_0ecf6_row2_col0\" class=\"data row2 col0\" >0.0</td>\n",
       "    </tr>\n",
       "    <tr>\n",
       "      <th id=\"T_0ecf6_level0_row3\" class=\"row_heading level0 row3\" >Члены семьи</th>\n",
       "      <td id=\"T_0ecf6_row3_col0\" class=\"data row3 col0\" >0.0</td>\n",
       "    </tr>\n",
       "    <tr>\n",
       "      <th id=\"T_0ecf6_level0_row4\" class=\"row_heading level0 row4\" >Страховые выплаты</th>\n",
       "      <td id=\"T_0ecf6_row4_col0\" class=\"data row4 col0\" >0.0</td>\n",
       "    </tr>\n",
       "  </tbody>\n",
       "</table>\n"
      ],
      "text/plain": [
       "<pandas.io.formats.style.Styler at 0x2219e2bfd00>"
      ]
     },
     "execution_count": 6,
     "metadata": {},
     "output_type": "execute_result"
    }
   ],
   "source": [
    "hello_df(df)"
   ]
  },
  {
   "cell_type": "markdown",
   "metadata": {},
   "source": [
    "В таблице 153 дубликата. У нас нет однозначного идентификатора клиента типа id или ФИО, соответственно мы не можем со 100% уверенностью говорить, что все совпадения являются дубликатами. Но тк их мало, удалим"
   ]
  },
  {
   "cell_type": "code",
   "execution_count": 7,
   "metadata": {},
   "outputs": [],
   "source": [
    "data = df.drop_duplicates()"
   ]
  },
  {
   "cell_type": "code",
   "execution_count": 8,
   "metadata": {},
   "outputs": [
    {
     "name": "stdout",
     "output_type": "stream",
     "text": [
      "0\n"
     ]
    }
   ],
   "source": [
    "print(data.duplicated().sum())"
   ]
  },
  {
   "cell_type": "code",
   "execution_count": 9,
   "metadata": {},
   "outputs": [
    {
     "data": {
      "text/plain": [
       "(4847, 5)"
      ]
     },
     "execution_count": 9,
     "metadata": {},
     "output_type": "execute_result"
    }
   ],
   "source": [
    "data.shape"
   ]
  },
  {
   "cell_type": "code",
   "execution_count": 10,
   "metadata": {},
   "outputs": [],
   "source": [
    "def hist_df(df):\n",
    "    for column in df.columns[1:]:\n",
    "        data = df[[column]]\n",
    "        plt.hist(data)\n",
    "        plt.title(column)\n",
    "        plt.xlabel('Значение')\n",
    "        plt.ylabel('Количество')\n",
    "        plt.show()"
   ]
  },
  {
   "cell_type": "code",
   "execution_count": 11,
   "metadata": {},
   "outputs": [
    {
     "data": {
      "image/png": "[encoded data removed]",
      "text/plain": [
       "<Figure size 640x480 with 1 Axes>"
      ]
     },
     "metadata": {},
     "output_type": "display_data"
    },
    {
     "data": {
      "image/png": "[encoded data removed]",
      "text/plain": [
       "<Figure size 640x480 with 1 Axes>"
      ]
     },
     "metadata": {},
     "output_type": "display_data"
    },
    {
     "data": {
      "image/png": "[encoded data removed]",
      "text/plain": [
       "<Figure size 640x480 with 1 Axes>"
      ]
     },
     "metadata": {},
     "output_type": "display_data"
    },
    {
     "data": {
      "image/png": "[encoded data removed]",
      "text/plain": [
       "<Figure size 640x480 with 1 Axes>"
      ]
     },
     "metadata": {},
     "output_type": "display_data"
    }
   ],
   "source": [
    "hist_df(data)"
   ]
  },
  {
   "cell_type": "markdown",
   "metadata": {},
   "source": [
    "Распределение признаков выглядит естественно. Отметим, что кол-во страховых выплат у большинства семей составляет 0."
   ]
  },
  {
   "cell_type": "code",
   "execution_count": 12,
   "metadata": {},
   "outputs": [
    {
     "data": {
      "text/html": [
       "<style type=\"text/css\">\n",
       "#T_c8a4f_row0_col0, #T_c8a4f_row1_col1, #T_c8a4f_row2_col2, #T_c8a4f_row3_col3 {\n",
       "  background-color: #b40426;\n",
       "  color: #f1f1f1;\n",
       "}\n",
       "#T_c8a4f_row0_col1 {\n",
       "  background-color: #3d50c3;\n",
       "  color: #f1f1f1;\n",
       "}\n",
       "#T_c8a4f_row0_col2, #T_c8a4f_row1_col3 {\n",
       "  background-color: #4358cb;\n",
       "  color: #f1f1f1;\n",
       "}\n",
       "#T_c8a4f_row0_col3 {\n",
       "  background-color: #edd2c3;\n",
       "  color: #000000;\n",
       "}\n",
       "#T_c8a4f_row1_col0, #T_c8a4f_row2_col1, #T_c8a4f_row2_col3, #T_c8a4f_row3_col2 {\n",
       "  background-color: #3b4cc0;\n",
       "  color: #f1f1f1;\n",
       "}\n",
       "#T_c8a4f_row1_col2 {\n",
       "  background-color: #3c4ec2;\n",
       "  color: #f1f1f1;\n",
       "}\n",
       "#T_c8a4f_row2_col0 {\n",
       "  background-color: #3e51c5;\n",
       "  color: #f1f1f1;\n",
       "}\n",
       "#T_c8a4f_row3_col0 {\n",
       "  background-color: #ecd3c5;\n",
       "  color: #000000;\n",
       "}\n",
       "#T_c8a4f_row3_col1 {\n",
       "  background-color: #4055c8;\n",
       "  color: #f1f1f1;\n",
       "}\n",
       "</style>\n",
       "<table id=\"T_c8a4f\">\n",
       "  <thead>\n",
       "    <tr>\n",
       "      <th class=\"blank level0\" >&nbsp;</th>\n",
       "      <th id=\"T_c8a4f_level0_col0\" class=\"col_heading level0 col0\" >Возраст</th>\n",
       "      <th id=\"T_c8a4f_level0_col1\" class=\"col_heading level0 col1\" >Зарплата</th>\n",
       "      <th id=\"T_c8a4f_level0_col2\" class=\"col_heading level0 col2\" >Члены семьи</th>\n",
       "      <th id=\"T_c8a4f_level0_col3\" class=\"col_heading level0 col3\" >Страховые выплаты</th>\n",
       "    </tr>\n",
       "  </thead>\n",
       "  <tbody>\n",
       "    <tr>\n",
       "      <th id=\"T_c8a4f_level0_row0\" class=\"row_heading level0 row0\" >Возраст</th>\n",
       "      <td id=\"T_c8a4f_row0_col0\" class=\"data row0 col0\" >1.000000</td>\n",
       "      <td id=\"T_c8a4f_row0_col1\" class=\"data row0 col1\" >-0.018972</td>\n",
       "      <td id=\"T_c8a4f_row0_col2\" class=\"data row0 col2\" >-0.003414</td>\n",
       "      <td id=\"T_c8a4f_row0_col3\" class=\"data row0 col3\" >0.555655</td>\n",
       "    </tr>\n",
       "    <tr>\n",
       "      <th id=\"T_c8a4f_level0_row1\" class=\"row_heading level0 row1\" >Зарплата</th>\n",
       "      <td id=\"T_c8a4f_row1_col0\" class=\"data row1 col0\" >-0.018972</td>\n",
       "      <td id=\"T_c8a4f_row1_col1\" class=\"data row1 col1\" >1.000000</td>\n",
       "      <td id=\"T_c8a4f_row1_col2\" class=\"data row1 col2\" >-0.027361</td>\n",
       "      <td id=\"T_c8a4f_row1_col3\" class=\"data row1 col3\" >-0.003878</td>\n",
       "    </tr>\n",
       "    <tr>\n",
       "      <th id=\"T_c8a4f_level0_row2\" class=\"row_heading level0 row2\" >Члены семьи</th>\n",
       "      <td id=\"T_c8a4f_row2_col0\" class=\"data row2 col0\" >-0.003414</td>\n",
       "      <td id=\"T_c8a4f_row2_col1\" class=\"data row2 col1\" >-0.027361</td>\n",
       "      <td id=\"T_c8a4f_row2_col2\" class=\"data row2 col2\" >1.000000</td>\n",
       "      <td id=\"T_c8a4f_row2_col3\" class=\"data row2 col3\" >-0.032201</td>\n",
       "    </tr>\n",
       "    <tr>\n",
       "      <th id=\"T_c8a4f_level0_row3\" class=\"row_heading level0 row3\" >Страховые выплаты</th>\n",
       "      <td id=\"T_c8a4f_row3_col0\" class=\"data row3 col0\" >0.555655</td>\n",
       "      <td id=\"T_c8a4f_row3_col1\" class=\"data row3 col1\" >-0.003878</td>\n",
       "      <td id=\"T_c8a4f_row3_col2\" class=\"data row3 col2\" >-0.032201</td>\n",
       "      <td id=\"T_c8a4f_row3_col3\" class=\"data row3 col3\" >1.000000</td>\n",
       "    </tr>\n",
       "  </tbody>\n",
       "</table>\n"
      ],
      "text/plain": [
       "<pandas.io.formats.style.Styler at 0x2219e4a2ee0>"
      ]
     },
     "execution_count": 12,
     "metadata": {},
     "output_type": "execute_result"
    }
   ],
   "source": [
    "data[['Возраст', 'Зарплата', 'Члены семьи', 'Страховые выплаты']].corr(\n",
    "    method='spearman').style.background_gradient(cmap='coolwarm')"
   ]
  },
  {
   "cell_type": "markdown",
   "metadata": {},
   "source": [
    "Коэффициент кореляции практически у всех признаков низкий."
   ]
  },
  {
   "cell_type": "markdown",
   "metadata": {},
   "source": [
    "**Замечания по первичному знакомству с данными:**\n",
    "\n",
    "1. Было обнаружено и устранено 153 дубликата;\n",
    "2. Данные полные - в них нет пропусков;\n",
    "3. Распределение данных выглядит нормально.\n",
    "\n",
    "Точек данных после обработки - 4847 признаков - 5. Целевые признаки хранятся в столбце: \"Страховые выплаты\""
   ]
  },
  {
   "cell_type": "markdown",
   "metadata": {},
   "source": [
    "## Разбиение данных для дальнейшего обучения"
   ]
  },
  {
   "cell_type": "code",
   "execution_count": 13,
   "metadata": {},
   "outputs": [],
   "source": [
    "# выделим признаки\n",
    "\n",
    "target = data['Страховые выплаты']\n",
    "features = data.drop(['Страховые выплаты'], axis=1)"
   ]
  },
  {
   "cell_type": "code",
   "execution_count": 14,
   "metadata": {},
   "outputs": [],
   "source": [
    "# разобьём данные обучающую и валидационную+тестовую выборки\n",
    "\n",
    "features_train, features_test, target_train, target_test = train_test_split(\n",
    "    features, target, test_size=0.25, random_state=RS)"
   ]
  },
  {
   "cell_type": "code",
   "execution_count": 15,
   "metadata": {},
   "outputs": [
    {
     "data": {
      "text/plain": [
       "(3635, 4)"
      ]
     },
     "execution_count": 15,
     "metadata": {},
     "output_type": "execute_result"
    }
   ],
   "source": [
    "features_train.shape"
   ]
  },
  {
   "cell_type": "code",
   "execution_count": 16,
   "metadata": {},
   "outputs": [
    {
     "data": {
      "text/plain": [
       "(3635,)"
      ]
     },
     "execution_count": 16,
     "metadata": {},
     "output_type": "execute_result"
    }
   ],
   "source": [
    "target_train.shape"
   ]
  },
  {
   "cell_type": "code",
   "execution_count": 17,
   "metadata": {},
   "outputs": [
    {
     "data": {
      "text/plain": [
       "(1212, 4)"
      ]
     },
     "execution_count": 17,
     "metadata": {},
     "output_type": "execute_result"
    }
   ],
   "source": [
    "features_test.shape"
   ]
  },
  {
   "cell_type": "code",
   "execution_count": 18,
   "metadata": {},
   "outputs": [
    {
     "data": {
      "text/plain": [
       "(1212,)"
      ]
     },
     "execution_count": 18,
     "metadata": {},
     "output_type": "execute_result"
    }
   ],
   "source": [
    "target_test.shape"
   ]
  },
  {
   "cell_type": "markdown",
   "metadata": {},
   "source": [
    "## Умножение матриц"
   ]
  },
  {
   "cell_type": "markdown",
   "metadata": {},
   "source": [
    "**Вопрос:** Изменится ли качество линейной регрессии, если умножить признаки на обратимую матрицу?\n",
    "\n",
    "Обозначения:\n",
    "\n",
    "- $X$ — матрица признаков (нулевой столбец состоит из единиц)\n",
    "\n",
    "- $y$ — вектор целевого признака\n",
    "\n",
    "- $P$ — матрица, на которую умножаются признаки\n",
    "\n",
    "- $w$ — вектор весов линейной регрессии (нулевой элемент равен сдвигу)"
   ]
  },
  {
   "cell_type": "markdown",
   "metadata": {},
   "source": [
    "Предсказания:\n",
    "\n",
    "$$\n",
    "a = Xw\n",
    "$$\n",
    "\n",
    "Задача обучения:\n",
    "\n",
    "$$\n",
    "w = \\arg\\min_w MSE(Xw, y)\n",
    "$$\n",
    "\n",
    "Формула обучения:\n",
    "\n",
    "$$\n",
    "w = (X^T X)^{-1} X^T y\n",
    "$$"
   ]
  },
  {
   "cell_type": "markdown",
   "metadata": {},
   "source": [
    "**Ответ:** Если умножить признаки на обратимую матрицу, то качество линейной регрессии не изменится.\n",
    "\n",
    "**Обоснование:** \n",
    "\n",
    "Для решения задачи воспользовались следующими свойствами матриц:\n",
    "\n",
    "1. $$\n",
    "A(BC) = (AB)C\n",
    "$$\n",
    "2. $$\n",
    "(AB)^{T} = B^{T}A^{T}\n",
    "$$\n",
    "3. $$\n",
    "AE = EA = A\n",
    "$$\n",
    "4. $$\n",
    "A^{-1} A = E\n",
    "$$\n",
    "5. $$\n",
    "(ABC)^{-1} = C^{-1}B^{-1}A^{-1}\n",
    "$$\n",
    "\n",
    "Пусть обратимая матрица $$P$$\n",
    "Тогда новые признаки $$XP$$\n",
    "\n",
    "Формула обучения с матрицей признаков, умноженной на обратимую матрицу, принимает вид\n",
    "\n",
    "$$\n",
    "w = ((XР)^{T} XP)^{-1} (XP)^T y\n",
    "$$ \n",
    "\n",
    "Приступим к преобразованию формулы. Используем 2 свойство:\n",
    "\n",
    "$$ \n",
    "w = (P^{T}X^{T} XP)^{-1} P^{T}X^{T} y\n",
    "$$ \n",
    "\n",
    "Используем 1 свойство:\n",
    "\n",
    "$$ \n",
    "w = (P^{T}(X^{T} X)P)^{-1} P^{T}X^{T} y\n",
    "$$ \n",
    "\n",
    "Раскрываем скобки, руководствуясь 5-м свойством:\n",
    "\n",
    "$$ \n",
    "w = P^{-1}(X^{T} X)^{-1}(P^{T})^{-1} P^{T}X^{T} y\n",
    "$$ \n",
    "\n",
    "Используя 4 свойство, получаем единичную матрицу:\n",
    "\n",
    "$$ \n",
    "w = P^{-1}(X^{T} X)^{-1}EX^{T} y\n",
    "$$ \n",
    "\n",
    "Тогда благодаря 3 свойству формула приобретает вид:\n",
    "\n",
    "$$ \n",
    "w = P^{-1}(X^{T} X)^{-1}X^{T} y\n",
    "$$ \n",
    "\n",
    "Далее вернумся к условию:\n",
    "\n",
    "$$ \n",
    "w = (X^T X)^{-1} X^T y\n",
    "$$ \n",
    "\n",
    "Тогда справедливо равенство:\n",
    "$$ \n",
    "w = P^{-1} w\n",
    "$$ \n",
    "\n",
    "Мы видим, что вектор весов линейной регрессии изменён.\n",
    "Проверим формулу предсказаний. Подставим туда новые значения\n",
    "\n",
    "$$\n",
    "a = XPP^{-1}w\n",
    "$$\n",
    "Упростим и получим: \n",
    "\n",
    "$$\n",
    "a = XEw\n",
    "$$\n",
    "$$\n",
    "a = Xw\n",
    "$$\n",
    "\n",
    "Получили исходную формулу предсказаний. Всё это доказывает, что качество линейной регресси не изменилось."
   ]
  },
  {
   "cell_type": "markdown",
   "metadata": {},
   "source": [
    "## Алгоритм преобразования\n",
    "**Алгоритм**\n",
    "\n",
    "Исходные признаки умножаются на случайную обратимую матрицу подходящего размера.\n",
    "$$ \n",
    "w = P^{-1}(X^{T} X)^{-1}X^{T} y\n",
    "$$ \n",
    "\n",
    "**Обоснование**\n",
    "\n",
    "В предыдущем пункте доказано, что если умножить исхождные признаки Х на случайную обратимую матрицу Р, то предсказания не будут менятся, а значит - качество работы линейной регрессии тоже.\n",
    "\n",
    "Запрограммируем алгоритм:\n"
   ]
  },
  {
   "cell_type": "markdown",
   "metadata": {},
   "source": [
    "#### Создадим класс линейной регресии для нашей задачи обучения"
   ]
  },
  {
   "cell_type": "code",
   "execution_count": 19,
   "metadata": {},
   "outputs": [],
   "source": [
    "class MyLinearRegression:\n",
    "    \n",
    "    def fit(self, train_features, train_target):\n",
    "        X = np.concatenate((np.ones((train_features.shape[0], 1)), train_features), axis=1)\n",
    "        y = train_target\n",
    "        w = np.linalg.inv(X.T.dot(X)).dot(X.T).dot(y)\n",
    "        self.w = w[1:]\n",
    "        self.w0 = w[0]\n",
    "\n",
    "    def predict(self, test_features):\n",
    "        return test_features.dot(self.w) + self.w0"
   ]
  },
  {
   "cell_type": "markdown",
   "metadata": {},
   "source": [
    "#### Проверим качество модели на исходных признаках"
   ]
  },
  {
   "cell_type": "code",
   "execution_count": 20,
   "metadata": {},
   "outputs": [],
   "source": [
    "model = MyLinearRegression()\n",
    "model.fit(features_train, target_train)\n",
    "predictions = model.predict(features_test)"
   ]
  },
  {
   "cell_type": "code",
   "execution_count": 21,
   "metadata": {},
   "outputs": [
    {
     "name": "stdout",
     "output_type": "stream",
     "text": [
      "R2 на исходных данных: 0.4230772749214826\n",
      "MSE на исходных данных: 0.11955009374099715\n"
     ]
    }
   ],
   "source": [
    "r2_first_data = r2_score(target_test, predictions)\n",
    "mse_first_data = mean_squared_error(predictions, target_test)\n",
    "\n",
    "print('R2 на исходных данных:', r2_first_data)\n",
    "print('MSE на исходных данных:', mse_first_data)"
   ]
  },
  {
   "cell_type": "markdown",
   "metadata": {},
   "source": [
    "Значение метрики R2 не отрицательное, не равно нулю и меньше единицы, а значит - линейная регрессия работает."
   ]
  },
  {
   "cell_type": "markdown",
   "metadata": {},
   "source": [
    "#### Умножение на обратимую матрицу"
   ]
  },
  {
   "cell_type": "code",
   "execution_count": 22,
   "metadata": {},
   "outputs": [
    {
     "data": {
      "text/plain": [
       "(4847, 4)"
      ]
     },
     "execution_count": 22,
     "metadata": {},
     "output_type": "execute_result"
    }
   ],
   "source": [
    "features.shape"
   ]
  },
  {
   "cell_type": "code",
   "execution_count": 23,
   "metadata": {},
   "outputs": [
    {
     "data": {
      "text/plain": [
       "array([[2.8778151 , 4.38719557, 3.17745199, 2.84917633],\n",
       "       [2.67760296, 2.33160637, 2.89253559, 2.5360651 ],\n",
       "       [3.37546822, 3.91674545, 3.04298706, 3.32463807],\n",
       "       [2.91050399, 2.6205753 , 1.72399012, 5.42358865]])"
      ]
     },
     "execution_count": 23,
     "metadata": {},
     "output_type": "execute_result"
    }
   ],
   "source": [
    "# создадим рандомную матрицу \n",
    "\n",
    "matrix = np.random.normal(3, size=(4, 4))\n",
    "matrix"
   ]
  },
  {
   "cell_type": "code",
   "execution_count": 24,
   "metadata": {},
   "outputs": [
    {
     "data": {
      "text/plain": [
       "array([[-1.75367664, -0.48861634,  2.51911165, -0.39446902],\n",
       "       [ 0.47135827, -0.62585291,  0.11829359, -0.0274841 ],\n",
       "       [ 0.85676582,  1.11947622, -1.65244391,  0.03939025],\n",
       "       [ 0.440999  ,  0.20876372, -0.88374785,  0.39682571]])"
      ]
     },
     "execution_count": 24,
     "metadata": {},
     "output_type": "execute_result"
    }
   ],
   "source": [
    "# Проверка на обратимость\n",
    "\n",
    "np.linalg.inv(matrix)"
   ]
  },
  {
   "cell_type": "markdown",
   "metadata": {},
   "source": [
    "Проверка на обратимость пройдена"
   ]
  },
  {
   "cell_type": "code",
   "execution_count": 25,
   "metadata": {},
   "outputs": [],
   "source": [
    "# Новые признаки, умноженные на обратимую матрицу\n",
    "\n",
    "train_matrix = np.dot(features_train, matrix)\n",
    "test_matrix = np.dot(features_test, matrix)"
   ]
  },
  {
   "cell_type": "code",
   "execution_count": 26,
   "metadata": {},
   "outputs": [],
   "source": [
    "model_matrix = MyLinearRegression()\n",
    "model_matrix.fit(train_matrix, target_train)\n",
    "predictions = model_matrix.predict(test_matrix)"
   ]
  },
  {
   "cell_type": "code",
   "execution_count": 27,
   "metadata": {},
   "outputs": [
    {
     "name": "stdout",
     "output_type": "stream",
     "text": [
      "R2 на исходных данных: 0.4230769988874167\n",
      "MSE на исходных данных: 0.11955015094085603\n"
     ]
    }
   ],
   "source": [
    "r2_second_data = r2_score(target_test, predictions)\n",
    "mse_second_data = mean_squared_error(predictions, target_test)\n",
    "\n",
    "print('R2 на исходных данных:', r2_second_data)\n",
    "print('MSE на исходных данных:', mse_second_data)"
   ]
  },
  {
   "cell_type": "markdown",
   "metadata": {},
   "source": [
    "Что и требовалось доказать: метрики не изменились."
   ]
  },
  {
   "cell_type": "markdown",
   "metadata": {},
   "source": [
    "**Промежуточный вывод:**\n",
    "\n",
    "Подставляя новые значения в формулу обучения и в формулу предсказаний мы выяснили, что предсказания не поменяются, если исходные признаки умножить на обратимую матрицу. Мы создали класс линейной регрессии по формулам, обучили 2 модели с разным признаками и наглядно показали, что метрики R2 и MSE не меняют своё значение."
   ]
  },
  {
   "cell_type": "markdown",
   "metadata": {},
   "source": [
    "## Проверка алгоритма\n",
    "\n",
    "Сравним работу нашего алгоритсма с работой алгоритма линейной регрессии из библиотеки sklearn.\n",
    "\n",
    "**На исходных данных**"
   ]
  },
  {
   "cell_type": "code",
   "execution_count": 28,
   "metadata": {},
   "outputs": [],
   "source": [
    "model_lr = LinearRegression()\n",
    "model_lr.fit(features_train, target_train)\n",
    "predictions_lr = model_lr.predict(features_test)"
   ]
  },
  {
   "cell_type": "code",
   "execution_count": 29,
   "metadata": {},
   "outputs": [
    {
     "name": "stdout",
     "output_type": "stream",
     "text": [
      "R2 на исходных данных: 0.4230769988874167\n",
      "MSE на исходных данных: 0.11955009374099915\n"
     ]
    }
   ],
   "source": [
    "r2_lr = r2_score(target_test, predictions)\n",
    "mse_lr = mean_squared_error(predictions_lr, target_test)\n",
    "\n",
    "print('R2 на исходных данных:', r2_lr)\n",
    "print('MSE на исходных данных:', mse_lr)"
   ]
  },
  {
   "cell_type": "markdown",
   "metadata": {},
   "source": [
    "**На изменённых данных**"
   ]
  },
  {
   "cell_type": "code",
   "execution_count": 30,
   "metadata": {},
   "outputs": [],
   "source": [
    "model_matrix_lr = LinearRegression()\n",
    "model_matrix_lr.fit(train_matrix, target_train)\n",
    "predictions_m_lr = model_matrix_lr.predict(test_matrix)"
   ]
  },
  {
   "cell_type": "code",
   "execution_count": 31,
   "metadata": {},
   "outputs": [
    {
     "name": "stdout",
     "output_type": "stream",
     "text": [
      "R2 на изменённых данных: 0.42307727492093694\n",
      "MSE на изменённых данных: 0.1195500937411102\n"
     ]
    }
   ],
   "source": [
    "r2_lr_new = r2_score(target_test, predictions_m_lr)\n",
    "mse_lr_new = mean_squared_error(predictions_m_lr, target_test)\n",
    "\n",
    "print('R2 на изменённых данных:', r2_lr_new)\n",
    "print('MSE на изменённых данных:', mse_lr_new)"
   ]
  },
  {
   "cell_type": "markdown",
   "metadata": {},
   "source": [
    "**Декодировка данных**\n",
    "\n",
    "Умножая признаки X на случайную необратимую матрицу P, мы получали новую матрицу. Oбозначим её B\n",
    "\n",
    "$$ \n",
    "B = XP\n",
    "$$ \n",
    "\n",
    "Тогда справедливо равенство\n",
    "\n",
    "$$ \n",
    "BP^{-1} = XPP^{-1}\n",
    "$$ \n",
    "\n",
    "Далее получаем единичную матрицу\n",
    "$$ \n",
    "BP^{-1} = XE\n",
    "$$ \n",
    "\n",
    "И тогда:\n",
    "$$ \n",
    "BP^{-1} = X\n",
    "$$ \n",
    "\n",
    "Таким образом, чтобы доекодировать данные обратно, нужно умножить новую матрицу на обратную к случайной обратимой матрице P."
   ]
  },
  {
   "cell_type": "code",
   "execution_count": 32,
   "metadata": {},
   "outputs": [],
   "source": [
    "# Обратная к случайной обратимой матрице\n",
    "\n",
    "matrix_inv = np.linalg.inv(matrix)"
   ]
  },
  {
   "cell_type": "code",
   "execution_count": 33,
   "metadata": {},
   "outputs": [],
   "source": [
    "# Декодированные признаки:\n",
    "\n",
    "train_dec = np.dot(train_matrix, matrix_inv)\n",
    "test_dec = np.dot(test_matrix, matrix_inv)"
   ]
  },
  {
   "cell_type": "code",
   "execution_count": 34,
   "metadata": {},
   "outputs": [],
   "source": [
    "model_matrix_lr = LinearRegression()\n",
    "model_matrix_lr.fit(train_dec, target_train)\n",
    "predictions_m_lr = model_matrix_lr.predict(test_dec)"
   ]
  },
  {
   "cell_type": "code",
   "execution_count": 35,
   "metadata": {},
   "outputs": [
    {
     "name": "stdout",
     "output_type": "stream",
     "text": [
      "R2 на декодированных данных: 0.42307727492154656\n",
      "MSE на декодированных данных: 0.11955009374098388\n"
     ]
    }
   ],
   "source": [
    "r2_lr_new = r2_score(target_test, predictions_m_lr)\n",
    "mse_lr_new = mean_squared_error(predictions_m_lr, target_test)\n",
    "\n",
    "print('R2 на декодированных данных:', r2_lr_new)\n",
    "print('MSE на декодированных данных:', mse_lr_new)"
   ]
  },
  {
   "cell_type": "markdown",
   "metadata": {},
   "source": [
    "При декодировке данных метрики R2 и MSE не изменились."
   ]
  },
  {
   "cell_type": "markdown",
   "metadata": {},
   "source": [
    "**Промежуточный вывод:**\n",
    "\n",
    "Таким образом, в случае домножения матрицы признаков на случайную обратимую матрицу можно обеспечить защиту данных, не особо потеряв в качестве модели.\n",
    "\n",
    "Качество линейной регрессии из sklearn не отличается до и после преобразования, а также при декодировке данных.\n"
   ]
  },
  {
   "cell_type": "markdown",
   "metadata": {},
   "source": [
    "## Подведение итогов\n",
    "\n",
    "При знакомстве с данными было обнаружено и устранено 153 дубликата, данные адекватные и не нуждались в большей обработке.\n",
    "Точек данных после обработки - 4847 признаков - 5. \n",
    "\n",
    "Проверяя, изменится ли качество линейной регрессии, если умножить признаки на обратимую матрицу, мы разработали следующий алгоритм преобразования данных:\n",
    "\n",
    "**Алгоритм**\n",
    "\n",
    "Исходные признаки умножаются на случайную обратимую матрицу подходящего размера.\n",
    "$$ \n",
    "w = P^{-1}(X^{T} X)^{-1}X^{T} y\n",
    "$$ \n",
    "\n",
    "Мы доказали, что если умножить исхождные признаки Х на случайную обратимую матрицу Р, то предсказания не будут менятся, и качество работы линейной регрессии тоже. Мы создали класс линейной регрессии по формулам, обучили 2 модели с разным признаками и наглядно показали, что метрики R2 и MSE не меняют своё значение.\n",
    "\n",
    "Запрограммировав алгоритм, мы сравнили его с с алгоритмом линейной регрессии из библиотеки sklearn. Качество линейной регрессии из sklearn не отличается до и после преобразования данных.\n",
    "\n",
    "Таким образом, мы выбрали и запрограммировали такой метод преобразования данных, который не ухуджает качество моделей машинного обучения."
   ]
  }
 ],
 "metadata": {
  "ExecuteTimeLog": [
   {
    "duration": 4,
    "start_time": "2023-01-09T18:14:43.834Z"
   },
   {
    "duration": 2,
    "start_time": "2023-01-09T18:14:46.425Z"
   },
   {
    "duration": 3,
    "start_time": "2023-01-09T18:14:48.322Z"
   },
   {
    "duration": 2,
    "start_time": "2023-01-09T18:14:50.771Z"
   },
   {
    "duration": 146,
    "start_time": "2023-01-09T18:14:52.397Z"
   },
   {
    "duration": 4,
    "start_time": "2023-01-09T18:14:54.358Z"
   },
   {
    "duration": 81,
    "start_time": "2023-01-13T12:51:42.035Z"
   },
   {
    "duration": 80,
    "start_time": "2023-01-13T12:52:06.186Z"
   }
  ],
  "kernelspec": {
   "display_name": "Python 3 (ipykernel)",
   "language": "python",
   "name": "python3"
  },
  "language_info": {
   "codemirror_mode": {
    "name": "ipython",
    "version": 3
   },
   "file_extension": ".py",
   "mimetype": "text/x-python",
   "name": "python",
   "nbconvert_exporter": "python",
   "pygments_lexer": "ipython3",
   "version": "3.9.16"
  },
  "toc": {
   "base_numbering": 1,
   "nav_menu": {},
   "number_sections": true,
   "sideBar": true,
   "skip_h1_title": true,
   "title_cell": "Содержание",
   "title_sidebar": "Contents",
   "toc_cell": true,
   "toc_position": {},
   "toc_section_display": true,
   "toc_window_display": true
  }
 },
 "nbformat": 4,
 "nbformat_minor": 2
}
