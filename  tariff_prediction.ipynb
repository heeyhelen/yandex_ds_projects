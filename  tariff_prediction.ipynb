{
 "cells": [
  {
   "cell_type": "markdown",
   "metadata": {},
   "source": [
    "# Исследование моделей, прогнозирующих пользователям подходящий тариф"
   ]
  },
  {
   "cell_type": "markdown",
   "metadata": {},
   "source": [
    "Оператор мобильной связи «Мегалайн» выяснил: многие клиенты пользуются архивными тарифами. Они хотят построить систему, способную проанализировать поведение клиентов и предложить пользователям новый тариф: «Смарт» или «Ультра».\n",
    "\n",
    "В нашем распоряжении данные о поведении клиентов, которые уже перешли на эти тарифы.\n",
    "\n",
    "**Задача**: построить модель для задачи классификации, которая cпрогнозирует пользователям подходящий тариф. \n",
    "\n",
    "Мы должны построить модель с максимально большим значением метрики качества *accuracy*, но не менее 0.75"
   ]
  },
  {
   "cell_type": "markdown",
   "metadata": {},
   "source": [
    "# План работы\n",
    "\n",
    "1. Откроем файл с данными и изучим его. \n",
    "2. Разделим исходные данные на обучающую, валидационную и тестовую выборки.\n",
    "3. Исследуем качество разных моделей, меняя гиперпараметры. \n",
    "4. Проверим качество модели на тестовой выборке.\n",
    "5. Проверим модели на адекватность. \n",
    "6. Подведём итоги работы."
   ]
  },
  {
   "cell_type": "markdown",
   "metadata": {},
   "source": [
    "# Описание данных\n",
    "\n",
    "Датасет: https://code.s3.yandex.net/datasets/users_behavior.csv\n",
    "\n",
    "Каждый объект в наборе данных — это информация о поведении одного пользователя за месяц. Известно:\n",
    "\n",
    "сalls — количество звонков,\n",
    "\n",
    "minutes — суммарная длительность звонков в минутах,\n",
    "\n",
    "messages — количество sms-сообщений,\n",
    "\n",
    "mb_used — израсходованный интернет-трафик в Мб,\n",
    "\n",
    "is_ultra — каким тарифом пользовался в течение месяца («Ультра» — 1, «Смарт» — 0)."
   ]
  },
  {
   "cell_type": "markdown",
   "metadata": {},
   "source": [
    "### Подключение необходимых библиотек"
   ]
  },
  {
   "cell_type": "code",
   "execution_count": 1,
   "metadata": {},
   "outputs": [],
   "source": [
    "import os\n",
    "import pandas as pd\n",
    "import numpy as np\n",
    "import warnings\n",
    "from sklearn.model_selection import train_test_split\n",
    "from sklearn.tree import DecisionTreeClassifier\n",
    "from sklearn.metrics import accuracy_score\n",
    "from sklearn.tree import export_graphviz\n",
    "from sklearn.ensemble import RandomForestClassifier\n",
    "from sklearn.neighbors import KNeighborsClassifier\n",
    "from sklearn.linear_model import LogisticRegression\n",
    "from sklearn import tree\n",
    "from sklearn.dummy import DummyClassifier\n",
    "import matplotlib.pyplot as plt\n",
    "%matplotlib inline"
   ]
  },
  {
   "cell_type": "markdown",
   "metadata": {},
   "source": [
    "#### Игнорируем предупреждения"
   ]
  },
  {
   "cell_type": "code",
   "execution_count": 2,
   "metadata": {},
   "outputs": [],
   "source": [
    "warnings.filterwarnings(\"ignore\")\n",
    "pd.options.mode.chained_assignment = None"
   ]
  },
  {
   "cell_type": "markdown",
   "metadata": {},
   "source": [
    "### Объявление кнстант"
   ]
  },
  {
   "cell_type": "code",
   "execution_count": 13,
   "metadata": {},
   "outputs": [],
   "source": [
    "RS = 12345"
   ]
  },
  {
   "cell_type": "markdown",
   "metadata": {},
   "source": [
    "## Знакомство с данными"
   ]
  },
  {
   "cell_type": "code",
   "execution_count": 3,
   "metadata": {},
   "outputs": [],
   "source": [
    "pth_1 = r'C:\\Users\\Елена Тюлькина\\Downloads\\users_behavior.csv'\n",
    "pth_2 = 'users_behavior.csv'\n",
    "\n",
    "if os.path.exists(pth_1):\n",
    "    df = pd.read_csv(pth_1)\n",
    "elif os.path.exists(pth_2):\n",
    "    df = pd.read_csv(pth_2)\n",
    "else:\n",
    "    df = pd.read_csv('https://code.s3.yandex.net/datasets/users_behavior.csv')"
   ]
  },
  {
   "cell_type": "code",
   "execution_count": 4,
   "metadata": {},
   "outputs": [
    {
     "data": {
      "text/html": [
       "<div>\n",
       "<style scoped>\n",
       "    .dataframe tbody tr th:only-of-type {\n",
       "        vertical-align: middle;\n",
       "    }\n",
       "\n",
       "    .dataframe tbody tr th {\n",
       "        vertical-align: top;\n",
       "    }\n",
       "\n",
       "    .dataframe thead th {\n",
       "        text-align: right;\n",
       "    }\n",
       "</style>\n",
       "<table border=\"1\" class=\"dataframe\">\n",
       "  <thead>\n",
       "    <tr style=\"text-align: right;\">\n",
       "      <th></th>\n",
       "      <th>calls</th>\n",
       "      <th>minutes</th>\n",
       "      <th>messages</th>\n",
       "      <th>mb_used</th>\n",
       "      <th>is_ultra</th>\n",
       "    </tr>\n",
       "  </thead>\n",
       "  <tbody>\n",
       "    <tr>\n",
       "      <th>0</th>\n",
       "      <td>40.0</td>\n",
       "      <td>311.90</td>\n",
       "      <td>83.0</td>\n",
       "      <td>19915.42</td>\n",
       "      <td>0</td>\n",
       "    </tr>\n",
       "    <tr>\n",
       "      <th>1</th>\n",
       "      <td>85.0</td>\n",
       "      <td>516.75</td>\n",
       "      <td>56.0</td>\n",
       "      <td>22696.96</td>\n",
       "      <td>0</td>\n",
       "    </tr>\n",
       "    <tr>\n",
       "      <th>2</th>\n",
       "      <td>77.0</td>\n",
       "      <td>467.66</td>\n",
       "      <td>86.0</td>\n",
       "      <td>21060.45</td>\n",
       "      <td>0</td>\n",
       "    </tr>\n",
       "    <tr>\n",
       "      <th>3</th>\n",
       "      <td>106.0</td>\n",
       "      <td>745.53</td>\n",
       "      <td>81.0</td>\n",
       "      <td>8437.39</td>\n",
       "      <td>1</td>\n",
       "    </tr>\n",
       "    <tr>\n",
       "      <th>4</th>\n",
       "      <td>66.0</td>\n",
       "      <td>418.74</td>\n",
       "      <td>1.0</td>\n",
       "      <td>14502.75</td>\n",
       "      <td>0</td>\n",
       "    </tr>\n",
       "    <tr>\n",
       "      <th>5</th>\n",
       "      <td>58.0</td>\n",
       "      <td>344.56</td>\n",
       "      <td>21.0</td>\n",
       "      <td>15823.37</td>\n",
       "      <td>0</td>\n",
       "    </tr>\n",
       "    <tr>\n",
       "      <th>6</th>\n",
       "      <td>57.0</td>\n",
       "      <td>431.64</td>\n",
       "      <td>20.0</td>\n",
       "      <td>3738.90</td>\n",
       "      <td>1</td>\n",
       "    </tr>\n",
       "    <tr>\n",
       "      <th>7</th>\n",
       "      <td>15.0</td>\n",
       "      <td>132.40</td>\n",
       "      <td>6.0</td>\n",
       "      <td>21911.60</td>\n",
       "      <td>0</td>\n",
       "    </tr>\n",
       "    <tr>\n",
       "      <th>8</th>\n",
       "      <td>7.0</td>\n",
       "      <td>43.39</td>\n",
       "      <td>3.0</td>\n",
       "      <td>2538.67</td>\n",
       "      <td>1</td>\n",
       "    </tr>\n",
       "    <tr>\n",
       "      <th>9</th>\n",
       "      <td>90.0</td>\n",
       "      <td>665.41</td>\n",
       "      <td>38.0</td>\n",
       "      <td>17358.61</td>\n",
       "      <td>0</td>\n",
       "    </tr>\n",
       "  </tbody>\n",
       "</table>\n",
       "</div>"
      ],
      "text/plain": [
       "   calls  minutes  messages   mb_used  is_ultra\n",
       "0   40.0   311.90      83.0  19915.42         0\n",
       "1   85.0   516.75      56.0  22696.96         0\n",
       "2   77.0   467.66      86.0  21060.45         0\n",
       "3  106.0   745.53      81.0   8437.39         1\n",
       "4   66.0   418.74       1.0  14502.75         0\n",
       "5   58.0   344.56      21.0  15823.37         0\n",
       "6   57.0   431.64      20.0   3738.90         1\n",
       "7   15.0   132.40       6.0  21911.60         0\n",
       "8    7.0    43.39       3.0   2538.67         1\n",
       "9   90.0   665.41      38.0  17358.61         0"
      ]
     },
     "metadata": {},
     "output_type": "display_data"
    }
   ],
   "source": [
    "display(df.head(10))"
   ]
  },
  {
   "cell_type": "code",
   "execution_count": 5,
   "metadata": {},
   "outputs": [
    {
     "name": "stdout",
     "output_type": "stream",
     "text": [
      "<class 'pandas.core.frame.DataFrame'>\n",
      "RangeIndex: 3214 entries, 0 to 3213\n",
      "Data columns (total 5 columns):\n",
      " #   Column    Non-Null Count  Dtype  \n",
      "---  ------    --------------  -----  \n",
      " 0   calls     3214 non-null   float64\n",
      " 1   minutes   3214 non-null   float64\n",
      " 2   messages  3214 non-null   float64\n",
      " 3   mb_used   3214 non-null   float64\n",
      " 4   is_ultra  3214 non-null   int64  \n",
      "dtypes: float64(4), int64(1)\n",
      "memory usage: 125.7 KB\n"
     ]
    }
   ],
   "source": [
    "df.info()"
   ]
  },
  {
   "cell_type": "code",
   "execution_count": 6,
   "metadata": {},
   "outputs": [
    {
     "data": {
      "text/html": [
       "<div>\n",
       "<style scoped>\n",
       "    .dataframe tbody tr th:only-of-type {\n",
       "        vertical-align: middle;\n",
       "    }\n",
       "\n",
       "    .dataframe tbody tr th {\n",
       "        vertical-align: top;\n",
       "    }\n",
       "\n",
       "    .dataframe thead th {\n",
       "        text-align: right;\n",
       "    }\n",
       "</style>\n",
       "<table border=\"1\" class=\"dataframe\">\n",
       "  <thead>\n",
       "    <tr style=\"text-align: right;\">\n",
       "      <th></th>\n",
       "      <th>calls</th>\n",
       "      <th>minutes</th>\n",
       "      <th>messages</th>\n",
       "      <th>mb_used</th>\n",
       "      <th>is_ultra</th>\n",
       "    </tr>\n",
       "  </thead>\n",
       "  <tbody>\n",
       "    <tr>\n",
       "      <th>count</th>\n",
       "      <td>3214.000000</td>\n",
       "      <td>3214.000000</td>\n",
       "      <td>3214.000000</td>\n",
       "      <td>3214.000000</td>\n",
       "      <td>3214.000000</td>\n",
       "    </tr>\n",
       "    <tr>\n",
       "      <th>mean</th>\n",
       "      <td>63.038892</td>\n",
       "      <td>438.208787</td>\n",
       "      <td>38.281269</td>\n",
       "      <td>17207.673836</td>\n",
       "      <td>0.306472</td>\n",
       "    </tr>\n",
       "    <tr>\n",
       "      <th>std</th>\n",
       "      <td>33.236368</td>\n",
       "      <td>234.569872</td>\n",
       "      <td>36.148326</td>\n",
       "      <td>7570.968246</td>\n",
       "      <td>0.461100</td>\n",
       "    </tr>\n",
       "    <tr>\n",
       "      <th>min</th>\n",
       "      <td>0.000000</td>\n",
       "      <td>0.000000</td>\n",
       "      <td>0.000000</td>\n",
       "      <td>0.000000</td>\n",
       "      <td>0.000000</td>\n",
       "    </tr>\n",
       "    <tr>\n",
       "      <th>25%</th>\n",
       "      <td>40.000000</td>\n",
       "      <td>274.575000</td>\n",
       "      <td>9.000000</td>\n",
       "      <td>12491.902500</td>\n",
       "      <td>0.000000</td>\n",
       "    </tr>\n",
       "    <tr>\n",
       "      <th>50%</th>\n",
       "      <td>62.000000</td>\n",
       "      <td>430.600000</td>\n",
       "      <td>30.000000</td>\n",
       "      <td>16943.235000</td>\n",
       "      <td>0.000000</td>\n",
       "    </tr>\n",
       "    <tr>\n",
       "      <th>75%</th>\n",
       "      <td>82.000000</td>\n",
       "      <td>571.927500</td>\n",
       "      <td>57.000000</td>\n",
       "      <td>21424.700000</td>\n",
       "      <td>1.000000</td>\n",
       "    </tr>\n",
       "    <tr>\n",
       "      <th>max</th>\n",
       "      <td>244.000000</td>\n",
       "      <td>1632.060000</td>\n",
       "      <td>224.000000</td>\n",
       "      <td>49745.730000</td>\n",
       "      <td>1.000000</td>\n",
       "    </tr>\n",
       "  </tbody>\n",
       "</table>\n",
       "</div>"
      ],
      "text/plain": [
       "             calls      minutes     messages       mb_used     is_ultra\n",
       "count  3214.000000  3214.000000  3214.000000   3214.000000  3214.000000\n",
       "mean     63.038892   438.208787    38.281269  17207.673836     0.306472\n",
       "std      33.236368   234.569872    36.148326   7570.968246     0.461100\n",
       "min       0.000000     0.000000     0.000000      0.000000     0.000000\n",
       "25%      40.000000   274.575000     9.000000  12491.902500     0.000000\n",
       "50%      62.000000   430.600000    30.000000  16943.235000     0.000000\n",
       "75%      82.000000   571.927500    57.000000  21424.700000     1.000000\n",
       "max     244.000000  1632.060000   224.000000  49745.730000     1.000000"
      ]
     },
     "execution_count": 6,
     "metadata": {},
     "output_type": "execute_result"
    }
   ],
   "source": [
    "df.describe()"
   ]
  },
  {
   "cell_type": "code",
   "execution_count": 7,
   "metadata": {},
   "outputs": [
    {
     "data": {
      "image/png": "[encoded data removed]",
      "text/plain": [
       "<Figure size 1500x2000 with 6 Axes>"
      ]
     },
     "metadata": {},
     "output_type": "display_data"
    }
   ],
   "source": [
    "df.hist(figsize=(15, 20));"
   ]
  },
  {
   "cell_type": "code",
   "execution_count": 8,
   "metadata": {},
   "outputs": [
    {
     "data": {
      "text/plain": [
       "calls       0\n",
       "minutes     0\n",
       "messages    0\n",
       "mb_used     0\n",
       "is_ultra    0\n",
       "dtype: int64"
      ]
     },
     "execution_count": 8,
     "metadata": {},
     "output_type": "execute_result"
    }
   ],
   "source": [
    "df.isna().sum()"
   ]
  },
  {
   "cell_type": "code",
   "execution_count": 9,
   "metadata": {},
   "outputs": [
    {
     "data": {
      "text/plain": [
       "0"
      ]
     },
     "execution_count": 9,
     "metadata": {},
     "output_type": "execute_result"
    }
   ],
   "source": [
    "df.duplicated().sum()"
   ]
  },
  {
   "cell_type": "code",
   "execution_count": 10,
   "metadata": {},
   "outputs": [
    {
     "name": "stdout",
     "output_type": "stream",
     "text": [
      "Форма таблицы:(3214, 5)\n"
     ]
    }
   ],
   "source": [
    "print('Форма таблицы:{}'.format(df.shape))"
   ]
  },
  {
   "cell_type": "markdown",
   "metadata": {},
   "source": [
    "В представленных данных не обнаружено пропусков и явных дубликатов.\n",
    "\n",
    "По гистограммам распределение значений близко к распределению Пирсона: с положительной ассиметрией.\n",
    "\n",
    "Типы данных в каждом столбце соответствующие.\n",
    "\n",
    "Точек данных = 3214, признаков = 5.\n",
    "\n",
    "Данные по тарифу распределены неравномерно: пользователей, пользующихся тарифом \"ultra\", более чем в 2 раза меньше чем пользователей с тарифом \"smart\"."
   ]
  },
  {
   "cell_type": "markdown",
   "metadata": {},
   "source": [
    "## Подготовка выборок"
   ]
  },
  {
   "cell_type": "markdown",
   "metadata": {},
   "source": [
    "Тк у нас нет отдельного тестового набора данных, необходимо имеющийся датасет разделить на 3 выборки:\n",
    "1. Обучающие данные \n",
    "2. Валидационные данные\n",
    "3. Тестовые данные\n",
    "\n",
    "Для каждой выборки выделим 60%, 20% и 20% соответственно."
   ]
  },
  {
   "cell_type": "code",
   "execution_count": 14,
   "metadata": {},
   "outputs": [],
   "source": [
    "# Для корректного распределения данных по тарифам используем stratify\n",
    "\n",
    "train, check = train_test_split(df, test_size=0.4, random_state=RS, stratify=df['is_ultra'])"
   ]
  },
  {
   "cell_type": "code",
   "execution_count": 15,
   "metadata": {},
   "outputs": [],
   "source": [
    "validate, test = train_test_split(check, test_size=0.5, random_state=RS)"
   ]
  },
  {
   "cell_type": "code",
   "execution_count": 16,
   "metadata": {},
   "outputs": [
    {
     "name": "stdout",
     "output_type": "stream",
     "text": [
      "(1928, 5)\n"
     ]
    }
   ],
   "source": [
    "print(train.shape)"
   ]
  },
  {
   "cell_type": "code",
   "execution_count": 17,
   "metadata": {},
   "outputs": [
    {
     "name": "stdout",
     "output_type": "stream",
     "text": [
      "(643, 5)\n"
     ]
    }
   ],
   "source": [
    "print(validate.shape)"
   ]
  },
  {
   "cell_type": "code",
   "execution_count": 18,
   "metadata": {},
   "outputs": [
    {
     "name": "stdout",
     "output_type": "stream",
     "text": [
      "(643, 5)\n"
     ]
    }
   ],
   "source": [
    "print(test.shape)"
   ]
  },
  {
   "cell_type": "code",
   "execution_count": 19,
   "metadata": {},
   "outputs": [],
   "source": [
    "features_train = train.drop(['is_ultra'], axis=1)"
   ]
  },
  {
   "cell_type": "code",
   "execution_count": 20,
   "metadata": {},
   "outputs": [
    {
     "data": {
      "text/html": [
       "<div>\n",
       "<style scoped>\n",
       "    .dataframe tbody tr th:only-of-type {\n",
       "        vertical-align: middle;\n",
       "    }\n",
       "\n",
       "    .dataframe tbody tr th {\n",
       "        vertical-align: top;\n",
       "    }\n",
       "\n",
       "    .dataframe thead th {\n",
       "        text-align: right;\n",
       "    }\n",
       "</style>\n",
       "<table border=\"1\" class=\"dataframe\">\n",
       "  <thead>\n",
       "    <tr style=\"text-align: right;\">\n",
       "      <th></th>\n",
       "      <th>calls</th>\n",
       "      <th>minutes</th>\n",
       "      <th>messages</th>\n",
       "      <th>mb_used</th>\n",
       "    </tr>\n",
       "  </thead>\n",
       "  <tbody>\n",
       "    <tr>\n",
       "      <th>2294</th>\n",
       "      <td>76.0</td>\n",
       "      <td>484.49</td>\n",
       "      <td>11.0</td>\n",
       "      <td>22454.35</td>\n",
       "    </tr>\n",
       "    <tr>\n",
       "      <th>1759</th>\n",
       "      <td>51.0</td>\n",
       "      <td>328.88</td>\n",
       "      <td>24.0</td>\n",
       "      <td>20511.93</td>\n",
       "    </tr>\n",
       "    <tr>\n",
       "      <th>529</th>\n",
       "      <td>105.0</td>\n",
       "      <td>705.05</td>\n",
       "      <td>18.0</td>\n",
       "      <td>22130.74</td>\n",
       "    </tr>\n",
       "    <tr>\n",
       "      <th>1599</th>\n",
       "      <td>19.0</td>\n",
       "      <td>135.52</td>\n",
       "      <td>48.0</td>\n",
       "      <td>13152.50</td>\n",
       "    </tr>\n",
       "    <tr>\n",
       "      <th>1868</th>\n",
       "      <td>28.0</td>\n",
       "      <td>159.55</td>\n",
       "      <td>0.0</td>\n",
       "      <td>14780.00</td>\n",
       "    </tr>\n",
       "  </tbody>\n",
       "</table>\n",
       "</div>"
      ],
      "text/plain": [
       "      calls  minutes  messages   mb_used\n",
       "2294   76.0   484.49      11.0  22454.35\n",
       "1759   51.0   328.88      24.0  20511.93\n",
       "529   105.0   705.05      18.0  22130.74\n",
       "1599   19.0   135.52      48.0  13152.50\n",
       "1868   28.0   159.55       0.0  14780.00"
      ]
     },
     "execution_count": 20,
     "metadata": {},
     "output_type": "execute_result"
    }
   ],
   "source": [
    "features_train.head()"
   ]
  },
  {
   "cell_type": "code",
   "execution_count": 21,
   "metadata": {},
   "outputs": [],
   "source": [
    "features_validate = validate.drop(['is_ultra'], axis=1)"
   ]
  },
  {
   "cell_type": "code",
   "execution_count": 22,
   "metadata": {},
   "outputs": [
    {
     "data": {
      "text/html": [
       "<div>\n",
       "<style scoped>\n",
       "    .dataframe tbody tr th:only-of-type {\n",
       "        vertical-align: middle;\n",
       "    }\n",
       "\n",
       "    .dataframe tbody tr th {\n",
       "        vertical-align: top;\n",
       "    }\n",
       "\n",
       "    .dataframe thead th {\n",
       "        text-align: right;\n",
       "    }\n",
       "</style>\n",
       "<table border=\"1\" class=\"dataframe\">\n",
       "  <thead>\n",
       "    <tr style=\"text-align: right;\">\n",
       "      <th></th>\n",
       "      <th>calls</th>\n",
       "      <th>minutes</th>\n",
       "      <th>messages</th>\n",
       "      <th>mb_used</th>\n",
       "    </tr>\n",
       "  </thead>\n",
       "  <tbody>\n",
       "    <tr>\n",
       "      <th>1725</th>\n",
       "      <td>85.0</td>\n",
       "      <td>645.72</td>\n",
       "      <td>0.0</td>\n",
       "      <td>14586.92</td>\n",
       "    </tr>\n",
       "    <tr>\n",
       "      <th>2061</th>\n",
       "      <td>66.0</td>\n",
       "      <td>478.48</td>\n",
       "      <td>0.0</td>\n",
       "      <td>16962.58</td>\n",
       "    </tr>\n",
       "    <tr>\n",
       "      <th>2440</th>\n",
       "      <td>62.0</td>\n",
       "      <td>466.60</td>\n",
       "      <td>0.0</td>\n",
       "      <td>17353.48</td>\n",
       "    </tr>\n",
       "    <tr>\n",
       "      <th>1568</th>\n",
       "      <td>40.0</td>\n",
       "      <td>261.03</td>\n",
       "      <td>72.0</td>\n",
       "      <td>14587.09</td>\n",
       "    </tr>\n",
       "    <tr>\n",
       "      <th>2500</th>\n",
       "      <td>48.0</td>\n",
       "      <td>353.63</td>\n",
       "      <td>29.0</td>\n",
       "      <td>24852.78</td>\n",
       "    </tr>\n",
       "  </tbody>\n",
       "</table>\n",
       "</div>"
      ],
      "text/plain": [
       "      calls  minutes  messages   mb_used\n",
       "1725   85.0   645.72       0.0  14586.92\n",
       "2061   66.0   478.48       0.0  16962.58\n",
       "2440   62.0   466.60       0.0  17353.48\n",
       "1568   40.0   261.03      72.0  14587.09\n",
       "2500   48.0   353.63      29.0  24852.78"
      ]
     },
     "execution_count": 22,
     "metadata": {},
     "output_type": "execute_result"
    }
   ],
   "source": [
    "features_validate.head()"
   ]
  },
  {
   "cell_type": "code",
   "execution_count": 23,
   "metadata": {},
   "outputs": [],
   "source": [
    "features_test = test.drop(['is_ultra'], axis=1)"
   ]
  },
  {
   "cell_type": "code",
   "execution_count": 24,
   "metadata": {},
   "outputs": [
    {
     "data": {
      "text/html": [
       "<div>\n",
       "<style scoped>\n",
       "    .dataframe tbody tr th:only-of-type {\n",
       "        vertical-align: middle;\n",
       "    }\n",
       "\n",
       "    .dataframe tbody tr th {\n",
       "        vertical-align: top;\n",
       "    }\n",
       "\n",
       "    .dataframe thead th {\n",
       "        text-align: right;\n",
       "    }\n",
       "</style>\n",
       "<table border=\"1\" class=\"dataframe\">\n",
       "  <thead>\n",
       "    <tr style=\"text-align: right;\">\n",
       "      <th></th>\n",
       "      <th>calls</th>\n",
       "      <th>minutes</th>\n",
       "      <th>messages</th>\n",
       "      <th>mb_used</th>\n",
       "    </tr>\n",
       "  </thead>\n",
       "  <tbody>\n",
       "    <tr>\n",
       "      <th>3067</th>\n",
       "      <td>62.0</td>\n",
       "      <td>400.64</td>\n",
       "      <td>0.0</td>\n",
       "      <td>17187.89</td>\n",
       "    </tr>\n",
       "    <tr>\n",
       "      <th>2947</th>\n",
       "      <td>50.0</td>\n",
       "      <td>292.88</td>\n",
       "      <td>37.0</td>\n",
       "      <td>16415.93</td>\n",
       "    </tr>\n",
       "    <tr>\n",
       "      <th>2966</th>\n",
       "      <td>128.0</td>\n",
       "      <td>869.07</td>\n",
       "      <td>0.0</td>\n",
       "      <td>21723.95</td>\n",
       "    </tr>\n",
       "    <tr>\n",
       "      <th>751</th>\n",
       "      <td>63.0</td>\n",
       "      <td>411.36</td>\n",
       "      <td>31.0</td>\n",
       "      <td>11886.28</td>\n",
       "    </tr>\n",
       "    <tr>\n",
       "      <th>614</th>\n",
       "      <td>69.0</td>\n",
       "      <td>563.78</td>\n",
       "      <td>41.0</td>\n",
       "      <td>21020.21</td>\n",
       "    </tr>\n",
       "  </tbody>\n",
       "</table>\n",
       "</div>"
      ],
      "text/plain": [
       "      calls  minutes  messages   mb_used\n",
       "3067   62.0   400.64       0.0  17187.89\n",
       "2947   50.0   292.88      37.0  16415.93\n",
       "2966  128.0   869.07       0.0  21723.95\n",
       "751    63.0   411.36      31.0  11886.28\n",
       "614    69.0   563.78      41.0  21020.21"
      ]
     },
     "execution_count": 24,
     "metadata": {},
     "output_type": "execute_result"
    }
   ],
   "source": [
    "features_test.head()"
   ]
  },
  {
   "cell_type": "code",
   "execution_count": 25,
   "metadata": {},
   "outputs": [],
   "source": [
    "target_train = train['is_ultra']"
   ]
  },
  {
   "cell_type": "code",
   "execution_count": 26,
   "metadata": {},
   "outputs": [
    {
     "data": {
      "text/plain": [
       "2294    0\n",
       "1759    0\n",
       "529     1\n",
       "1599    0\n",
       "1868    0\n",
       "       ..\n",
       "1967    0\n",
       "920     1\n",
       "2456    1\n",
       "756     0\n",
       "2134    1\n",
       "Name: is_ultra, Length: 1928, dtype: int64"
      ]
     },
     "execution_count": 26,
     "metadata": {},
     "output_type": "execute_result"
    }
   ],
   "source": [
    "target_train"
   ]
  },
  {
   "cell_type": "code",
   "execution_count": 27,
   "metadata": {},
   "outputs": [],
   "source": [
    "target_validate = validate['is_ultra']"
   ]
  },
  {
   "cell_type": "code",
   "execution_count": 28,
   "metadata": {},
   "outputs": [
    {
     "data": {
      "text/plain": [
       "1725    0\n",
       "2061    0\n",
       "2440    0\n",
       "1568    0\n",
       "2500    0\n",
       "       ..\n",
       "2692    0\n",
       "2184    0\n",
       "1569    0\n",
       "801     0\n",
       "3110    0\n",
       "Name: is_ultra, Length: 643, dtype: int64"
      ]
     },
     "execution_count": 28,
     "metadata": {},
     "output_type": "execute_result"
    }
   ],
   "source": [
    "target_validate"
   ]
  },
  {
   "cell_type": "code",
   "execution_count": 29,
   "metadata": {},
   "outputs": [],
   "source": [
    "target_test = test['is_ultra']"
   ]
  },
  {
   "cell_type": "code",
   "execution_count": 30,
   "metadata": {},
   "outputs": [
    {
     "data": {
      "text/plain": [
       "3067    0\n",
       "2947    0\n",
       "2966    1\n",
       "751     0\n",
       "614     0\n",
       "       ..\n",
       "1680    0\n",
       "2024    0\n",
       "2317    0\n",
       "1954    0\n",
       "2918    1\n",
       "Name: is_ultra, Length: 643, dtype: int64"
      ]
     },
     "execution_count": 30,
     "metadata": {},
     "output_type": "execute_result"
    }
   ],
   "source": [
    "target_test"
   ]
  },
  {
   "cell_type": "markdown",
   "metadata": {},
   "source": [
    "Выборки готовы. Приступим к обучению моделей."
   ]
  },
  {
   "cell_type": "markdown",
   "metadata": {},
   "source": [
    "## Исследуем модели"
   ]
  },
  {
   "cell_type": "markdown",
   "metadata": {},
   "source": [
    "В таблицах 5 признаков, выбран целевой, в котором может быть либо одно, либо второе значение. \n",
    "В качестве алгоритмов для обучения модели попробуем:\n",
    "1. Решающее дерево\n",
    "2. Случайный лес\n",
    "3. Метод K ближайших соседей\n",
    "4. Логистическая регрессия"
   ]
  },
  {
   "cell_type": "code",
   "execution_count": 31,
   "metadata": {},
   "outputs": [],
   "source": [
    "# обучение модели на обучающих выборках и проверка Accuracy на обучающей и валидационной выборках\n",
    "\n",
    "def fit_acc_model(model_name):\n",
    "    \n",
    "    model_name.fit(features_train, target_train)\n",
    "    \n",
    "    print(\"Accuracy на обучающем наборе: {:.3f}\".format(model_name.score(features_train, target_train)))\n",
    "    \n",
    "    print(\"Accuracy на валидационном наборе: {:.3f}\".format(model_name.score(features_validate, target_validate)))\n",
    "    \n",
    "    return"
   ]
  },
  {
   "cell_type": "markdown",
   "metadata": {},
   "source": [
    "#### Решающее дерево"
   ]
  },
  {
   "cell_type": "code",
   "execution_count": 32,
   "metadata": {},
   "outputs": [
    {
     "name": "stdout",
     "output_type": "stream",
     "text": [
      "Accuracy на обучающем наборе: 1.000\n",
      "Accuracy на валидационном наборе: 0.717\n"
     ]
    }
   ],
   "source": [
    "# Фиксируем псевдослучайность с помощью параметра random_state\n",
    "\n",
    "model_tree = DecisionTreeClassifier(random_state=RS)\n",
    "\n",
    "fit_acc_model(model_tree)"
   ]
  },
  {
   "cell_type": "markdown",
   "metadata": {},
   "source": [
    "Валидация показывает, как поведёт себя модель с незнакомыми данными. Правильность предсказаний резко упала - модель переобучена. Обратимся к гиперпарамерам.\n",
    "\n",
    "Главный в решающем дереве - это max_depth. Если не ограничить глубину, дерево может быть сколь угодно глубоким и сложным. Поэтому необрезанные деревья склонны к переобучению и плохо обобщают результат на новые данные. \n",
    "\n",
    "Переберём значения для определения лучшей глубины."
   ]
  },
  {
   "cell_type": "code",
   "execution_count": 33,
   "metadata": {},
   "outputs": [
    {
     "name": "stdout",
     "output_type": "stream",
     "text": [
      "max_depth = 1 : 0.7309486780715396\n",
      "max_depth = 2 : 0.7698289269051322\n",
      "max_depth = 3 : 0.8009331259720062\n",
      "max_depth = 4 : 0.7651632970451011\n",
      "max_depth = 5 : 0.8055987558320373\n"
     ]
    }
   ],
   "source": [
    "for depth in range(1, 6):\n",
    "    \n",
    "    model_tree_2 = DecisionTreeClassifier(max_depth=depth,  random_state=RS)\n",
    "    \n",
    "    model_tree_2.fit(features_train, target_train) \n",
    "    \n",
    "    predictions_validate =  model_tree_2.predict(features_validate) \n",
    "    \n",
    "    print(\"max_depth =\", depth, \": \", end='')\n",
    "    print(accuracy_score(target_validate, predictions_validate))"
   ]
  },
  {
   "cell_type": "markdown",
   "metadata": {},
   "source": [
    "Лучшее значение для гиперпараметра max_depth = 5. Зафиксируем это в нашей модели."
   ]
  },
  {
   "cell_type": "code",
   "execution_count": 34,
   "metadata": {},
   "outputs": [
    {
     "name": "stdout",
     "output_type": "stream",
     "text": [
      "Accuracy на обучающем наборе: 0.814\n",
      "Accuracy на валидационном наборе: 0.806\n"
     ]
    }
   ],
   "source": [
    "model_tree = DecisionTreeClassifier(max_depth=5, random_state=RS)\n",
    "\n",
    "fit_acc_model(model_tree)"
   ]
  },
  {
   "cell_type": "markdown",
   "metadata": {},
   "source": [
    "Проверим эту же модель с другими значениями гиперпараметра criterion: по умолчанию, у model_tree он равен \"gini\"."
   ]
  },
  {
   "cell_type": "code",
   "execution_count": 35,
   "metadata": {},
   "outputs": [
    {
     "name": "stdout",
     "output_type": "stream",
     "text": [
      "Accuracy на обучающем наборе: 0.812\n",
      "Accuracy на валидационном наборе: 0.804\n"
     ]
    }
   ],
   "source": [
    "# criterion='entropy'\n",
    "\n",
    "model_tree_entropy = DecisionTreeClassifier(max_depth=5, random_state=RS, criterion='entropy')\n",
    "\n",
    "fit_acc_model(model_tree_entropy)"
   ]
  },
  {
   "cell_type": "markdown",
   "metadata": {},
   "source": [
    "Хоть правильность моделей по сравнению с model_tree на обучающем наборе снизилась, она стала близкой к правильности на валидационном наборе. Выигрывает модель с гиперпараметром criterion=\"gini\", у неё показатели лучше на 0.002.\n",
    "\n",
    "Визуализируем данную модель."
   ]
  },
  {
   "cell_type": "code",
   "execution_count": 36,
   "metadata": {},
   "outputs": [
    {
     "data": {
      "image/png": "[encoded data removed]",
      "text/plain": [
       "<Figure size 2500x2000 with 1 Axes>"
      ]
     },
     "metadata": {},
     "output_type": "display_data"
    }
   ],
   "source": [
    "fig = plt.figure(figsize=(25,20)) \n",
    "\n",
    "tree.plot_tree(model_tree, feature_names=features_train.columns,  \n",
    "                   class_names=[\"0\", \"1\"],\n",
    "                   filled=True,\n",
    "                   fontsize=5)\n",
    "\n",
    "plt.show() "
   ]
  },
  {
   "cell_type": "markdown",
   "metadata": {},
   "source": [
    "Таким образом, у нас получилось обучить модель, которая примерно на одинаковом уровне (0.8) показывает правильность работы."
   ]
  },
  {
   "cell_type": "markdown",
   "metadata": {},
   "source": [
    "#### Случайный лес"
   ]
  },
  {
   "cell_type": "markdown",
   "metadata": {},
   "source": [
    "В данном алгоритме 2 гиперпараметра, которые нужно вычислить, чтобы построить удачную модель: помимо глубины леревьев, нужно понять, какое количество \"деревьев сажать в лесу\".\n",
    "Реализуем это с помощью цикла."
   ]
  },
  {
   "cell_type": "code",
   "execution_count": 37,
   "metadata": {},
   "outputs": [],
   "source": [
    "# соберем значения accuracy и гиперпараметров в списки, из которых потом создадим датафрейм\n",
    "\n",
    "accuracy_forest = []\n",
    "max_depth_forest = []\n",
    "n_estimators = []"
   ]
  },
  {
   "cell_type": "code",
   "execution_count": 38,
   "metadata": {},
   "outputs": [],
   "source": [
    "for depth in range(2, 16):\n",
    "    for trees in range(2, 250, 15):\n",
    "        \n",
    "        model_forest = RandomForestClassifier(random_state=RS, max_depth=depth, n_estimators=trees)\n",
    "        \n",
    "        model_forest.fit(features_train, target_train)\n",
    "        \n",
    "        predictions_validate =  model_forest.predict(features_validate) \n",
    "        \n",
    "        accuracy_r_forest = round(accuracy_score(target_validate, predictions_validate), 4)\n",
    "        \n",
    "        accuracy_forest.append(accuracy_r_forest)\n",
    "        max_depth_forest.append(depth)\n",
    "        n_estimators.append(trees)"
   ]
  },
  {
   "cell_type": "code",
   "execution_count": 39,
   "metadata": {},
   "outputs": [
    {
     "data": {
      "text/html": [
       "<div>\n",
       "<style scoped>\n",
       "    .dataframe tbody tr th:only-of-type {\n",
       "        vertical-align: middle;\n",
       "    }\n",
       "\n",
       "    .dataframe tbody tr th {\n",
       "        vertical-align: top;\n",
       "    }\n",
       "\n",
       "    .dataframe thead th {\n",
       "        text-align: right;\n",
       "    }\n",
       "</style>\n",
       "<table border=\"1\" class=\"dataframe\">\n",
       "  <thead>\n",
       "    <tr style=\"text-align: right;\">\n",
       "      <th></th>\n",
       "      <th>max_depth</th>\n",
       "      <th>n_estimators</th>\n",
       "      <th>accuracy</th>\n",
       "    </tr>\n",
       "  </thead>\n",
       "  <tbody>\n",
       "    <tr>\n",
       "      <th>0</th>\n",
       "      <td>2</td>\n",
       "      <td>2</td>\n",
       "      <td>0.7667</td>\n",
       "    </tr>\n",
       "    <tr>\n",
       "      <th>1</th>\n",
       "      <td>2</td>\n",
       "      <td>17</td>\n",
       "      <td>0.7916</td>\n",
       "    </tr>\n",
       "    <tr>\n",
       "      <th>2</th>\n",
       "      <td>2</td>\n",
       "      <td>32</td>\n",
       "      <td>0.8040</td>\n",
       "    </tr>\n",
       "    <tr>\n",
       "      <th>3</th>\n",
       "      <td>2</td>\n",
       "      <td>47</td>\n",
       "      <td>0.8056</td>\n",
       "    </tr>\n",
       "    <tr>\n",
       "      <th>4</th>\n",
       "      <td>2</td>\n",
       "      <td>62</td>\n",
       "      <td>0.8072</td>\n",
       "    </tr>\n",
       "    <tr>\n",
       "      <th>...</th>\n",
       "      <td>...</td>\n",
       "      <td>...</td>\n",
       "      <td>...</td>\n",
       "    </tr>\n",
       "    <tr>\n",
       "      <th>233</th>\n",
       "      <td>15</td>\n",
       "      <td>182</td>\n",
       "      <td>0.8180</td>\n",
       "    </tr>\n",
       "    <tr>\n",
       "      <th>234</th>\n",
       "      <td>15</td>\n",
       "      <td>197</td>\n",
       "      <td>0.8212</td>\n",
       "    </tr>\n",
       "    <tr>\n",
       "      <th>235</th>\n",
       "      <td>15</td>\n",
       "      <td>212</td>\n",
       "      <td>0.8212</td>\n",
       "    </tr>\n",
       "    <tr>\n",
       "      <th>236</th>\n",
       "      <td>15</td>\n",
       "      <td>227</td>\n",
       "      <td>0.8212</td>\n",
       "    </tr>\n",
       "    <tr>\n",
       "      <th>237</th>\n",
       "      <td>15</td>\n",
       "      <td>242</td>\n",
       "      <td>0.8165</td>\n",
       "    </tr>\n",
       "  </tbody>\n",
       "</table>\n",
       "<p>238 rows × 3 columns</p>\n",
       "</div>"
      ],
      "text/plain": [
       "     max_depth  n_estimators  accuracy\n",
       "0            2             2    0.7667\n",
       "1            2            17    0.7916\n",
       "2            2            32    0.8040\n",
       "3            2            47    0.8056\n",
       "4            2            62    0.8072\n",
       "..         ...           ...       ...\n",
       "233         15           182    0.8180\n",
       "234         15           197    0.8212\n",
       "235         15           212    0.8212\n",
       "236         15           227    0.8212\n",
       "237         15           242    0.8165\n",
       "\n",
       "[238 rows x 3 columns]"
      ]
     },
     "metadata": {},
     "output_type": "display_data"
    }
   ],
   "source": [
    "# собираем все списки в один\n",
    "\n",
    "forest_info = [max_depth_forest, n_estimators, accuracy_forest]\n",
    "\n",
    "# создаем датафрейм\n",
    "\n",
    "forest_info = pd.DataFrame({'max_depth':max_depth_forest, 'n_estimators':n_estimators, 'accuracy':accuracy_forest})\n",
    "\n",
    "display(forest_info)"
   ]
  },
  {
   "cell_type": "code",
   "execution_count": 40,
   "metadata": {},
   "outputs": [
    {
     "data": {
      "text/html": [
       "<div>\n",
       "<style scoped>\n",
       "    .dataframe tbody tr th:only-of-type {\n",
       "        vertical-align: middle;\n",
       "    }\n",
       "\n",
       "    .dataframe tbody tr th {\n",
       "        vertical-align: top;\n",
       "    }\n",
       "\n",
       "    .dataframe thead th {\n",
       "        text-align: right;\n",
       "    }\n",
       "</style>\n",
       "<table border=\"1\" class=\"dataframe\">\n",
       "  <thead>\n",
       "    <tr style=\"text-align: right;\">\n",
       "      <th></th>\n",
       "      <th>max_depth</th>\n",
       "      <th>n_estimators</th>\n",
       "      <th>accuracy</th>\n",
       "    </tr>\n",
       "  </thead>\n",
       "  <tbody>\n",
       "    <tr>\n",
       "      <th>129</th>\n",
       "      <td>9</td>\n",
       "      <td>152</td>\n",
       "      <td>0.8305</td>\n",
       "    </tr>\n",
       "  </tbody>\n",
       "</table>\n",
       "</div>"
      ],
      "text/plain": [
       "     max_depth  n_estimators  accuracy\n",
       "129          9           152    0.8305"
      ]
     },
     "metadata": {},
     "output_type": "display_data"
    }
   ],
   "source": [
    "display(forest_info[forest_info['accuracy'] == forest_info['accuracy'].max()])"
   ]
  },
  {
   "cell_type": "markdown",
   "metadata": {},
   "source": [
    "Получили лучшие показатели для параметров: глубина - 9,  деревьев - 152"
   ]
  },
  {
   "cell_type": "code",
   "execution_count": 41,
   "metadata": {},
   "outputs": [
    {
     "name": "stdout",
     "output_type": "stream",
     "text": [
      "Accuracy на обучающем наборе: 0.883\n",
      "Accuracy на валидационном наборе: 0.830\n"
     ]
    }
   ],
   "source": [
    "random_forest_model = RandomForestClassifier(random_state=RS, max_depth=9, n_estimators=152) \n",
    "\n",
    "fit_acc_model(random_forest_model)"
   ]
  },
  {
   "cell_type": "markdown",
   "metadata": {},
   "source": [
    "Проверим эту же модель с другими значениями гиперпараметра criterion: по умолчанию, у model_tree он равен \"gini\"."
   ]
  },
  {
   "cell_type": "code",
   "execution_count": 42,
   "metadata": {},
   "outputs": [
    {
     "name": "stdout",
     "output_type": "stream",
     "text": [
      "Accuracy на обучающем наборе: 0.882\n",
      "Accuracy на валидационном наборе: 0.821\n"
     ]
    }
   ],
   "source": [
    "# criterion='entropy'\n",
    "\n",
    "random_forest_model_entropy = RandomForestClassifier(random_state=RS, max_depth=9, n_estimators=152, criterion='entropy')\n",
    "\n",
    "fit_acc_model(random_forest_model_entropy)"
   ]
  },
  {
   "cell_type": "markdown",
   "metadata": {},
   "source": [
    "С criterion='entropy' accuracy чуть ниже.\n",
    "\n",
    "Мы достигли близких друг к другу Accuracy на обучающей и валидационной выборках у модели случайного леса со значением параметра  criterion=\"gini\"."
   ]
  },
  {
   "cell_type": "markdown",
   "metadata": {},
   "source": [
    "#### k ближайших соседей"
   ]
  },
  {
   "cell_type": "markdown",
   "metadata": {},
   "source": [
    "Самым важным параметром KNeighborsClassifier является количество соседей. Используем цикл, аналогичный предыдущим, чтобы выбрать лучшее значение для параметра n_neighbors."
   ]
  },
  {
   "cell_type": "code",
   "execution_count": 43,
   "metadata": {},
   "outputs": [
    {
     "name": "stdout",
     "output_type": "stream",
     "text": [
      "max_neighbor = 1 : 0.7153965785381027\n",
      "max_neighbor = 2 : 0.7573872472783826\n",
      "max_neighbor = 3 : 0.7589424572317263\n",
      "max_neighbor = 4 : 0.76049766718507\n",
      "max_neighbor = 5 : 0.7651632970451011\n",
      "max_neighbor = 6 : 0.7636080870917574\n",
      "max_neighbor = 7 : 0.7651632970451011\n",
      "max_neighbor = 8 : 0.7698289269051322\n",
      "max_neighbor = 9 : 0.7729393468118196\n",
      "max_neighbor = 10 : 0.7651632970451011\n"
     ]
    }
   ],
   "source": [
    "for neighbor in range(1, 11):\n",
    "    \n",
    "    k_model = KNeighborsClassifier(n_neighbors=neighbor)\n",
    "    \n",
    "    k_model.fit(features_train, target_train) \n",
    "    \n",
    "    predictions_validate =  k_model.predict(features_validate) \n",
    "    \n",
    "    print(\"max_neighbor =\", neighbor, \": \", end='')\n",
    "    print(accuracy_score(target_validate, predictions_validate))"
   ]
  },
  {
   "cell_type": "markdown",
   "metadata": {},
   "source": [
    "Модель с 9 соседями показывает более высокое значение accuracу"
   ]
  },
  {
   "cell_type": "code",
   "execution_count": 44,
   "metadata": {},
   "outputs": [
    {
     "name": "stdout",
     "output_type": "stream",
     "text": [
      "Accuracy на обучающем наборе: 0.782\n",
      "Accuracy на валидационном наборе: 0.773\n"
     ]
    }
   ],
   "source": [
    "k_model = KNeighborsClassifier(n_neighbors=9)\n",
    "\n",
    "fit_acc_model(k_model)"
   ]
  },
  {
   "cell_type": "markdown",
   "metadata": {},
   "source": [
    "Проверим эту же модель с другим значением параметра weights. Выше, по умолчанию, он имел значение \"uniform\"."
   ]
  },
  {
   "cell_type": "code",
   "execution_count": 45,
   "metadata": {},
   "outputs": [
    {
     "name": "stdout",
     "output_type": "stream",
     "text": [
      "max_neighbor = 1 : 0.7153965785381027\n",
      "max_neighbor = 2 : 0.7153965785381027\n",
      "max_neighbor = 3 : 0.7480559875583204\n",
      "max_neighbor = 4 : 0.7387247278382582\n",
      "max_neighbor = 5 : 0.7620528771384136\n",
      "max_neighbor = 6 : 0.7682737169517885\n",
      "max_neighbor = 7 : 0.7636080870917574\n",
      "max_neighbor = 8 : 0.7713841368584758\n",
      "max_neighbor = 9 : 0.7682737169517885\n",
      "max_neighbor = 10 : 0.7651632970451011\n"
     ]
    }
   ],
   "source": [
    "for neighbor in range(1, 11):\n",
    "    \n",
    "    k_model = KNeighborsClassifier(n_neighbors=neighbor, weights=\"distance\")\n",
    "    \n",
    "    k_model.fit(features_train, target_train) \n",
    "    \n",
    "    predictions_validate =  k_model.predict(features_validate) \n",
    "    \n",
    "    print(\"max_neighbor =\", neighbor, \": \", end='')\n",
    "    print(accuracy_score(target_validate, predictions_validate))"
   ]
  },
  {
   "cell_type": "code",
   "execution_count": 46,
   "metadata": {},
   "outputs": [
    {
     "name": "stdout",
     "output_type": "stream",
     "text": [
      "Accuracy на обучающем наборе: 1.000\n",
      "Accuracy на валидационном наборе: 0.771\n"
     ]
    }
   ],
   "source": [
    "k_model_dist = KNeighborsClassifier(n_neighbors=8, weights=\"distance\")\n",
    "\n",
    "fit_acc_model(k_model_dist)"
   ]
  },
  {
   "cell_type": "markdown",
   "metadata": {},
   "source": [
    "И в итоге с параметром weights=\"distance\" получили переобученную модель."
   ]
  },
  {
   "cell_type": "markdown",
   "metadata": {},
   "source": [
    "И на обучающем, и на валидационном наборе примерно одинаковое значение accuracy. Но модель показывает не очень высокую точность классификации."
   ]
  },
  {
   "cell_type": "markdown",
   "metadata": {},
   "source": [
    "#### Логистическая регрессия"
   ]
  },
  {
   "cell_type": "code",
   "execution_count": 47,
   "metadata": {},
   "outputs": [
    {
     "name": "stdout",
     "output_type": "stream",
     "text": [
      "Accuracy на обучающем наборе: 0.751\n",
      "Accuracy на валидационном наборе: 0.737\n"
     ]
    }
   ],
   "source": [
    "model_log_reg = LogisticRegression(random_state=RS, max_iter=1000)\n",
    "\n",
    "fit_acc_model(model_log_reg)"
   ]
  },
  {
   "cell_type": "markdown",
   "metadata": {},
   "source": [
    "Переберём параметр \"solver\" и соответствующие значения параметра \"penalty\""
   ]
  },
  {
   "cell_type": "code",
   "execution_count": 48,
   "metadata": {},
   "outputs": [],
   "source": [
    "penalty_lbfgs = [\"l2\", \"none\"]"
   ]
  },
  {
   "cell_type": "code",
   "execution_count": 49,
   "metadata": {},
   "outputs": [
    {
     "name": "stdout",
     "output_type": "stream",
     "text": [
      "pen = l2 : 0.7371695178849145\n",
      "pen = none : 0.7371695178849145\n"
     ]
    }
   ],
   "source": [
    "for p in penalty_lbfgs:\n",
    "    \n",
    "    model_lr_1 = LogisticRegression(random_state=RS, solver='lbfgs', max_iter=1000, penalty=p)\n",
    "    \n",
    "    model_lr_1.fit(features_train, target_train) \n",
    "    \n",
    "    predictions_validate =  model_lr_1.predict(features_validate) \n",
    "    \n",
    "    print(\"pen =\", p, \": \", end='')\n",
    "    print(accuracy_score(target_validate, predictions_validate))"
   ]
  },
  {
   "cell_type": "code",
   "execution_count": 50,
   "metadata": {},
   "outputs": [],
   "source": [
    "penalty_liblinear = [\"l1\", \"l2\"]"
   ]
  },
  {
   "cell_type": "code",
   "execution_count": 51,
   "metadata": {},
   "outputs": [
    {
     "name": "stdout",
     "output_type": "stream",
     "text": [
      "pen = l1 : 0.7371695178849145\n",
      "pen = l2 : 0.7216174183514774\n"
     ]
    }
   ],
   "source": [
    "for p in penalty_liblinear:\n",
    "    \n",
    "    model_lr_2 = LogisticRegression(random_state=RS, solver='liblinear', max_iter=1000, penalty=p)\n",
    "    \n",
    "    model_lr_2.fit(features_train, target_train) \n",
    "    \n",
    "    predictions_validate =  model_lr_2.predict(features_validate) \n",
    "    \n",
    "    print(\"pen =\", p, \": \", end='')\n",
    "    print(accuracy_score(target_validate, predictions_validate))"
   ]
  },
  {
   "cell_type": "code",
   "execution_count": 52,
   "metadata": {},
   "outputs": [
    {
     "name": "stdout",
     "output_type": "stream",
     "text": [
      "Accuracy на обучающем наборе: 0.751\n",
      "Accuracy на валидационном наборе: 0.737\n"
     ]
    }
   ],
   "source": [
    "model_log_reg_1 =  LogisticRegression(random_state=RS, solver='lbfgs', max_iter=1000, penalty='l2')\n",
    "\n",
    "fit_acc_model(model_log_reg_1)"
   ]
  },
  {
   "cell_type": "code",
   "execution_count": 53,
   "metadata": {},
   "outputs": [
    {
     "name": "stdout",
     "output_type": "stream",
     "text": [
      "Accuracy на обучающем наборе: 0.750\n",
      "Accuracy на валидационном наборе: 0.737\n"
     ]
    }
   ],
   "source": [
    "model_log_reg__2 = LogisticRegression(random_state=RS, solver='liblinear', max_iter=1000, penalty='l1')\n",
    "\n",
    "fit_acc_model(model_log_reg__2)"
   ]
  },
  {
   "cell_type": "markdown",
   "metadata": {},
   "source": [
    "Модель model_log_reg_1 с параметрами solver='lbfgs' и penalty='l2' дала немного более высокую точность. Определим, какую степень регуляризации лучше применить."
   ]
  },
  {
   "cell_type": "code",
   "execution_count": 54,
   "metadata": {},
   "outputs": [
    {
     "name": "stdout",
     "output_type": "stream",
     "text": [
      "max_c = 1 : 0.7371695178849145\n",
      "max_c = 51 : 0.7371695178849145\n",
      "max_c = 101 : 0.7371695178849145\n",
      "max_c = 151 : 0.7371695178849145\n",
      "max_c = 201 : 0.7371695178849145\n",
      "max_c = 251 : 0.7371695178849145\n",
      "max_c = 301 : 0.7371695178849145\n",
      "max_c = 351 : 0.7371695178849145\n",
      "max_c = 401 : 0.7371695178849145\n",
      "max_c = 451 : 0.7371695178849145\n",
      "max_c = 501 : 0.7371695178849145\n",
      "max_c = 551 : 0.7371695178849145\n",
      "max_c = 601 : 0.7371695178849145\n",
      "max_c = 651 : 0.7371695178849145\n",
      "max_c = 701 : 0.7371695178849145\n",
      "max_c = 751 : 0.7371695178849145\n",
      "max_c = 801 : 0.7371695178849145\n",
      "max_c = 851 : 0.7371695178849145\n",
      "max_c = 901 : 0.7371695178849145\n",
      "max_c = 951 : 0.7371695178849145\n"
     ]
    }
   ],
   "source": [
    "for cc in range(1, 1001, 50):\n",
    "    \n",
    "    predictions_validate =  model_log_reg_1.predict(features_validate) \n",
    "    \n",
    "    print(\"max_c =\", cc, \": \", end='')\n",
    "    print(accuracy_score(target_validate, predictions_validate))"
   ]
  },
  {
   "cell_type": "markdown",
   "metadata": {},
   "source": [
    "Таким образом, размер гиперпараметра силы регуляризации не помог повысить значение Accuracy. Рассмотрим также веса признаков:"
   ]
  },
  {
   "cell_type": "code",
   "execution_count": 55,
   "metadata": {},
   "outputs": [
    {
     "data": {
      "text/plain": [
       "array([[ 1.31326719e-02, -5.03257444e-04,  1.07303262e-02,\n",
       "         4.00855973e-05]])"
      ]
     },
     "execution_count": 55,
     "metadata": {},
     "output_type": "execute_result"
    }
   ],
   "source": [
    "model_log_reg_1.coef_"
   ]
  },
  {
   "cell_type": "markdown",
   "metadata": {},
   "source": [
    "Каждый из признаков имеет значение, проводить эксперименты и удалять признаки не требуется."
   ]
  },
  {
   "cell_type": "markdown",
   "metadata": {},
   "source": [
    "На всех изученных моделях логистической регрессии правильность довольно низкая. Accuracy даже ниже, чем у модели k ближайших соседей."
   ]
  },
  {
   "cell_type": "markdown",
   "metadata": {},
   "source": [
    "**Исследуя 4 модели, мы:**\n",
    "- Работали с 3-мя параметрами для модели решающего дерева: max_depth, criterion и random_state. Обучили модель, которая примерно на одинаковом уровне (0.8) показывает правильность работы.\n",
    "- Обозначили 4 параметра для модели случайного леса: random_state, max_depth, n_estimators и criterion. Данная модель показала самую высокую точность классификации (примерно 8.4)\n",
    "- Определили n_neighbors и weights для модели К ближайших соседей, но получили правильность на уровне примерно 7.8\n",
    "- Обозначили 4 параметра для модели логистической регрессии random_state, solver, max_iter, penalty; Так же проверили веса признаков, но получили самые низкие показатели accuracy.\n",
    "\n",
    "Таким образом, лучшие результаты показала модель случайного леса."
   ]
  },
  {
   "cell_type": "markdown",
   "metadata": {},
   "source": [
    "## Проверим модель на тестовой выборке"
   ]
  },
  {
   "cell_type": "code",
   "execution_count": 56,
   "metadata": {},
   "outputs": [
    {
     "name": "stdout",
     "output_type": "stream",
     "text": [
      "Правильность на тестовом наборе: 0.807\n"
     ]
    }
   ],
   "source": [
    "print(\"Правильность на тестовом наборе: {:.3f}\".format(random_forest_model.score(features_test, target_test)))"
   ]
  },
  {
   "cell_type": "markdown",
   "metadata": {},
   "source": [
    "Мы достигли поставленной цели: Accuracy > 0.75"
   ]
  },
  {
   "cell_type": "markdown",
   "metadata": {},
   "source": [
    "## Проверим модели на адекватность"
   ]
  },
  {
   "cell_type": "markdown",
   "metadata": {},
   "source": [
    "с помощью **baseline** модели."
   ]
  },
  {
   "cell_type": "code",
   "execution_count": 57,
   "metadata": {},
   "outputs": [
    {
     "name": "stdout",
     "output_type": "stream",
     "text": [
      "Accuracy на обучающем наборе: 0.693\n",
      "Accuracy на валидационном наборе: 0.692\n"
     ]
    }
   ],
   "source": [
    "dummy_clf = DummyClassifier(strategy=\"most_frequent\", random_state=RS)\n",
    "\n",
    "fit_acc_model(dummy_clf)"
   ]
  },
  {
   "cell_type": "code",
   "execution_count": 58,
   "metadata": {},
   "outputs": [
    {
     "name": "stdout",
     "output_type": "stream",
     "text": [
      "Правильность на тестовом наборе: 0.695\n"
     ]
    }
   ],
   "source": [
    "print(\"Правильность на тестовом наборе: {:.3f}\".format(dummy_clf.score(features_test, target_test)))"
   ]
  },
  {
   "cell_type": "markdown",
   "metadata": {},
   "source": [
    "Accuracy на dummy_clf модели гораздо ниже. Наша более сложная модель действительно дает нам прирост качества."
   ]
  },
  {
   "cell_type": "markdown",
   "metadata": {},
   "source": [
    "## Общий вывод."
   ]
  },
  {
   "cell_type": "markdown",
   "metadata": {},
   "source": [
    "Для работы был представлен датафрейм следующй формы: точек данных = 3214, признаков = 5. При этом пользователей с тарифом \"ultra\" представлено в 2 раза меньше.\n",
    "\n",
    "Мы разделили данные на 3 выборки:\n",
    "1. Обучающие данные (60%);\n",
    "2. Валидационные данные (20%);\n",
    "3. Тестовые данные (20%)\n",
    "Из 5 признаков мы выбрали целевой - столбец 'is_ultra'.\n",
    "\n",
    "Мы исследовали 4 модели с разными алгоритмами:\n",
    "1. Модель решающего дерева;\n",
    "2. Модель случайного леса;\n",
    "3. Модель К случайных соседей;\n",
    "4. Модель логистической регрессии.\n",
    "\n",
    "Лучшую метрику качества Accuracy показала модель случайного леса, худшую - модель логистической регрессии. \n",
    "Для модели случайного леса мы указали 4 параметра: random_state, max_depth, n_estimators и criterion.\n",
    "\n",
    "На тестовом наборе случайный лес показал Accuracy > 0.75.\n",
    "Мы также проверили модель на адекватность: сравнили Accuracy нашей сложной модели с Accuracy baseline моделью. Наша модель удачно прошла проверку."
   ]
  }
 ],
 "metadata": {
  "ExecuteTimeLog": [
   {
    "duration": 1083,
    "start_time": "2022-11-02T14:50:58.879Z"
   },
   {
    "duration": 93,
    "start_time": "2022-11-02T14:50:59.964Z"
   },
   {
    "duration": 17,
    "start_time": "2022-11-02T14:51:00.059Z"
   },
   {
    "duration": 11,
    "start_time": "2022-11-02T14:51:00.078Z"
   },
   {
    "duration": 21,
    "start_time": "2022-11-02T14:51:00.091Z"
   },
   {
    "duration": 1011,
    "start_time": "2022-11-02T14:51:00.114Z"
   },
   {
    "duration": 6,
    "start_time": "2022-11-02T14:51:01.127Z"
   },
   {
    "duration": 8,
    "start_time": "2022-11-02T14:51:01.135Z"
   },
   {
    "duration": 6,
    "start_time": "2022-11-02T14:51:01.145Z"
   },
   {
    "duration": 12,
    "start_time": "2022-11-02T14:51:01.154Z"
   },
   {
    "duration": 4,
    "start_time": "2022-11-02T14:51:01.178Z"
   },
   {
    "duration": 8,
    "start_time": "2022-11-02T14:51:01.183Z"
   },
   {
    "duration": 10,
    "start_time": "2022-11-02T14:51:01.192Z"
   },
   {
    "duration": 17,
    "start_time": "2022-11-02T14:51:01.203Z"
   },
   {
    "duration": 88,
    "start_time": "2022-11-02T14:51:01.222Z"
   },
   {
    "duration": 21,
    "start_time": "2022-11-02T14:51:01.312Z"
   },
   {
    "duration": 9,
    "start_time": "2022-11-02T14:51:01.335Z"
   },
   {
    "duration": 18,
    "start_time": "2022-11-02T14:51:01.345Z"
   },
   {
    "duration": 7,
    "start_time": "2022-11-02T14:51:01.365Z"
   },
   {
    "duration": 16,
    "start_time": "2022-11-02T14:51:01.373Z"
   },
   {
    "duration": 8,
    "start_time": "2022-11-02T14:51:01.391Z"
   },
   {
    "duration": 12,
    "start_time": "2022-11-02T14:51:01.401Z"
   },
   {
    "duration": 7,
    "start_time": "2022-11-02T14:51:01.415Z"
   },
   {
    "duration": 9,
    "start_time": "2022-11-02T14:51:01.424Z"
   },
   {
    "duration": 4,
    "start_time": "2022-11-02T14:51:01.435Z"
   },
   {
    "duration": 15,
    "start_time": "2022-11-02T14:51:01.440Z"
   },
   {
    "duration": 11,
    "start_time": "2022-11-02T14:51:01.456Z"
   },
   {
    "duration": 17,
    "start_time": "2022-11-02T14:51:01.470Z"
   },
   {
    "duration": 4,
    "start_time": "2022-11-02T14:51:01.489Z"
   },
   {
    "duration": 23,
    "start_time": "2022-11-02T14:51:01.495Z"
   },
   {
    "duration": 31,
    "start_time": "2022-11-02T14:51:01.519Z"
   },
   {
    "duration": 2,
    "start_time": "2022-11-02T14:51:01.551Z"
   },
   {
    "duration": 8,
    "start_time": "2022-11-02T14:51:01.555Z"
   },
   {
    "duration": 14,
    "start_time": "2022-11-02T14:51:01.565Z"
   },
   {
    "duration": 24,
    "start_time": "2022-11-02T14:51:01.580Z"
   },
   {
    "duration": 20,
    "start_time": "2022-11-02T14:51:01.605Z"
   },
   {
    "duration": 26,
    "start_time": "2022-11-02T14:51:01.627Z"
   },
   {
    "duration": 23,
    "start_time": "2022-11-02T14:51:01.655Z"
   },
   {
    "duration": 136,
    "start_time": "2022-11-02T14:51:01.680Z"
   },
   {
    "duration": 28,
    "start_time": "2022-11-02T14:51:01.817Z"
   },
   {
    "duration": 52,
    "start_time": "2022-11-02T14:51:01.847Z"
   },
   {
    "duration": 3,
    "start_time": "2022-11-02T14:51:01.901Z"
   },
   {
    "duration": 47877,
    "start_time": "2022-11-02T14:51:01.905Z"
   },
   {
    "duration": 3,
    "start_time": "2022-11-02T14:51:49.783Z"
   },
   {
    "duration": 22,
    "start_time": "2022-11-02T14:51:49.787Z"
   },
   {
    "duration": 21,
    "start_time": "2022-11-02T14:51:49.811Z"
   },
   {
    "duration": 19,
    "start_time": "2022-11-02T14:51:49.834Z"
   },
   {
    "duration": 9,
    "start_time": "2022-11-02T14:51:49.855Z"
   },
   {
    "duration": 127,
    "start_time": "2022-11-02T14:51:49.865Z"
   },
   {
    "duration": 16,
    "start_time": "2022-11-02T14:51:49.993Z"
   },
   {
    "duration": 12,
    "start_time": "2022-11-02T14:51:50.011Z"
   },
   {
    "duration": 36,
    "start_time": "2022-11-02T14:51:50.024Z"
   },
   {
    "duration": 10,
    "start_time": "2022-11-02T14:51:50.061Z"
   },
   {
    "duration": 205,
    "start_time": "2022-11-02T14:51:50.073Z"
   },
   {
    "duration": 3,
    "start_time": "2022-11-02T14:51:50.279Z"
   },
   {
    "duration": 8,
    "start_time": "2022-11-02T14:51:50.283Z"
   },
   {
    "duration": 10,
    "start_time": "2022-11-02T14:51:50.292Z"
   },
   {
    "duration": 50,
    "start_time": "2022-11-02T14:51:50.304Z"
   },
   {
    "duration": 3,
    "start_time": "2022-11-02T14:51:50.378Z"
   },
   {
    "duration": 21,
    "start_time": "2022-11-02T14:51:50.382Z"
   },
   {
    "duration": 2,
    "start_time": "2022-11-02T14:51:50.405Z"
   },
   {
    "duration": 14,
    "start_time": "2022-11-02T14:51:50.409Z"
   },
   {
    "duration": 55,
    "start_time": "2022-11-02T14:51:50.425Z"
   },
   {
    "duration": 6,
    "start_time": "2022-11-02T14:51:50.482Z"
   },
   {
    "duration": 18,
    "start_time": "2022-11-02T14:51:50.490Z"
   },
   {
    "duration": 17,
    "start_time": "2022-11-02T14:51:50.510Z"
   },
   {
    "duration": 3,
    "start_time": "2022-11-02T14:51:50.529Z"
   },
   {
    "duration": 23,
    "start_time": "2022-11-02T14:51:50.534Z"
   },
   {
    "duration": 3,
    "start_time": "2022-11-02T14:51:50.559Z"
   },
   {
    "duration": 4,
    "start_time": "2022-11-02T14:51:50.564Z"
   },
   {
    "duration": 662,
    "start_time": "2022-11-02T14:51:50.570Z"
   },
   {
    "duration": 4,
    "start_time": "2022-11-02T14:51:51.234Z"
   },
   {
    "duration": 4,
    "start_time": "2022-11-02T14:51:51.240Z"
   },
   {
    "duration": 376,
    "start_time": "2022-11-02T14:51:51.246Z"
   },
   {
    "duration": 103,
    "start_time": "2022-11-02T14:52:43.857Z"
   },
   {
    "duration": 134,
    "start_time": "2022-11-02T14:55:14.484Z"
   },
   {
    "duration": 398,
    "start_time": "2022-11-02T14:55:19.877Z"
   },
   {
    "duration": 14,
    "start_time": "2022-11-02T14:55:34.833Z"
   },
   {
    "duration": 1395,
    "start_time": "2022-11-02T14:55:52.927Z"
   },
   {
    "duration": 13,
    "start_time": "2022-11-02T14:56:22.700Z"
   },
   {
    "duration": 11,
    "start_time": "2022-11-02T14:56:39.135Z"
   },
   {
    "duration": 6259,
    "start_time": "2022-11-02T14:57:18.843Z"
   },
   {
    "duration": 698,
    "start_time": "2022-11-02T14:57:29.243Z"
   },
   {
    "duration": 10,
    "start_time": "2022-11-02T14:58:04.833Z"
   },
   {
    "duration": 1871,
    "start_time": "2022-11-02T14:58:28.358Z"
   },
   {
    "duration": 1173,
    "start_time": "2022-11-02T14:58:30.231Z"
   },
   {
    "duration": 0,
    "start_time": "2022-11-02T14:58:31.407Z"
   },
   {
    "duration": 0,
    "start_time": "2022-11-02T14:58:31.408Z"
   },
   {
    "duration": 0,
    "start_time": "2022-11-02T14:58:31.409Z"
   },
   {
    "duration": 0,
    "start_time": "2022-11-02T14:58:31.411Z"
   },
   {
    "duration": 0,
    "start_time": "2022-11-02T14:58:31.412Z"
   },
   {
    "duration": 0,
    "start_time": "2022-11-02T14:58:31.412Z"
   },
   {
    "duration": 0,
    "start_time": "2022-11-02T14:58:31.414Z"
   },
   {
    "duration": 0,
    "start_time": "2022-11-02T14:58:31.415Z"
   },
   {
    "duration": 0,
    "start_time": "2022-11-02T14:58:31.416Z"
   },
   {
    "duration": 0,
    "start_time": "2022-11-02T14:58:31.416Z"
   },
   {
    "duration": 0,
    "start_time": "2022-11-02T14:58:31.417Z"
   },
   {
    "duration": 0,
    "start_time": "2022-11-02T14:58:31.418Z"
   },
   {
    "duration": 0,
    "start_time": "2022-11-02T14:58:31.419Z"
   },
   {
    "duration": 0,
    "start_time": "2022-11-02T14:58:31.420Z"
   },
   {
    "duration": 0,
    "start_time": "2022-11-02T14:58:31.421Z"
   },
   {
    "duration": 0,
    "start_time": "2022-11-02T14:58:31.423Z"
   },
   {
    "duration": 0,
    "start_time": "2022-11-02T14:58:31.424Z"
   },
   {
    "duration": 0,
    "start_time": "2022-11-02T14:58:31.425Z"
   },
   {
    "duration": 0,
    "start_time": "2022-11-02T14:58:31.426Z"
   },
   {
    "duration": 0,
    "start_time": "2022-11-02T14:58:31.427Z"
   },
   {
    "duration": 0,
    "start_time": "2022-11-02T14:58:31.428Z"
   },
   {
    "duration": 0,
    "start_time": "2022-11-02T14:58:31.429Z"
   },
   {
    "duration": 0,
    "start_time": "2022-11-02T14:58:31.430Z"
   },
   {
    "duration": 0,
    "start_time": "2022-11-02T14:58:31.431Z"
   },
   {
    "duration": 0,
    "start_time": "2022-11-02T14:58:31.432Z"
   },
   {
    "duration": 0,
    "start_time": "2022-11-02T14:58:31.433Z"
   },
   {
    "duration": 0,
    "start_time": "2022-11-02T14:58:31.434Z"
   },
   {
    "duration": 0,
    "start_time": "2022-11-02T14:58:31.435Z"
   },
   {
    "duration": 0,
    "start_time": "2022-11-02T14:58:31.477Z"
   },
   {
    "duration": 0,
    "start_time": "2022-11-02T14:58:31.478Z"
   },
   {
    "duration": 0,
    "start_time": "2022-11-02T14:58:31.479Z"
   },
   {
    "duration": 0,
    "start_time": "2022-11-02T14:58:31.480Z"
   },
   {
    "duration": 0,
    "start_time": "2022-11-02T14:58:31.483Z"
   },
   {
    "duration": 0,
    "start_time": "2022-11-02T14:58:31.484Z"
   },
   {
    "duration": 0,
    "start_time": "2022-11-02T14:58:31.488Z"
   },
   {
    "duration": 0,
    "start_time": "2022-11-02T14:58:31.489Z"
   },
   {
    "duration": 0,
    "start_time": "2022-11-02T14:58:31.490Z"
   },
   {
    "duration": 0,
    "start_time": "2022-11-02T14:58:31.492Z"
   },
   {
    "duration": 0,
    "start_time": "2022-11-02T14:58:31.493Z"
   },
   {
    "duration": 0,
    "start_time": "2022-11-02T14:58:31.494Z"
   },
   {
    "duration": 0,
    "start_time": "2022-11-02T14:58:31.496Z"
   },
   {
    "duration": 0,
    "start_time": "2022-11-02T14:58:31.497Z"
   },
   {
    "duration": 0,
    "start_time": "2022-11-02T14:58:31.498Z"
   },
   {
    "duration": 0,
    "start_time": "2022-11-02T14:58:31.499Z"
   },
   {
    "duration": 0,
    "start_time": "2022-11-02T14:58:31.500Z"
   },
   {
    "duration": 0,
    "start_time": "2022-11-02T14:58:31.501Z"
   },
   {
    "duration": 0,
    "start_time": "2022-11-02T14:58:31.503Z"
   },
   {
    "duration": 0,
    "start_time": "2022-11-02T14:58:31.504Z"
   },
   {
    "duration": 0,
    "start_time": "2022-11-02T14:58:31.505Z"
   },
   {
    "duration": 0,
    "start_time": "2022-11-02T14:58:31.506Z"
   },
   {
    "duration": 0,
    "start_time": "2022-11-02T14:58:31.508Z"
   },
   {
    "duration": 0,
    "start_time": "2022-11-02T14:58:31.509Z"
   },
   {
    "duration": 0,
    "start_time": "2022-11-02T14:58:31.510Z"
   },
   {
    "duration": 0,
    "start_time": "2022-11-02T14:58:31.511Z"
   },
   {
    "duration": 0,
    "start_time": "2022-11-02T14:58:31.513Z"
   },
   {
    "duration": 0,
    "start_time": "2022-11-02T14:58:31.515Z"
   },
   {
    "duration": 0,
    "start_time": "2022-11-02T14:58:31.516Z"
   },
   {
    "duration": 0,
    "start_time": "2022-11-02T14:58:31.517Z"
   },
   {
    "duration": 0,
    "start_time": "2022-11-02T14:58:31.518Z"
   },
   {
    "duration": 0,
    "start_time": "2022-11-02T14:58:31.519Z"
   },
   {
    "duration": 0,
    "start_time": "2022-11-02T14:58:31.520Z"
   },
   {
    "duration": 0,
    "start_time": "2022-11-02T14:58:31.521Z"
   },
   {
    "duration": 0,
    "start_time": "2022-11-02T14:58:31.584Z"
   },
   {
    "duration": 0,
    "start_time": "2022-11-02T14:58:31.585Z"
   },
   {
    "duration": 0,
    "start_time": "2022-11-02T14:58:31.585Z"
   },
   {
    "duration": 0,
    "start_time": "2022-11-02T14:58:31.586Z"
   },
   {
    "duration": 0,
    "start_time": "2022-11-02T14:58:31.586Z"
   },
   {
    "duration": 0,
    "start_time": "2022-11-02T14:58:31.587Z"
   },
   {
    "duration": 0,
    "start_time": "2022-11-02T14:58:31.587Z"
   },
   {
    "duration": 0,
    "start_time": "2022-11-02T14:58:31.588Z"
   },
   {
    "duration": 0,
    "start_time": "2022-11-02T14:58:31.589Z"
   },
   {
    "duration": 0,
    "start_time": "2022-11-02T14:58:31.589Z"
   },
   {
    "duration": 0,
    "start_time": "2022-11-02T14:58:31.592Z"
   },
   {
    "duration": 0,
    "start_time": "2022-11-02T14:58:31.592Z"
   },
   {
    "duration": 0,
    "start_time": "2022-11-02T14:58:31.593Z"
   },
   {
    "duration": 0,
    "start_time": "2022-11-02T14:58:31.594Z"
   },
   {
    "duration": 120,
    "start_time": "2022-11-02T14:58:49.226Z"
   },
   {
    "duration": 1165,
    "start_time": "2022-11-02T14:58:55.540Z"
   },
   {
    "duration": 3,
    "start_time": "2022-11-02T14:59:19.538Z"
   },
   {
    "duration": 76,
    "start_time": "2022-11-02T14:59:19.543Z"
   },
   {
    "duration": 19,
    "start_time": "2022-11-02T14:59:19.620Z"
   },
   {
    "duration": 13,
    "start_time": "2022-11-02T14:59:19.641Z"
   },
   {
    "duration": 33,
    "start_time": "2022-11-02T14:59:19.655Z"
   },
   {
    "duration": 858,
    "start_time": "2022-11-02T14:59:19.690Z"
   },
   {
    "duration": 6,
    "start_time": "2022-11-02T14:59:20.550Z"
   },
   {
    "duration": 9,
    "start_time": "2022-11-02T14:59:20.557Z"
   },
   {
    "duration": 14,
    "start_time": "2022-11-02T14:59:20.577Z"
   },
   {
    "duration": 8,
    "start_time": "2022-11-02T14:59:20.594Z"
   },
   {
    "duration": 8,
    "start_time": "2022-11-02T14:59:20.603Z"
   },
   {
    "duration": 6,
    "start_time": "2022-11-02T14:59:20.612Z"
   },
   {
    "duration": 6,
    "start_time": "2022-11-02T14:59:20.619Z"
   },
   {
    "duration": 6,
    "start_time": "2022-11-02T14:59:20.627Z"
   },
   {
    "duration": 6,
    "start_time": "2022-11-02T14:59:20.634Z"
   },
   {
    "duration": 14,
    "start_time": "2022-11-02T14:59:20.641Z"
   },
   {
    "duration": 5,
    "start_time": "2022-11-02T14:59:20.656Z"
   },
   {
    "duration": 27,
    "start_time": "2022-11-02T14:59:20.662Z"
   },
   {
    "duration": 11,
    "start_time": "2022-11-02T14:59:20.691Z"
   },
   {
    "duration": 14,
    "start_time": "2022-11-02T14:59:20.703Z"
   },
   {
    "duration": 5,
    "start_time": "2022-11-02T14:59:20.718Z"
   },
   {
    "duration": 8,
    "start_time": "2022-11-02T14:59:20.725Z"
   },
   {
    "duration": 5,
    "start_time": "2022-11-02T14:59:20.735Z"
   },
   {
    "duration": 11,
    "start_time": "2022-11-02T14:59:20.741Z"
   },
   {
    "duration": 5,
    "start_time": "2022-11-02T14:59:20.754Z"
   },
   {
    "duration": 22,
    "start_time": "2022-11-02T14:59:20.761Z"
   },
   {
    "duration": 4,
    "start_time": "2022-11-02T14:59:20.784Z"
   },
   {
    "duration": 17,
    "start_time": "2022-11-02T14:59:20.792Z"
   },
   {
    "duration": 5,
    "start_time": "2022-11-02T14:59:20.811Z"
   },
   {
    "duration": 5,
    "start_time": "2022-11-02T14:59:20.818Z"
   },
   {
    "duration": 55,
    "start_time": "2022-11-02T14:59:20.825Z"
   },
   {
    "duration": 11,
    "start_time": "2022-11-02T14:59:20.881Z"
   },
   {
    "duration": 8,
    "start_time": "2022-11-02T14:59:20.895Z"
   },
   {
    "duration": 16,
    "start_time": "2022-11-02T14:59:20.905Z"
   },
   {
    "duration": 9,
    "start_time": "2022-11-02T14:59:20.923Z"
   },
   {
    "duration": 8,
    "start_time": "2022-11-02T14:59:20.934Z"
   },
   {
    "duration": 11,
    "start_time": "2022-11-02T14:59:20.944Z"
   },
   {
    "duration": 6,
    "start_time": "2022-11-02T14:59:20.957Z"
   },
   {
    "duration": 96,
    "start_time": "2022-11-02T14:59:20.964Z"
   },
   {
    "duration": 76,
    "start_time": "2022-11-02T14:59:30.274Z"
   },
   {
    "duration": 379,
    "start_time": "2022-11-02T14:59:30.940Z"
   },
   {
    "duration": 80,
    "start_time": "2022-11-02T15:02:27.375Z"
   },
   {
    "duration": 2077,
    "start_time": "2022-11-02T15:02:31.477Z"
   },
   {
    "duration": 685,
    "start_time": "2022-11-02T15:03:12.565Z"
   },
   {
    "duration": 4,
    "start_time": "2022-11-02T15:06:41.706Z"
   },
   {
    "duration": 4,
    "start_time": "2022-11-02T15:06:45.111Z"
   },
   {
    "duration": 1072,
    "start_time": "2022-11-02T15:07:26.722Z"
   },
   {
    "duration": 72,
    "start_time": "2022-11-02T15:07:27.797Z"
   },
   {
    "duration": 24,
    "start_time": "2022-11-02T15:07:27.871Z"
   },
   {
    "duration": 33,
    "start_time": "2022-11-02T15:07:27.897Z"
   },
   {
    "duration": 33,
    "start_time": "2022-11-02T15:07:27.932Z"
   },
   {
    "duration": 825,
    "start_time": "2022-11-02T15:07:27.967Z"
   },
   {
    "duration": 6,
    "start_time": "2022-11-02T15:07:28.794Z"
   },
   {
    "duration": 9,
    "start_time": "2022-11-02T15:07:28.801Z"
   },
   {
    "duration": 9,
    "start_time": "2022-11-02T15:07:28.811Z"
   },
   {
    "duration": 11,
    "start_time": "2022-11-02T15:07:28.822Z"
   },
   {
    "duration": 7,
    "start_time": "2022-11-02T15:07:28.834Z"
   },
   {
    "duration": 7,
    "start_time": "2022-11-02T15:07:28.842Z"
   },
   {
    "duration": 8,
    "start_time": "2022-11-02T15:07:28.850Z"
   },
   {
    "duration": 5,
    "start_time": "2022-11-02T15:07:28.860Z"
   },
   {
    "duration": 6,
    "start_time": "2022-11-02T15:07:28.867Z"
   },
   {
    "duration": 16,
    "start_time": "2022-11-02T15:07:28.883Z"
   },
   {
    "duration": 7,
    "start_time": "2022-11-02T15:07:28.900Z"
   },
   {
    "duration": 13,
    "start_time": "2022-11-02T15:07:28.908Z"
   },
   {
    "duration": 6,
    "start_time": "2022-11-02T15:07:28.922Z"
   },
   {
    "duration": 13,
    "start_time": "2022-11-02T15:07:28.930Z"
   },
   {
    "duration": 6,
    "start_time": "2022-11-02T15:07:28.945Z"
   },
   {
    "duration": 10,
    "start_time": "2022-11-02T15:07:28.953Z"
   },
   {
    "duration": 21,
    "start_time": "2022-11-02T15:07:28.965Z"
   },
   {
    "duration": 9,
    "start_time": "2022-11-02T15:07:28.988Z"
   },
   {
    "duration": 4,
    "start_time": "2022-11-02T15:07:28.999Z"
   },
   {
    "duration": 7,
    "start_time": "2022-11-02T15:07:29.005Z"
   },
   {
    "duration": 11,
    "start_time": "2022-11-02T15:07:29.013Z"
   },
   {
    "duration": 16,
    "start_time": "2022-11-02T15:07:29.027Z"
   },
   {
    "duration": 6,
    "start_time": "2022-11-02T15:07:29.045Z"
   },
   {
    "duration": 9,
    "start_time": "2022-11-02T15:07:29.052Z"
   },
   {
    "duration": 34,
    "start_time": "2022-11-02T15:07:29.076Z"
   },
   {
    "duration": 2,
    "start_time": "2022-11-02T15:07:29.111Z"
   },
   {
    "duration": 6,
    "start_time": "2022-11-02T15:07:29.115Z"
   },
   {
    "duration": 10,
    "start_time": "2022-11-02T15:07:29.122Z"
   },
   {
    "duration": 5,
    "start_time": "2022-11-02T15:07:29.134Z"
   },
   {
    "duration": 17,
    "start_time": "2022-11-02T15:07:29.140Z"
   },
   {
    "duration": 24,
    "start_time": "2022-11-02T15:07:29.158Z"
   },
   {
    "duration": 5,
    "start_time": "2022-11-02T15:07:29.183Z"
   },
   {
    "duration": 59,
    "start_time": "2022-11-02T15:07:29.190Z"
   },
   {
    "duration": 39,
    "start_time": "2022-11-02T15:07:32.373Z"
   },
   {
    "duration": 1538,
    "start_time": "2022-11-02T15:07:33.409Z"
   },
   {
    "duration": 7,
    "start_time": "2022-11-02T15:08:17.317Z"
   },
   {
    "duration": 1495,
    "start_time": "2022-11-02T15:08:21.801Z"
   },
   {
    "duration": 266,
    "start_time": "2022-11-02T15:09:36.540Z"
   },
   {
    "duration": 12,
    "start_time": "2022-11-02T15:10:36.601Z"
   },
   {
    "duration": 33,
    "start_time": "2022-11-02T15:11:01.315Z"
   },
   {
    "duration": 1912,
    "start_time": "2022-11-02T15:12:05.158Z"
   },
   {
    "duration": 171,
    "start_time": "2022-11-02T15:12:49.625Z"
   },
   {
    "duration": 38,
    "start_time": "2022-11-02T15:13:35.981Z"
   },
   {
    "duration": 97,
    "start_time": "2022-11-02T15:14:00.056Z"
   },
   {
    "duration": 10,
    "start_time": "2022-11-02T15:14:37.708Z"
   },
   {
    "duration": 130,
    "start_time": "2022-11-02T15:15:01.738Z"
   },
   {
    "duration": 65,
    "start_time": "2022-11-02T15:15:44.828Z"
   },
   {
    "duration": 2,
    "start_time": "2022-11-02T15:15:49.173Z"
   },
   {
    "duration": 87,
    "start_time": "2022-11-02T15:16:16.961Z"
   },
   {
    "duration": 2,
    "start_time": "2022-11-02T15:16:17.637Z"
   },
   {
    "duration": 11,
    "start_time": "2022-11-02T15:16:28.775Z"
   },
   {
    "duration": 3,
    "start_time": "2022-11-02T15:16:29.359Z"
   },
   {
    "duration": 66,
    "start_time": "2022-11-02T15:17:17.557Z"
   },
   {
    "duration": 3,
    "start_time": "2022-11-02T15:17:18.209Z"
   },
   {
    "duration": 60,
    "start_time": "2022-11-02T15:17:31.290Z"
   },
   {
    "duration": 40,
    "start_time": "2022-11-02T15:17:32.318Z"
   },
   {
    "duration": 4,
    "start_time": "2022-11-02T15:17:37.989Z"
   },
   {
    "duration": 12,
    "start_time": "2022-11-02T15:19:00.595Z"
   },
   {
    "duration": 9,
    "start_time": "2022-11-02T15:19:15.897Z"
   },
   {
    "duration": 1482,
    "start_time": "2022-11-02T15:19:55.311Z"
   },
   {
    "duration": 74,
    "start_time": "2022-11-02T15:23:13.656Z"
   },
   {
    "duration": 12,
    "start_time": "2022-11-02T15:23:22.089Z"
   },
   {
    "duration": 80,
    "start_time": "2022-11-02T15:23:28.688Z"
   },
   {
    "duration": 1660,
    "start_time": "2022-11-02T15:23:48.933Z"
   },
   {
    "duration": 1499,
    "start_time": "2022-11-02T15:24:00.191Z"
   },
   {
    "duration": 1673,
    "start_time": "2022-11-02T15:24:07.190Z"
   },
   {
    "duration": 1949,
    "start_time": "2022-11-02T15:24:31.920Z"
   },
   {
    "duration": 1754,
    "start_time": "2022-11-02T15:25:48.750Z"
   },
   {
    "duration": 1865,
    "start_time": "2022-11-02T15:26:32.143Z"
   },
   {
    "duration": 6,
    "start_time": "2022-11-02T16:03:04.064Z"
   },
   {
    "duration": 134,
    "start_time": "2022-11-02T16:03:04.071Z"
   },
   {
    "duration": 10,
    "start_time": "2022-11-02T16:03:04.206Z"
   },
   {
    "duration": 12,
    "start_time": "2022-11-02T16:03:04.218Z"
   },
   {
    "duration": 24,
    "start_time": "2022-11-02T16:03:04.231Z"
   },
   {
    "duration": 564,
    "start_time": "2022-11-02T16:03:04.257Z"
   },
   {
    "duration": 6,
    "start_time": "2022-11-02T16:03:04.823Z"
   },
   {
    "duration": 9,
    "start_time": "2022-11-02T16:03:04.831Z"
   },
   {
    "duration": 3,
    "start_time": "2022-11-02T16:03:04.841Z"
   },
   {
    "duration": 8,
    "start_time": "2022-11-02T16:03:04.846Z"
   },
   {
    "duration": 27,
    "start_time": "2022-11-02T16:03:04.856Z"
   },
   {
    "duration": 4,
    "start_time": "2022-11-02T16:03:04.884Z"
   },
   {
    "duration": 8,
    "start_time": "2022-11-02T16:03:04.890Z"
   },
   {
    "duration": 4,
    "start_time": "2022-11-02T16:03:07.846Z"
   },
   {
    "duration": 5,
    "start_time": "2022-11-02T16:03:10.785Z"
   },
   {
    "duration": 11,
    "start_time": "2022-11-02T16:03:14.979Z"
   },
   {
    "duration": 1342,
    "start_time": "2022-11-02T16:32:43.244Z"
   },
   {
    "duration": 68,
    "start_time": "2022-11-02T16:32:44.588Z"
   },
   {
    "duration": 13,
    "start_time": "2022-11-02T16:32:44.658Z"
   },
   {
    "duration": 9,
    "start_time": "2022-11-02T16:32:44.673Z"
   },
   {
    "duration": 26,
    "start_time": "2022-11-02T16:32:44.683Z"
   },
   {
    "duration": 544,
    "start_time": "2022-11-02T16:32:44.710Z"
   },
   {
    "duration": 5,
    "start_time": "2022-11-02T16:32:45.256Z"
   },
   {
    "duration": 18,
    "start_time": "2022-11-02T16:32:45.262Z"
   },
   {
    "duration": 5,
    "start_time": "2022-11-02T16:32:45.281Z"
   },
   {
    "duration": 19,
    "start_time": "2022-11-02T16:32:45.290Z"
   },
   {
    "duration": 4,
    "start_time": "2022-11-02T16:32:45.311Z"
   },
   {
    "duration": 6,
    "start_time": "2022-11-02T16:32:45.316Z"
   },
   {
    "duration": 7,
    "start_time": "2022-11-02T16:32:45.323Z"
   },
   {
    "duration": 6,
    "start_time": "2022-11-02T16:32:45.331Z"
   },
   {
    "duration": 75,
    "start_time": "2022-11-02T16:32:45.338Z"
   },
   {
    "duration": 13,
    "start_time": "2022-11-02T16:32:45.415Z"
   },
   {
    "duration": 10,
    "start_time": "2022-11-02T16:32:45.429Z"
   },
   {
    "duration": 14,
    "start_time": "2022-11-02T16:32:45.440Z"
   },
   {
    "duration": 9,
    "start_time": "2022-11-02T16:32:45.455Z"
   },
   {
    "duration": 14,
    "start_time": "2022-11-02T16:32:45.465Z"
   },
   {
    "duration": 4,
    "start_time": "2022-11-02T16:32:45.481Z"
   },
   {
    "duration": 9,
    "start_time": "2022-11-02T16:32:45.486Z"
   },
   {
    "duration": 5,
    "start_time": "2022-11-02T16:32:45.496Z"
   },
   {
    "duration": 8,
    "start_time": "2022-11-02T16:32:45.502Z"
   },
   {
    "duration": 11,
    "start_time": "2022-11-02T16:32:45.511Z"
   },
   {
    "duration": 7,
    "start_time": "2022-11-02T16:32:45.524Z"
   },
   {
    "duration": 9,
    "start_time": "2022-11-02T16:32:45.533Z"
   },
   {
    "duration": 13,
    "start_time": "2022-11-02T16:32:45.545Z"
   },
   {
    "duration": 4,
    "start_time": "2022-11-02T16:32:45.559Z"
   },
   {
    "duration": 13,
    "start_time": "2022-11-02T16:32:45.565Z"
   },
   {
    "duration": 28,
    "start_time": "2022-11-02T16:32:45.579Z"
   },
   {
    "duration": 2,
    "start_time": "2022-11-02T16:32:45.608Z"
   },
   {
    "duration": 7,
    "start_time": "2022-11-02T16:32:45.612Z"
   },
   {
    "duration": 10,
    "start_time": "2022-11-02T16:32:45.620Z"
   },
   {
    "duration": 5,
    "start_time": "2022-11-02T16:32:45.631Z"
   },
   {
    "duration": 4,
    "start_time": "2022-11-02T16:32:45.637Z"
   },
   {
    "duration": 9,
    "start_time": "2022-11-02T16:32:45.643Z"
   },
   {
    "duration": 24,
    "start_time": "2022-11-02T16:32:45.653Z"
   },
   {
    "duration": 58,
    "start_time": "2022-11-02T16:32:45.678Z"
   },
   {
    "duration": 30,
    "start_time": "2022-11-02T16:32:45.737Z"
   },
   {
    "duration": 31,
    "start_time": "2022-11-02T16:32:45.768Z"
   },
   {
    "duration": 2,
    "start_time": "2022-11-02T16:32:45.801Z"
   },
   {
    "duration": 47059,
    "start_time": "2022-11-02T16:32:45.804Z"
   },
   {
    "duration": 2,
    "start_time": "2022-11-02T16:33:32.865Z"
   },
   {
    "duration": 9,
    "start_time": "2022-11-02T16:33:32.868Z"
   },
   {
    "duration": 14,
    "start_time": "2022-11-02T16:33:32.878Z"
   },
   {
    "duration": 12,
    "start_time": "2022-11-02T16:33:32.893Z"
   },
   {
    "duration": 3,
    "start_time": "2022-11-02T16:33:32.907Z"
   },
   {
    "duration": 116,
    "start_time": "2022-11-02T16:33:32.911Z"
   },
   {
    "duration": 15,
    "start_time": "2022-11-02T16:33:33.029Z"
   },
   {
    "duration": 10,
    "start_time": "2022-11-02T16:33:33.045Z"
   },
   {
    "duration": 21,
    "start_time": "2022-11-02T16:33:33.056Z"
   },
   {
    "duration": 2,
    "start_time": "2022-11-02T16:33:33.078Z"
   },
   {
    "duration": 232,
    "start_time": "2022-11-02T16:33:33.081Z"
   },
   {
    "duration": 3,
    "start_time": "2022-11-02T16:33:33.314Z"
   },
   {
    "duration": 10,
    "start_time": "2022-11-02T16:33:33.318Z"
   },
   {
    "duration": 14,
    "start_time": "2022-11-02T16:33:33.329Z"
   },
   {
    "duration": 58,
    "start_time": "2022-11-02T16:33:33.344Z"
   },
   {
    "duration": 3,
    "start_time": "2022-11-02T16:33:33.403Z"
   },
   {
    "duration": 28,
    "start_time": "2022-11-02T16:33:33.407Z"
   },
   {
    "duration": 2,
    "start_time": "2022-11-02T16:33:33.436Z"
   },
   {
    "duration": 6,
    "start_time": "2022-11-02T16:33:33.440Z"
   },
   {
    "duration": 54,
    "start_time": "2022-11-02T16:33:33.447Z"
   },
   {
    "duration": 5,
    "start_time": "2022-11-02T16:33:33.503Z"
   },
   {
    "duration": 4,
    "start_time": "2022-11-02T16:33:33.509Z"
   },
   {
    "duration": 7,
    "start_time": "2022-11-02T16:33:33.515Z"
   },
   {
    "duration": 5,
    "start_time": "2022-11-02T16:33:33.523Z"
   },
   {
    "duration": 14,
    "start_time": "2022-11-02T16:33:33.529Z"
   },
   {
    "duration": 4,
    "start_time": "2022-11-02T16:33:33.544Z"
   },
   {
    "duration": 5,
    "start_time": "2022-11-02T16:33:33.549Z"
   },
   {
    "duration": 670,
    "start_time": "2022-11-02T16:33:33.555Z"
   },
   {
    "duration": 3,
    "start_time": "2022-11-02T16:33:34.227Z"
   },
   {
    "duration": 5,
    "start_time": "2022-11-02T16:33:34.232Z"
   },
   {
    "duration": 375,
    "start_time": "2022-11-02T16:33:34.238Z"
   },
   {
    "duration": 47,
    "start_time": "2022-11-08T06:16:12.259Z"
   },
   {
    "duration": 38,
    "start_time": "2022-11-08T06:16:18.776Z"
   },
   {
    "duration": 1423,
    "start_time": "2022-11-08T06:16:27.600Z"
   },
   {
    "duration": 3,
    "start_time": "2022-11-08T06:16:40.906Z"
   },
   {
    "duration": 1322,
    "start_time": "2022-11-08T06:17:13.125Z"
   },
   {
    "duration": 3,
    "start_time": "2022-11-08T06:17:14.449Z"
   },
   {
    "duration": 112,
    "start_time": "2022-11-08T06:17:14.453Z"
   },
   {
    "duration": 13,
    "start_time": "2022-11-08T06:17:14.567Z"
   },
   {
    "duration": 12,
    "start_time": "2022-11-08T06:17:14.581Z"
   },
   {
    "duration": 22,
    "start_time": "2022-11-08T06:17:14.595Z"
   },
   {
    "duration": 595,
    "start_time": "2022-11-08T06:17:14.618Z"
   },
   {
    "duration": 10,
    "start_time": "2022-11-08T06:17:15.215Z"
   },
   {
    "duration": 15,
    "start_time": "2022-11-08T06:17:15.226Z"
   },
   {
    "duration": 5,
    "start_time": "2022-11-08T06:17:15.244Z"
   },
   {
    "duration": 6,
    "start_time": "2022-11-08T06:17:15.250Z"
   },
   {
    "duration": 10,
    "start_time": "2022-11-08T06:17:15.258Z"
   },
   {
    "duration": 11,
    "start_time": "2022-11-08T06:17:15.270Z"
   },
   {
    "duration": 5,
    "start_time": "2022-11-08T06:17:15.283Z"
   },
   {
    "duration": 7,
    "start_time": "2022-11-08T06:17:15.290Z"
   },
   {
    "duration": 88,
    "start_time": "2022-11-08T06:17:15.299Z"
   },
   {
    "duration": 19,
    "start_time": "2022-11-08T06:17:15.389Z"
   },
   {
    "duration": 5,
    "start_time": "2022-11-08T06:17:15.411Z"
   },
   {
    "duration": 18,
    "start_time": "2022-11-08T06:17:15.418Z"
   },
   {
    "duration": 4,
    "start_time": "2022-11-08T06:17:15.447Z"
   },
   {
    "duration": 14,
    "start_time": "2022-11-08T06:17:15.453Z"
   },
   {
    "duration": 17,
    "start_time": "2022-11-08T06:17:15.469Z"
   },
   {
    "duration": 13,
    "start_time": "2022-11-08T06:17:15.488Z"
   },
   {
    "duration": 5,
    "start_time": "2022-11-08T06:17:15.505Z"
   },
   {
    "duration": 18,
    "start_time": "2022-11-08T06:17:15.512Z"
   },
   {
    "duration": 9,
    "start_time": "2022-11-08T06:17:15.532Z"
   },
   {
    "duration": 10,
    "start_time": "2022-11-08T06:17:15.543Z"
   },
   {
    "duration": 7,
    "start_time": "2022-11-08T06:17:15.557Z"
   },
   {
    "duration": 26,
    "start_time": "2022-11-08T06:17:15.567Z"
   },
   {
    "duration": 37,
    "start_time": "2022-11-08T06:17:15.595Z"
   },
   {
    "duration": 12,
    "start_time": "2022-11-08T06:17:15.648Z"
   },
   {
    "duration": 14,
    "start_time": "2022-11-08T06:17:15.661Z"
   },
   {
    "duration": 108,
    "start_time": "2022-11-08T06:17:17.712Z"
   },
   {
    "duration": 12,
    "start_time": "2022-11-08T06:19:08.739Z"
   },
   {
    "duration": 14,
    "start_time": "2022-11-08T06:19:36.430Z"
   },
   {
    "duration": 6,
    "start_time": "2022-11-08T06:23:23.975Z"
   },
   {
    "duration": 3,
    "start_time": "2022-11-08T06:23:36.029Z"
   },
   {
    "duration": 3071,
    "start_time": "2022-11-08T06:24:25.770Z"
   },
   {
    "duration": 4,
    "start_time": "2022-11-08T06:24:42.397Z"
   },
   {
    "duration": 2,
    "start_time": "2022-11-08T06:24:56.557Z"
   },
   {
    "duration": 821,
    "start_time": "2022-11-08T06:25:02.057Z"
   },
   {
    "duration": 2121,
    "start_time": "2022-11-08T06:25:52.210Z"
   },
   {
    "duration": 2,
    "start_time": "2022-11-08T06:26:19.073Z"
   },
   {
    "duration": 1288,
    "start_time": "2022-11-08T06:39:40.442Z"
   },
   {
    "duration": 3,
    "start_time": "2022-11-08T06:39:41.732Z"
   },
   {
    "duration": 52,
    "start_time": "2022-11-08T06:39:41.736Z"
   },
   {
    "duration": 14,
    "start_time": "2022-11-08T06:39:41.790Z"
   },
   {
    "duration": 9,
    "start_time": "2022-11-08T06:39:41.806Z"
   },
   {
    "duration": 22,
    "start_time": "2022-11-08T06:39:41.817Z"
   },
   {
    "duration": 558,
    "start_time": "2022-11-08T06:39:41.841Z"
   },
   {
    "duration": 6,
    "start_time": "2022-11-08T06:39:42.401Z"
   },
   {
    "duration": 8,
    "start_time": "2022-11-08T06:39:42.408Z"
   },
   {
    "duration": 3,
    "start_time": "2022-11-08T06:39:42.418Z"
   },
   {
    "duration": 26,
    "start_time": "2022-11-08T06:39:42.422Z"
   },
   {
    "duration": 4,
    "start_time": "2022-11-08T06:39:42.450Z"
   },
   {
    "duration": 6,
    "start_time": "2022-11-08T06:39:42.456Z"
   },
   {
    "duration": 16,
    "start_time": "2022-11-08T06:39:42.463Z"
   },
   {
    "duration": 4,
    "start_time": "2022-11-08T06:39:42.481Z"
   },
   {
    "duration": 69,
    "start_time": "2022-11-08T06:39:42.486Z"
   },
   {
    "duration": 12,
    "start_time": "2022-11-08T06:39:42.557Z"
   },
   {
    "duration": 6,
    "start_time": "2022-11-08T06:39:42.570Z"
   },
   {
    "duration": 12,
    "start_time": "2022-11-08T06:39:42.577Z"
   },
   {
    "duration": 4,
    "start_time": "2022-11-08T06:39:42.591Z"
   },
   {
    "duration": 10,
    "start_time": "2022-11-08T06:39:42.596Z"
   },
   {
    "duration": 7,
    "start_time": "2022-11-08T06:39:42.607Z"
   },
   {
    "duration": 8,
    "start_time": "2022-11-08T06:39:42.616Z"
   },
   {
    "duration": 14,
    "start_time": "2022-11-08T06:39:42.626Z"
   },
   {
    "duration": 8,
    "start_time": "2022-11-08T06:39:42.641Z"
   },
   {
    "duration": 4,
    "start_time": "2022-11-08T06:39:42.651Z"
   },
   {
    "duration": 12,
    "start_time": "2022-11-08T06:39:42.657Z"
   },
   {
    "duration": 4,
    "start_time": "2022-11-08T06:39:42.672Z"
   },
   {
    "duration": 18,
    "start_time": "2022-11-08T06:39:42.678Z"
   },
   {
    "duration": 28,
    "start_time": "2022-11-08T06:39:42.698Z"
   },
   {
    "duration": 29,
    "start_time": "2022-11-08T06:39:42.728Z"
   },
   {
    "duration": 18,
    "start_time": "2022-11-08T06:39:42.759Z"
   },
   {
    "duration": 2,
    "start_time": "2022-11-08T06:39:42.779Z"
   },
   {
    "duration": 1941,
    "start_time": "2022-11-08T06:39:42.782Z"
   },
   {
    "duration": 47,
    "start_time": "2022-11-08T06:39:44.724Z"
   },
   {
    "duration": 19,
    "start_time": "2022-11-08T06:39:44.773Z"
   },
   {
    "duration": 33,
    "start_time": "2022-11-08T06:39:44.794Z"
   },
   {
    "duration": 2,
    "start_time": "2022-11-08T06:39:44.829Z"
   },
   {
    "duration": 76268,
    "start_time": "2022-11-08T06:39:44.833Z"
   },
   {
    "duration": 3,
    "start_time": "2022-11-08T06:41:01.102Z"
   },
   {
    "duration": 23,
    "start_time": "2022-11-08T06:41:01.107Z"
   },
   {
    "duration": 31,
    "start_time": "2022-11-08T06:41:01.131Z"
   },
   {
    "duration": 14,
    "start_time": "2022-11-08T06:41:01.163Z"
   },
   {
    "duration": 483,
    "start_time": "2022-11-08T06:41:01.179Z"
   },
   {
    "duration": 535,
    "start_time": "2022-11-08T06:41:01.664Z"
   },
   {
    "duration": 173,
    "start_time": "2022-11-08T06:41:02.201Z"
   },
   {
    "duration": 58,
    "start_time": "2022-11-08T06:41:02.375Z"
   },
   {
    "duration": 63,
    "start_time": "2022-11-08T06:41:02.447Z"
   },
   {
    "duration": 18,
    "start_time": "2022-11-08T06:41:02.512Z"
   },
   {
    "duration": 34,
    "start_time": "2022-11-08T06:41:02.547Z"
   },
   {
    "duration": 2,
    "start_time": "2022-11-08T06:41:02.583Z"
   },
   {
    "duration": 76,
    "start_time": "2022-11-08T06:41:02.586Z"
   },
   {
    "duration": 3,
    "start_time": "2022-11-08T06:41:02.663Z"
   },
   {
    "duration": 74,
    "start_time": "2022-11-08T06:41:02.667Z"
   },
   {
    "duration": 33,
    "start_time": "2022-11-08T06:41:02.743Z"
   },
   {
    "duration": 18,
    "start_time": "2022-11-08T06:41:02.778Z"
   },
   {
    "duration": 60,
    "start_time": "2022-11-08T06:41:02.798Z"
   },
   {
    "duration": 4,
    "start_time": "2022-11-08T06:41:02.859Z"
   },
   {
    "duration": 32,
    "start_time": "2022-11-08T06:41:02.865Z"
   },
   {
    "duration": 5,
    "start_time": "2022-11-08T06:41:02.899Z"
   },
   {
    "duration": 20,
    "start_time": "2022-11-08T06:41:02.905Z"
   },
   {
    "duration": 6,
    "start_time": "2022-11-08T06:41:02.927Z"
   },
   {
    "duration": 10,
    "start_time": "2022-11-08T06:41:02.935Z"
   },
   {
    "duration": 2557,
    "start_time": "2022-11-08T06:41:02.947Z"
   },
   {
    "duration": 3,
    "start_time": "2022-11-08T06:41:05.506Z"
   },
   {
    "duration": 8,
    "start_time": "2022-11-08T06:41:05.510Z"
   },
   {
    "duration": 1404,
    "start_time": "2022-11-08T06:41:05.520Z"
   }
  ],
  "kernelspec": {
   "display_name": "Python 3 (ipykernel)",
   "language": "python",
   "name": "python3"
  },
  "language_info": {
   "codemirror_mode": {
    "name": "ipython",
    "version": 3
   },
   "file_extension": ".py",
   "mimetype": "text/x-python",
   "name": "python",
   "nbconvert_exporter": "python",
   "pygments_lexer": "ipython3",
   "version": "3.9.16"
  },
  "toc": {
   "base_numbering": 1,
   "nav_menu": {},
   "number_sections": true,
   "sideBar": true,
   "skip_h1_title": true,
   "title_cell": "Table of Contents",
   "title_sidebar": "Contents",
   "toc_cell": false,
   "toc_position": {},
   "toc_section_display": true,
   "toc_window_display": false
  }
 },
 "nbformat": 4,
 "nbformat_minor": 2
}
